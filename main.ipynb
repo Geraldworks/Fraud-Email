{
 "cells": [
  {
   "cell_type": "code",
   "execution_count": 1,
   "metadata": {},
   "outputs": [
    {
     "name": "stderr",
     "output_type": "stream",
     "text": [
      "/Users/geraldho/Desktop/BT4012/Project/Fraud-Email/.venv/lib/python3.11/site-packages/sentence_transformers/cross_encoder/CrossEncoder.py:13: TqdmWarning: IProgress not found. Please update jupyter and ipywidgets. See https://ipywidgets.readthedocs.io/en/stable/user_install.html\n",
      "  from tqdm.autonotebook import tqdm, trange\n"
     ]
    }
   ],
   "source": [
    "import pandas as pd\n",
    "import numpy as np\n",
    "import os\n",
    "\n",
    "# data visualisation\n",
    "import matplotlib.pyplot as plt\n",
    "import seaborn as sns\n",
    "\n",
    "# preprocessing text\n",
    "import nltk\n",
    "import re\n",
    "import ssl\n",
    "from nltk.corpus import stopwords\n",
    "from nltk.tokenize import word_tokenize\n",
    "from nltk.stem import WordNetLemmatizer\n",
    "\n",
    "# train test split\n",
    "from sklearn.model_selection import train_test_split\n",
    "\n",
    "# feature engineering\n",
    "from sklearn.feature_extraction.text import CountVectorizer, TfidfVectorizer\n",
    "from gensim.models import Word2Vec\n",
    "from sentence_transformers import SentenceTransformer\n",
    "from scipy.stats import chi2_contingency, ttest_ind\n",
    "from sklearn.preprocessing import OneHotEncoder\n",
    "from sklearn.feature_selection import VarianceThreshold\n",
    "\n",
    "# modelling\n",
    "from sklearn.metrics import (\n",
    "    classification_report,\n",
    "    accuracy_score,\n",
    "    roc_auc_score,\n",
    "    roc_curve,\n",
    "    confusion_matrix,\n",
    ")\n",
    "from sklearn.feature_extraction.text import CountVectorizer\n",
    "from sklearn.svm import SVC\n",
    "from sklearn.ensemble import RandomForestClassifier\n",
    "from sklearn.neural_network import MLPClassifier"
   ]
  },
  {
   "cell_type": "markdown",
   "metadata": {},
   "source": [
    "## Reading Data"
   ]
  },
  {
   "cell_type": "code",
   "execution_count": 2,
   "metadata": {},
   "outputs": [
    {
     "data": {
      "text/plain": [
       "(39154, 7)"
      ]
     },
     "execution_count": 2,
     "metadata": {},
     "output_type": "execute_result"
    }
   ],
   "source": [
    "df = pd.read_csv(\"./data/Phish_No_More.csv\")\n",
    "df.shape"
   ]
  },
  {
   "cell_type": "code",
   "execution_count": 3,
   "metadata": {},
   "outputs": [],
   "source": [
    "SEED = 42"
   ]
  },
  {
   "cell_type": "code",
   "execution_count": 4,
   "metadata": {},
   "outputs": [
    {
     "data": {
      "text/html": [
       "<div>\n",
       "<style scoped>\n",
       "    .dataframe tbody tr th:only-of-type {\n",
       "        vertical-align: middle;\n",
       "    }\n",
       "\n",
       "    .dataframe tbody tr th {\n",
       "        vertical-align: top;\n",
       "    }\n",
       "\n",
       "    .dataframe thead th {\n",
       "        text-align: right;\n",
       "    }\n",
       "</style>\n",
       "<table border=\"1\" class=\"dataframe\">\n",
       "  <thead>\n",
       "    <tr style=\"text-align: right;\">\n",
       "      <th></th>\n",
       "      <th>sender</th>\n",
       "      <th>receiver</th>\n",
       "      <th>date</th>\n",
       "      <th>subject</th>\n",
       "      <th>body</th>\n",
       "      <th>label</th>\n",
       "      <th>urls</th>\n",
       "    </tr>\n",
       "  </thead>\n",
       "  <tbody>\n",
       "    <tr>\n",
       "      <th>0</th>\n",
       "      <td>Young Esposito &lt;Young@iworld.de&gt;</td>\n",
       "      <td>user4@gvc.ceas-challenge.cc</td>\n",
       "      <td>Tue, 05 Aug 2008 16:31:02 -0700</td>\n",
       "      <td>Never agree to be a loser</td>\n",
       "      <td>Buck up, your troubles caused by small dimensi...</td>\n",
       "      <td>1</td>\n",
       "      <td>1</td>\n",
       "    </tr>\n",
       "    <tr>\n",
       "      <th>1</th>\n",
       "      <td>Mok &lt;ipline's1983@icable.ph&gt;</td>\n",
       "      <td>user2.2@gvc.ceas-challenge.cc</td>\n",
       "      <td>Tue, 05 Aug 2008 18:31:03 -0500</td>\n",
       "      <td>Befriend Jenna Jameson</td>\n",
       "      <td>\\nUpgrade your sex and pleasures with these te...</td>\n",
       "      <td>1</td>\n",
       "      <td>1</td>\n",
       "    </tr>\n",
       "    <tr>\n",
       "      <th>2</th>\n",
       "      <td>Daily Top 10 &lt;Karmandeep-opengevl@universalnet...</td>\n",
       "      <td>user2.9@gvc.ceas-challenge.cc</td>\n",
       "      <td>Tue, 05 Aug 2008 20:28:00 -1200</td>\n",
       "      <td>CNN.com Daily Top 10</td>\n",
       "      <td>&gt;+=+=+=+=+=+=+=+=+=+=+=+=+=+=+=+=+=+=+=+=+=+=+...</td>\n",
       "      <td>1</td>\n",
       "      <td>1</td>\n",
       "    </tr>\n",
       "    <tr>\n",
       "      <th>3</th>\n",
       "      <td>Michael Parker &lt;ivqrnai@pobox.com&gt;</td>\n",
       "      <td>SpamAssassin Dev &lt;xrh@spamassassin.apache.org&gt;</td>\n",
       "      <td>Tue, 05 Aug 2008 17:31:20 -0600</td>\n",
       "      <td>Re: svn commit: r619753 - in /spamassassin/tru...</td>\n",
       "      <td>Would anyone object to removing .so from this ...</td>\n",
       "      <td>0</td>\n",
       "      <td>1</td>\n",
       "    </tr>\n",
       "    <tr>\n",
       "      <th>4</th>\n",
       "      <td>Gretchen Suggs &lt;externalsep1@loanofficertool.com&gt;</td>\n",
       "      <td>user2.2@gvc.ceas-challenge.cc</td>\n",
       "      <td>Tue, 05 Aug 2008 19:31:21 -0400</td>\n",
       "      <td>SpecialPricesPharmMoreinfo</td>\n",
       "      <td>\\nWelcomeFastShippingCustomerSupport\\nhttp://7...</td>\n",
       "      <td>1</td>\n",
       "      <td>1</td>\n",
       "    </tr>\n",
       "  </tbody>\n",
       "</table>\n",
       "</div>"
      ],
      "text/plain": [
       "                                              sender  \\\n",
       "0                   Young Esposito <Young@iworld.de>   \n",
       "1                       Mok <ipline's1983@icable.ph>   \n",
       "2  Daily Top 10 <Karmandeep-opengevl@universalnet...   \n",
       "3                 Michael Parker <ivqrnai@pobox.com>   \n",
       "4  Gretchen Suggs <externalsep1@loanofficertool.com>   \n",
       "\n",
       "                                         receiver  \\\n",
       "0                     user4@gvc.ceas-challenge.cc   \n",
       "1                   user2.2@gvc.ceas-challenge.cc   \n",
       "2                   user2.9@gvc.ceas-challenge.cc   \n",
       "3  SpamAssassin Dev <xrh@spamassassin.apache.org>   \n",
       "4                   user2.2@gvc.ceas-challenge.cc   \n",
       "\n",
       "                              date  \\\n",
       "0  Tue, 05 Aug 2008 16:31:02 -0700   \n",
       "1  Tue, 05 Aug 2008 18:31:03 -0500   \n",
       "2  Tue, 05 Aug 2008 20:28:00 -1200   \n",
       "3  Tue, 05 Aug 2008 17:31:20 -0600   \n",
       "4  Tue, 05 Aug 2008 19:31:21 -0400   \n",
       "\n",
       "                                             subject  \\\n",
       "0                          Never agree to be a loser   \n",
       "1                             Befriend Jenna Jameson   \n",
       "2                               CNN.com Daily Top 10   \n",
       "3  Re: svn commit: r619753 - in /spamassassin/tru...   \n",
       "4                         SpecialPricesPharmMoreinfo   \n",
       "\n",
       "                                                body  label  urls  \n",
       "0  Buck up, your troubles caused by small dimensi...      1     1  \n",
       "1  \\nUpgrade your sex and pleasures with these te...      1     1  \n",
       "2  >+=+=+=+=+=+=+=+=+=+=+=+=+=+=+=+=+=+=+=+=+=+=+...      1     1  \n",
       "3  Would anyone object to removing .so from this ...      0     1  \n",
       "4  \\nWelcomeFastShippingCustomerSupport\\nhttp://7...      1     1  "
      ]
     },
     "execution_count": 4,
     "metadata": {},
     "output_type": "execute_result"
    }
   ],
   "source": [
    "df.head()"
   ]
  },
  {
   "cell_type": "markdown",
   "metadata": {},
   "source": [
    "## Cleaning the Data"
   ]
  },
  {
   "cell_type": "code",
   "execution_count": 5,
   "metadata": {},
   "outputs": [],
   "source": [
    "# Splitting 'sender' into 'name' and 'email'\n",
    "df[[\"sender_name\", \"sender_email\"]] = df[\"sender\"].str.extract(\n",
    "    r\"(?P<name>.+?)\\s*<(?P<email>.+?)>\"\n",
    ")\n",
    "\n",
    "# Use the 'str.extract' method to create two new columns based on the pattern\n",
    "df[[\"receiver_name\", \"receiver_email\"]] = df[\"receiver\"].str.extract(\n",
    "    r\"(?:(?P<receiver_name>.*)\\s<)?(?P<receiver_email>[^<>]+)>?\"\n",
    ")\n",
    "\n",
    "# Extracting the domain from 'sender_email'\n",
    "df[\"sender_domain\"] = df[\"sender_email\"].str.extract(r\"@(.+)\", expand=False)\n",
    "\n",
    "# Extracting the domain from 'receiver_email'\n",
    "df[\"receiver_domain\"] = df[\"receiver_email\"].str.extract(r\"@(.+)\", expand=False)"
   ]
  },
  {
   "cell_type": "code",
   "execution_count": 6,
   "metadata": {},
   "outputs": [],
   "source": [
    "# Converting 'date' to datetime format and forcing invalid formats to NaT\n",
    "df[\"date\"] = pd.to_datetime(df[\"date\"], errors=\"coerce\", utc=True)\n",
    "\n",
    "# Dropping rows where 'date' is NaT (i.e., invalid datetime entries)\n",
    "df = df.dropna(subset=[\"date\"])\n",
    "\n",
    "# Extracting year, month, day, hour from the 'date' column\n",
    "df[\"year\"] = df[\"date\"].dt.year\n",
    "df[\"month\"] = df[\"date\"].dt.month\n",
    "df[\"day\"] = df[\"date\"].dt.day\n",
    "df[\"hour\"] = df[\"date\"].dt.hour"
   ]
  },
  {
   "cell_type": "code",
   "execution_count": 7,
   "metadata": {},
   "outputs": [],
   "source": [
    "# Renaming 'urls' column to 'body_contains_url'\n",
    "df.rename(columns={\"urls\": \"body_contains_url\"}, inplace=True)\n",
    "\n",
    "# Renaming 'label' column to 'is_fraud_email'\n",
    "df.rename(columns={\"label\": \"is_fraud_email\"}, inplace=True)"
   ]
  },
  {
   "cell_type": "code",
   "execution_count": 8,
   "metadata": {},
   "outputs": [
    {
     "name": "stdout",
     "output_type": "stream",
     "text": [
      "Columns with null values:\n",
      " receiver             462\n",
      "subject               28\n",
      "sender_name         3454\n",
      "sender_email        3454\n",
      "receiver_name      32048\n",
      "receiver_email       462\n",
      "sender_domain       3456\n",
      "receiver_domain      558\n",
      "dtype: int64\n"
     ]
    }
   ],
   "source": [
    "# Check for null values in the DataFrame\n",
    "null_summary = df.isnull().sum()\n",
    "\n",
    "# Display the columns with null values\n",
    "print(\"Columns with null values:\\n\", null_summary[null_summary > 0])"
   ]
  },
  {
   "cell_type": "code",
   "execution_count": 9,
   "metadata": {},
   "outputs": [],
   "source": [
    "# Drop rows where 'receiver', 'subject', or 'receiver_email' are null\n",
    "df = df.dropna(subset=[\"receiver\", \"subject\", \"receiver_email\"])\n",
    "\n",
    "# Drop the 'receiver_name' column entirely due to high percentage of missing values\n",
    "df = df.drop(columns=[\"receiver_name\"])\n",
    "\n",
    "# Drop rows where both 'sender_name' and 'sender_email' are null\n",
    "df = df.dropna(subset=[\"sender_name\", \"sender_email\"], how=\"all\")\n",
    "\n",
    "# Optionally, drop rows where 'sender_domain' and 'receiver_domain' are null if domain analysis is important\n",
    "df = df.dropna(subset=[\"sender_domain\", \"receiver_domain\"], how=\"any\")"
   ]
  },
  {
   "cell_type": "code",
   "execution_count": 10,
   "metadata": {},
   "outputs": [],
   "source": [
    "# Drop the specified columns\n",
    "df = df.drop(columns=[\"sender\", \"receiver\"])"
   ]
  },
  {
   "cell_type": "code",
   "execution_count": 11,
   "metadata": {},
   "outputs": [
    {
     "data": {
      "text/plain": [
       "(35286, 14)"
      ]
     },
     "execution_count": 11,
     "metadata": {},
     "output_type": "execute_result"
    }
   ],
   "source": [
    "# Final df shape\n",
    "df.shape"
   ]
  },
  {
   "cell_type": "code",
   "execution_count": 12,
   "metadata": {},
   "outputs": [
    {
     "data": {
      "text/html": [
       "<div>\n",
       "<style scoped>\n",
       "    .dataframe tbody tr th:only-of-type {\n",
       "        vertical-align: middle;\n",
       "    }\n",
       "\n",
       "    .dataframe tbody tr th {\n",
       "        vertical-align: top;\n",
       "    }\n",
       "\n",
       "    .dataframe thead th {\n",
       "        text-align: right;\n",
       "    }\n",
       "</style>\n",
       "<table border=\"1\" class=\"dataframe\">\n",
       "  <thead>\n",
       "    <tr style=\"text-align: right;\">\n",
       "      <th></th>\n",
       "      <th>date</th>\n",
       "      <th>subject</th>\n",
       "      <th>body</th>\n",
       "      <th>is_fraud_email</th>\n",
       "      <th>body_contains_url</th>\n",
       "      <th>sender_name</th>\n",
       "      <th>sender_email</th>\n",
       "      <th>receiver_email</th>\n",
       "      <th>sender_domain</th>\n",
       "      <th>receiver_domain</th>\n",
       "      <th>year</th>\n",
       "      <th>month</th>\n",
       "      <th>day</th>\n",
       "      <th>hour</th>\n",
       "    </tr>\n",
       "  </thead>\n",
       "  <tbody>\n",
       "    <tr>\n",
       "      <th>0</th>\n",
       "      <td>2008-08-05 23:31:02+00:00</td>\n",
       "      <td>Never agree to be a loser</td>\n",
       "      <td>Buck up, your troubles caused by small dimensi...</td>\n",
       "      <td>1</td>\n",
       "      <td>1</td>\n",
       "      <td>Young Esposito</td>\n",
       "      <td>Young@iworld.de</td>\n",
       "      <td>user4@gvc.ceas-challenge.cc</td>\n",
       "      <td>iworld.de</td>\n",
       "      <td>gvc.ceas-challenge.cc</td>\n",
       "      <td>2008</td>\n",
       "      <td>8</td>\n",
       "      <td>5</td>\n",
       "      <td>23</td>\n",
       "    </tr>\n",
       "    <tr>\n",
       "      <th>1</th>\n",
       "      <td>2008-08-05 23:31:03+00:00</td>\n",
       "      <td>Befriend Jenna Jameson</td>\n",
       "      <td>\\nUpgrade your sex and pleasures with these te...</td>\n",
       "      <td>1</td>\n",
       "      <td>1</td>\n",
       "      <td>Mok</td>\n",
       "      <td>ipline's1983@icable.ph</td>\n",
       "      <td>user2.2@gvc.ceas-challenge.cc</td>\n",
       "      <td>icable.ph</td>\n",
       "      <td>gvc.ceas-challenge.cc</td>\n",
       "      <td>2008</td>\n",
       "      <td>8</td>\n",
       "      <td>5</td>\n",
       "      <td>23</td>\n",
       "    </tr>\n",
       "    <tr>\n",
       "      <th>2</th>\n",
       "      <td>2008-08-06 08:28:00+00:00</td>\n",
       "      <td>CNN.com Daily Top 10</td>\n",
       "      <td>&gt;+=+=+=+=+=+=+=+=+=+=+=+=+=+=+=+=+=+=+=+=+=+=+...</td>\n",
       "      <td>1</td>\n",
       "      <td>1</td>\n",
       "      <td>Daily Top 10</td>\n",
       "      <td>Karmandeep-opengevl@universalnet.psi.br</td>\n",
       "      <td>user2.9@gvc.ceas-challenge.cc</td>\n",
       "      <td>universalnet.psi.br</td>\n",
       "      <td>gvc.ceas-challenge.cc</td>\n",
       "      <td>2008</td>\n",
       "      <td>8</td>\n",
       "      <td>6</td>\n",
       "      <td>8</td>\n",
       "    </tr>\n",
       "    <tr>\n",
       "      <th>3</th>\n",
       "      <td>2008-08-05 23:31:20+00:00</td>\n",
       "      <td>Re: svn commit: r619753 - in /spamassassin/tru...</td>\n",
       "      <td>Would anyone object to removing .so from this ...</td>\n",
       "      <td>0</td>\n",
       "      <td>1</td>\n",
       "      <td>Michael Parker</td>\n",
       "      <td>ivqrnai@pobox.com</td>\n",
       "      <td>xrh@spamassassin.apache.org</td>\n",
       "      <td>pobox.com</td>\n",
       "      <td>spamassassin.apache.org</td>\n",
       "      <td>2008</td>\n",
       "      <td>8</td>\n",
       "      <td>5</td>\n",
       "      <td>23</td>\n",
       "    </tr>\n",
       "    <tr>\n",
       "      <th>4</th>\n",
       "      <td>2008-08-05 23:31:21+00:00</td>\n",
       "      <td>SpecialPricesPharmMoreinfo</td>\n",
       "      <td>\\nWelcomeFastShippingCustomerSupport\\nhttp://7...</td>\n",
       "      <td>1</td>\n",
       "      <td>1</td>\n",
       "      <td>Gretchen Suggs</td>\n",
       "      <td>externalsep1@loanofficertool.com</td>\n",
       "      <td>user2.2@gvc.ceas-challenge.cc</td>\n",
       "      <td>loanofficertool.com</td>\n",
       "      <td>gvc.ceas-challenge.cc</td>\n",
       "      <td>2008</td>\n",
       "      <td>8</td>\n",
       "      <td>5</td>\n",
       "      <td>23</td>\n",
       "    </tr>\n",
       "  </tbody>\n",
       "</table>\n",
       "</div>"
      ],
      "text/plain": [
       "                       date  \\\n",
       "0 2008-08-05 23:31:02+00:00   \n",
       "1 2008-08-05 23:31:03+00:00   \n",
       "2 2008-08-06 08:28:00+00:00   \n",
       "3 2008-08-05 23:31:20+00:00   \n",
       "4 2008-08-05 23:31:21+00:00   \n",
       "\n",
       "                                             subject  \\\n",
       "0                          Never agree to be a loser   \n",
       "1                             Befriend Jenna Jameson   \n",
       "2                               CNN.com Daily Top 10   \n",
       "3  Re: svn commit: r619753 - in /spamassassin/tru...   \n",
       "4                         SpecialPricesPharmMoreinfo   \n",
       "\n",
       "                                                body  is_fraud_email  \\\n",
       "0  Buck up, your troubles caused by small dimensi...               1   \n",
       "1  \\nUpgrade your sex and pleasures with these te...               1   \n",
       "2  >+=+=+=+=+=+=+=+=+=+=+=+=+=+=+=+=+=+=+=+=+=+=+...               1   \n",
       "3  Would anyone object to removing .so from this ...               0   \n",
       "4  \\nWelcomeFastShippingCustomerSupport\\nhttp://7...               1   \n",
       "\n",
       "   body_contains_url     sender_name                             sender_email  \\\n",
       "0                  1  Young Esposito                          Young@iworld.de   \n",
       "1                  1             Mok                   ipline's1983@icable.ph   \n",
       "2                  1    Daily Top 10  Karmandeep-opengevl@universalnet.psi.br   \n",
       "3                  1  Michael Parker                        ivqrnai@pobox.com   \n",
       "4                  1  Gretchen Suggs         externalsep1@loanofficertool.com   \n",
       "\n",
       "                  receiver_email        sender_domain  \\\n",
       "0    user4@gvc.ceas-challenge.cc            iworld.de   \n",
       "1  user2.2@gvc.ceas-challenge.cc            icable.ph   \n",
       "2  user2.9@gvc.ceas-challenge.cc  universalnet.psi.br   \n",
       "3    xrh@spamassassin.apache.org            pobox.com   \n",
       "4  user2.2@gvc.ceas-challenge.cc  loanofficertool.com   \n",
       "\n",
       "           receiver_domain  year  month  day  hour  \n",
       "0    gvc.ceas-challenge.cc  2008      8    5    23  \n",
       "1    gvc.ceas-challenge.cc  2008      8    5    23  \n",
       "2    gvc.ceas-challenge.cc  2008      8    6     8  \n",
       "3  spamassassin.apache.org  2008      8    5    23  \n",
       "4    gvc.ceas-challenge.cc  2008      8    5    23  "
      ]
     },
     "execution_count": 12,
     "metadata": {},
     "output_type": "execute_result"
    }
   ],
   "source": [
    "df.head()"
   ]
  },
  {
   "cell_type": "code",
   "execution_count": 13,
   "metadata": {},
   "outputs": [
    {
     "data": {
      "text/plain": [
       "date                 0\n",
       "subject              0\n",
       "body                 0\n",
       "is_fraud_email       0\n",
       "body_contains_url    0\n",
       "sender_name          0\n",
       "sender_email         0\n",
       "receiver_email       0\n",
       "sender_domain        0\n",
       "receiver_domain      0\n",
       "year                 0\n",
       "month                0\n",
       "day                  0\n",
       "hour                 0\n",
       "dtype: int64"
      ]
     },
     "execution_count": 13,
     "metadata": {},
     "output_type": "execute_result"
    }
   ],
   "source": [
    "df.isnull().sum()"
   ]
  },
  {
   "cell_type": "code",
   "execution_count": 14,
   "metadata": {},
   "outputs": [],
   "source": [
    "df.reset_index(drop=True, inplace=True)"
   ]
  },
  {
   "cell_type": "markdown",
   "metadata": {},
   "source": [
    "## Visualising Legit vs Phishing Email Counts"
   ]
  },
  {
   "cell_type": "code",
   "execution_count": 15,
   "metadata": {},
   "outputs": [
    {
     "data": {
      "text/html": [
       "<div>\n",
       "<style scoped>\n",
       "    .dataframe tbody tr th:only-of-type {\n",
       "        vertical-align: middle;\n",
       "    }\n",
       "\n",
       "    .dataframe tbody tr th {\n",
       "        vertical-align: top;\n",
       "    }\n",
       "\n",
       "    .dataframe thead th {\n",
       "        text-align: right;\n",
       "    }\n",
       "</style>\n",
       "<table border=\"1\" class=\"dataframe\">\n",
       "  <thead>\n",
       "    <tr style=\"text-align: right;\">\n",
       "      <th></th>\n",
       "      <th>Email Type</th>\n",
       "      <th>Count</th>\n",
       "      <th>Percentage</th>\n",
       "    </tr>\n",
       "  </thead>\n",
       "  <tbody>\n",
       "    <tr>\n",
       "      <th>0</th>\n",
       "      <td>1</td>\n",
       "      <td>20354</td>\n",
       "      <td>57.7%</td>\n",
       "    </tr>\n",
       "    <tr>\n",
       "      <th>1</th>\n",
       "      <td>0</td>\n",
       "      <td>14932</td>\n",
       "      <td>42.3%</td>\n",
       "    </tr>\n",
       "  </tbody>\n",
       "</table>\n",
       "</div>"
      ],
      "text/plain": [
       "   Email Type  Count Percentage\n",
       "0           1  20354      57.7%\n",
       "1           0  14932      42.3%"
      ]
     },
     "execution_count": 15,
     "metadata": {},
     "output_type": "execute_result"
    }
   ],
   "source": [
    "# Get counts of each 'Email Type'\n",
    "email_type_counts = df[\"is_fraud_email\"].value_counts().reset_index()\n",
    "\n",
    "# Rename columns for clarity\n",
    "email_type_counts.columns = [\"Email Type\", \"Count\"]\n",
    "\n",
    "# Calculate total count of emails\n",
    "total_count = email_type_counts[\"Count\"].sum()\n",
    "\n",
    "# Calculate percentages and round off to 1 decimal place\n",
    "email_type_counts[\"Percentage\"] = (\n",
    "    (email_type_counts[\"Count\"] / total_count) * 100\n",
    ").round(1)\n",
    "\n",
    "# Display percentages as numeric with '%' symbol attached\n",
    "email_type_counts[\"Percentage\"] = email_type_counts[\"Percentage\"].astype(str) + \"%\"\n",
    "\n",
    "email_type_counts"
   ]
  },
  {
   "cell_type": "code",
   "execution_count": 16,
   "metadata": {},
   "outputs": [
    {
     "data": {
      "image/png": "[encoded data removed]",
      "text/plain": [
       "<Figure size 800x600 with 1 Axes>"
      ]
     },
     "metadata": {},
     "output_type": "display_data"
    }
   ],
   "source": [
    "# Count the occurrences of each category in 'is_fraud_email'\n",
    "fraud_counts = df[\"is_fraud_email\"].value_counts()\n",
    "\n",
    "# Create a bar plot\n",
    "plt.figure(figsize=(8, 6))\n",
    "ax = fraud_counts.plot(kind=\"bar\", color=[\"green\", \"red\"])\n",
    "\n",
    "# Adding title and labels\n",
    "plt.title(\"Fraud vs Safe Emails\")\n",
    "plt.xlabel(\"Email Type\")\n",
    "plt.ylabel(\"Count\")\n",
    "\n",
    "# Add the count values on top of each bar\n",
    "for p in ax.patches:\n",
    "    ax.annotate(\n",
    "        f\"{p.get_height()}\",\n",
    "        (p.get_x() + p.get_width() / 2.0, p.get_height()),\n",
    "        ha=\"center\",\n",
    "        va=\"center\",\n",
    "        xytext=(0, 10),\n",
    "        textcoords=\"offset points\",\n",
    "    )\n",
    "\n",
    "# Show the plot\n",
    "plt.xticks(ticks=[0, 1], labels=[\"Fraud\", \"Safe\"], rotation=0)\n",
    "plt.show()"
   ]
  },
  {
   "cell_type": "markdown",
   "metadata": {},
   "source": [
    "## Feature Engineering & Validation"
   ]
  },
  {
   "cell_type": "markdown",
   "metadata": {},
   "source": [
    "### Subject Length\n",
    "- A fraud email might have shorter subject length to capture your attention quickly\n",
    "- Legitimate emails are more likely to be verbose in their subject descriptions"
   ]
  },
  {
   "cell_type": "code",
   "execution_count": 17,
   "metadata": {},
   "outputs": [],
   "source": [
    "def count_subject_length(text):\n",
    "    return len(text.split(\" \"))"
   ]
  },
  {
   "cell_type": "code",
   "execution_count": 18,
   "metadata": {},
   "outputs": [],
   "source": [
    "df[\"subject_length\"] = df[\"subject\"].apply(count_subject_length)"
   ]
  },
  {
   "cell_type": "code",
   "execution_count": 19,
   "metadata": {},
   "outputs": [
    {
     "data": {
      "text/plain": [
       "<seaborn.axisgrid.FacetGrid at 0x32df7d010>"
      ]
     },
     "execution_count": 19,
     "metadata": {},
     "output_type": "execute_result"
    },
    {
     "data": {
      "image/png": "[encoded data removed]",
      "text/plain": [
       "<Figure size 611.486x500 with 1 Axes>"
      ]
     },
     "metadata": {},
     "output_type": "display_data"
    }
   ],
   "source": [
    "sns.displot(df, x=\"subject_length\", hue=\"is_fraud_email\", kind=\"hist\", bins=10)"
   ]
  },
  {
   "cell_type": "code",
   "execution_count": 20,
   "metadata": {},
   "outputs": [],
   "source": [
    "avg_subject_length = df.groupby(\"is_fraud_email\")[\"subject_length\"].mean().reset_index()"
   ]
  },
  {
   "cell_type": "code",
   "execution_count": 21,
   "metadata": {},
   "outputs": [
    {
     "data": {
      "text/html": [
       "<div>\n",
       "<style scoped>\n",
       "    .dataframe tbody tr th:only-of-type {\n",
       "        vertical-align: middle;\n",
       "    }\n",
       "\n",
       "    .dataframe tbody tr th {\n",
       "        vertical-align: top;\n",
       "    }\n",
       "\n",
       "    .dataframe thead th {\n",
       "        text-align: right;\n",
       "    }\n",
       "</style>\n",
       "<table border=\"1\" class=\"dataframe\">\n",
       "  <thead>\n",
       "    <tr style=\"text-align: right;\">\n",
       "      <th></th>\n",
       "      <th>is_fraud_email</th>\n",
       "      <th>subject_length</th>\n",
       "    </tr>\n",
       "  </thead>\n",
       "  <tbody>\n",
       "    <tr>\n",
       "      <th>0</th>\n",
       "      <td>0</td>\n",
       "      <td>7.090544</td>\n",
       "    </tr>\n",
       "    <tr>\n",
       "      <th>1</th>\n",
       "      <td>1</td>\n",
       "      <td>5.482755</td>\n",
       "    </tr>\n",
       "  </tbody>\n",
       "</table>\n",
       "</div>"
      ],
      "text/plain": [
       "   is_fraud_email  subject_length\n",
       "0               0        7.090544\n",
       "1               1        5.482755"
      ]
     },
     "execution_count": 21,
     "metadata": {},
     "output_type": "execute_result"
    }
   ],
   "source": [
    "avg_subject_length"
   ]
  },
  {
   "cell_type": "code",
   "execution_count": 22,
   "metadata": {},
   "outputs": [
    {
     "data": {
      "text/plain": [
       "<Axes: xlabel='is_fraud_email', ylabel='subject_length'>"
      ]
     },
     "execution_count": 22,
     "metadata": {},
     "output_type": "execute_result"
    },
    {
     "data": {
      "image/png": "[encoded data removed]",
      "text/plain": [
       "<Figure size 640x480 with 1 Axes>"
      ]
     },
     "metadata": {},
     "output_type": "display_data"
    }
   ],
   "source": [
    "sns.barplot(\n",
    "    x=\"is_fraud_email\",\n",
    "    hue=\"is_fraud_email\",\n",
    "    y=\"subject_length\",\n",
    "    data=avg_subject_length,\n",
    ")"
   ]
  },
  {
   "cell_type": "markdown",
   "metadata": {},
   "source": [
    "### Subject is reply email\n",
    "- Subjects that are reply email are more likely to be legitimate \n",
    "- Phishing emails tend to be new emails"
   ]
  },
  {
   "cell_type": "code",
   "execution_count": 23,
   "metadata": {},
   "outputs": [],
   "source": [
    "def is_reply_email(text: str):\n",
    "    return int(\"Re:\" in text)"
   ]
  },
  {
   "cell_type": "code",
   "execution_count": 24,
   "metadata": {},
   "outputs": [],
   "source": [
    "df[\"is_reply_email\"] = df[\"subject\"].apply(is_reply_email)"
   ]
  },
  {
   "cell_type": "code",
   "execution_count": 25,
   "metadata": {},
   "outputs": [
    {
     "data": {
      "text/plain": [
       "<Axes: xlabel='is_reply_email', ylabel='count'>"
      ]
     },
     "execution_count": 25,
     "metadata": {},
     "output_type": "execute_result"
    },
    {
     "data": {
      "image/png": "[encoded data removed]",
      "text/plain": [
       "<Figure size 640x480 with 1 Axes>"
      ]
     },
     "metadata": {},
     "output_type": "display_data"
    }
   ],
   "source": [
    "sns.countplot(df, x=\"is_reply_email\", hue=\"is_fraud_email\")"
   ]
  },
  {
   "cell_type": "markdown",
   "metadata": {},
   "source": [
    "### Subject Sentiment\n",
    "- A subject that intends to capture your attention might be more positive which is effective in phishing emails\n",
    "- E.g.\n",
    "  - a cure to cancer!!! (phishing)\n",
    "  - new meeting agenda for upcoming feature proposal (legit)"
   ]
  },
  {
   "cell_type": "code",
   "execution_count": 26,
   "metadata": {},
   "outputs": [],
   "source": [
    "from textblob import TextBlob\n",
    "\n",
    "\n",
    "def get_subject_sentiment(text):\n",
    "    return TextBlob(text).sentiment.polarity"
   ]
  },
  {
   "cell_type": "code",
   "execution_count": 27,
   "metadata": {},
   "outputs": [],
   "source": [
    "df[\"subject_sentiment\"] = df[\"subject\"].apply(get_subject_sentiment)"
   ]
  },
  {
   "cell_type": "code",
   "execution_count": 28,
   "metadata": {},
   "outputs": [
    {
     "data": {
      "text/plain": [
       "<seaborn.axisgrid.FacetGrid at 0x32fa44ed0>"
      ]
     },
     "execution_count": 28,
     "metadata": {},
     "output_type": "execute_result"
    },
    {
     "data": {
      "image/png": "[encoded data removed]",
      "text/plain": [
       "<Figure size 611.486x500 with 1 Axes>"
      ]
     },
     "metadata": {},
     "output_type": "display_data"
    }
   ],
   "source": [
    "sns.displot(df, x=\"subject_sentiment\", hue=\"is_fraud_email\", kind=\"hist\", bins=10)"
   ]
  },
  {
   "cell_type": "code",
   "execution_count": 29,
   "metadata": {},
   "outputs": [
    {
     "data": {
      "text/html": [
       "<div>\n",
       "<style scoped>\n",
       "    .dataframe tbody tr th:only-of-type {\n",
       "        vertical-align: middle;\n",
       "    }\n",
       "\n",
       "    .dataframe tbody tr th {\n",
       "        vertical-align: top;\n",
       "    }\n",
       "\n",
       "    .dataframe thead th {\n",
       "        text-align: right;\n",
       "    }\n",
       "</style>\n",
       "<table border=\"1\" class=\"dataframe\">\n",
       "  <thead>\n",
       "    <tr style=\"text-align: right;\">\n",
       "      <th></th>\n",
       "      <th>subject</th>\n",
       "      <th>subject_sentiment</th>\n",
       "      <th>is_fraud_email</th>\n",
       "    </tr>\n",
       "  </thead>\n",
       "  <tbody>\n",
       "    <tr>\n",
       "      <th>1000</th>\n",
       "      <td>Thousands of products</td>\n",
       "      <td>0.000</td>\n",
       "      <td>1</td>\n",
       "    </tr>\n",
       "    <tr>\n",
       "      <th>1001</th>\n",
       "      <td>Be admired for your true male merits</td>\n",
       "      <td>0.175</td>\n",
       "      <td>1</td>\n",
       "    </tr>\n",
       "    <tr>\n",
       "      <th>1002</th>\n",
       "      <td>Prodigious preparation is to your service</td>\n",
       "      <td>0.000</td>\n",
       "      <td>1</td>\n",
       "    </tr>\n",
       "    <tr>\n",
       "      <th>1003</th>\n",
       "      <td>Up to 60% Off!</td>\n",
       "      <td>0.000</td>\n",
       "      <td>0</td>\n",
       "    </tr>\n",
       "    <tr>\n",
       "      <th>1004</th>\n",
       "      <td>save 90% on watches! visit replica store</td>\n",
       "      <td>0.000</td>\n",
       "      <td>1</td>\n",
       "    </tr>\n",
       "  </tbody>\n",
       "</table>\n",
       "</div>"
      ],
      "text/plain": [
       "                                        subject  subject_sentiment  \\\n",
       "1000                      Thousands of products              0.000   \n",
       "1001       Be admired for your true male merits              0.175   \n",
       "1002  Prodigious preparation is to your service              0.000   \n",
       "1003                             Up to 60% Off!              0.000   \n",
       "1004   save 90% on watches! visit replica store              0.000   \n",
       "\n",
       "      is_fraud_email  \n",
       "1000               1  \n",
       "1001               1  \n",
       "1002               1  \n",
       "1003               0  \n",
       "1004               1  "
      ]
     },
     "execution_count": 29,
     "metadata": {},
     "output_type": "execute_result"
    }
   ],
   "source": [
    "df[[\"subject\", \"subject_sentiment\", \"is_fraud_email\"]][1000:1005]"
   ]
  },
  {
   "cell_type": "markdown",
   "metadata": {},
   "source": [
    "### Subject Feature Engineering\n",
    "\n",
    "A function that handles feature engineering on the subject column and drops the column afterwards"
   ]
  },
  {
   "cell_type": "code",
   "execution_count": 30,
   "metadata": {},
   "outputs": [],
   "source": [
    "# def feature_engineering_subject(input_df):\n",
    "#     df = input_df.copy()\n",
    "\n",
    "#     df[\"subject_length\"] = df[\"subject\"].apply(count_subject_length)\n",
    "#     df[\"is_reply_email\"] = df[\"subject\"].apply(is_reply_email)\n",
    "#     df[\"subject_sentiment\"] = df[\"subject\"].apply(get_subject_sentiment)\n",
    "\n",
    "#     return df"
   ]
  },
  {
   "cell_type": "code",
   "execution_count": 31,
   "metadata": {},
   "outputs": [],
   "source": [
    "# df = feature_engineering_subject(df)"
   ]
  },
  {
   "cell_type": "code",
   "execution_count": 32,
   "metadata": {},
   "outputs": [
    {
     "data": {
      "text/html": [
       "<div>\n",
       "<style scoped>\n",
       "    .dataframe tbody tr th:only-of-type {\n",
       "        vertical-align: middle;\n",
       "    }\n",
       "\n",
       "    .dataframe tbody tr th {\n",
       "        vertical-align: top;\n",
       "    }\n",
       "\n",
       "    .dataframe thead th {\n",
       "        text-align: right;\n",
       "    }\n",
       "</style>\n",
       "<table border=\"1\" class=\"dataframe\">\n",
       "  <thead>\n",
       "    <tr style=\"text-align: right;\">\n",
       "      <th></th>\n",
       "      <th>date</th>\n",
       "      <th>subject</th>\n",
       "      <th>body</th>\n",
       "      <th>is_fraud_email</th>\n",
       "      <th>body_contains_url</th>\n",
       "      <th>sender_name</th>\n",
       "      <th>sender_email</th>\n",
       "      <th>receiver_email</th>\n",
       "      <th>sender_domain</th>\n",
       "      <th>receiver_domain</th>\n",
       "      <th>year</th>\n",
       "      <th>month</th>\n",
       "      <th>day</th>\n",
       "      <th>hour</th>\n",
       "      <th>subject_length</th>\n",
       "      <th>is_reply_email</th>\n",
       "      <th>subject_sentiment</th>\n",
       "    </tr>\n",
       "  </thead>\n",
       "  <tbody>\n",
       "    <tr>\n",
       "      <th>0</th>\n",
       "      <td>2008-08-05 23:31:02+00:00</td>\n",
       "      <td>Never agree to be a loser</td>\n",
       "      <td>Buck up, your troubles caused by small dimensi...</td>\n",
       "      <td>1</td>\n",
       "      <td>1</td>\n",
       "      <td>Young Esposito</td>\n",
       "      <td>Young@iworld.de</td>\n",
       "      <td>user4@gvc.ceas-challenge.cc</td>\n",
       "      <td>iworld.de</td>\n",
       "      <td>gvc.ceas-challenge.cc</td>\n",
       "      <td>2008</td>\n",
       "      <td>8</td>\n",
       "      <td>5</td>\n",
       "      <td>23</td>\n",
       "      <td>6</td>\n",
       "      <td>0</td>\n",
       "      <td>0.00</td>\n",
       "    </tr>\n",
       "    <tr>\n",
       "      <th>1</th>\n",
       "      <td>2008-08-05 23:31:03+00:00</td>\n",
       "      <td>Befriend Jenna Jameson</td>\n",
       "      <td>\\nUpgrade your sex and pleasures with these te...</td>\n",
       "      <td>1</td>\n",
       "      <td>1</td>\n",
       "      <td>Mok</td>\n",
       "      <td>ipline's1983@icable.ph</td>\n",
       "      <td>user2.2@gvc.ceas-challenge.cc</td>\n",
       "      <td>icable.ph</td>\n",
       "      <td>gvc.ceas-challenge.cc</td>\n",
       "      <td>2008</td>\n",
       "      <td>8</td>\n",
       "      <td>5</td>\n",
       "      <td>23</td>\n",
       "      <td>3</td>\n",
       "      <td>0</td>\n",
       "      <td>0.00</td>\n",
       "    </tr>\n",
       "    <tr>\n",
       "      <th>2</th>\n",
       "      <td>2008-08-06 08:28:00+00:00</td>\n",
       "      <td>CNN.com Daily Top 10</td>\n",
       "      <td>&gt;+=+=+=+=+=+=+=+=+=+=+=+=+=+=+=+=+=+=+=+=+=+=+...</td>\n",
       "      <td>1</td>\n",
       "      <td>1</td>\n",
       "      <td>Daily Top 10</td>\n",
       "      <td>Karmandeep-opengevl@universalnet.psi.br</td>\n",
       "      <td>user2.9@gvc.ceas-challenge.cc</td>\n",
       "      <td>universalnet.psi.br</td>\n",
       "      <td>gvc.ceas-challenge.cc</td>\n",
       "      <td>2008</td>\n",
       "      <td>8</td>\n",
       "      <td>6</td>\n",
       "      <td>8</td>\n",
       "      <td>4</td>\n",
       "      <td>0</td>\n",
       "      <td>0.25</td>\n",
       "    </tr>\n",
       "    <tr>\n",
       "      <th>3</th>\n",
       "      <td>2008-08-05 23:31:20+00:00</td>\n",
       "      <td>Re: svn commit: r619753 - in /spamassassin/tru...</td>\n",
       "      <td>Would anyone object to removing .so from this ...</td>\n",
       "      <td>0</td>\n",
       "      <td>1</td>\n",
       "      <td>Michael Parker</td>\n",
       "      <td>ivqrnai@pobox.com</td>\n",
       "      <td>xrh@spamassassin.apache.org</td>\n",
       "      <td>pobox.com</td>\n",
       "      <td>spamassassin.apache.org</td>\n",
       "      <td>2008</td>\n",
       "      <td>8</td>\n",
       "      <td>5</td>\n",
       "      <td>23</td>\n",
       "      <td>10</td>\n",
       "      <td>1</td>\n",
       "      <td>0.00</td>\n",
       "    </tr>\n",
       "    <tr>\n",
       "      <th>4</th>\n",
       "      <td>2008-08-05 23:31:21+00:00</td>\n",
       "      <td>SpecialPricesPharmMoreinfo</td>\n",
       "      <td>\\nWelcomeFastShippingCustomerSupport\\nhttp://7...</td>\n",
       "      <td>1</td>\n",
       "      <td>1</td>\n",
       "      <td>Gretchen Suggs</td>\n",
       "      <td>externalsep1@loanofficertool.com</td>\n",
       "      <td>user2.2@gvc.ceas-challenge.cc</td>\n",
       "      <td>loanofficertool.com</td>\n",
       "      <td>gvc.ceas-challenge.cc</td>\n",
       "      <td>2008</td>\n",
       "      <td>8</td>\n",
       "      <td>5</td>\n",
       "      <td>23</td>\n",
       "      <td>1</td>\n",
       "      <td>0</td>\n",
       "      <td>0.00</td>\n",
       "    </tr>\n",
       "  </tbody>\n",
       "</table>\n",
       "</div>"
      ],
      "text/plain": [
       "                       date  \\\n",
       "0 2008-08-05 23:31:02+00:00   \n",
       "1 2008-08-05 23:31:03+00:00   \n",
       "2 2008-08-06 08:28:00+00:00   \n",
       "3 2008-08-05 23:31:20+00:00   \n",
       "4 2008-08-05 23:31:21+00:00   \n",
       "\n",
       "                                             subject  \\\n",
       "0                          Never agree to be a loser   \n",
       "1                             Befriend Jenna Jameson   \n",
       "2                               CNN.com Daily Top 10   \n",
       "3  Re: svn commit: r619753 - in /spamassassin/tru...   \n",
       "4                         SpecialPricesPharmMoreinfo   \n",
       "\n",
       "                                                body  is_fraud_email  \\\n",
       "0  Buck up, your troubles caused by small dimensi...               1   \n",
       "1  \\nUpgrade your sex and pleasures with these te...               1   \n",
       "2  >+=+=+=+=+=+=+=+=+=+=+=+=+=+=+=+=+=+=+=+=+=+=+...               1   \n",
       "3  Would anyone object to removing .so from this ...               0   \n",
       "4  \\nWelcomeFastShippingCustomerSupport\\nhttp://7...               1   \n",
       "\n",
       "   body_contains_url     sender_name                             sender_email  \\\n",
       "0                  1  Young Esposito                          Young@iworld.de   \n",
       "1                  1             Mok                   ipline's1983@icable.ph   \n",
       "2                  1    Daily Top 10  Karmandeep-opengevl@universalnet.psi.br   \n",
       "3                  1  Michael Parker                        ivqrnai@pobox.com   \n",
       "4                  1  Gretchen Suggs         externalsep1@loanofficertool.com   \n",
       "\n",
       "                  receiver_email        sender_domain  \\\n",
       "0    user4@gvc.ceas-challenge.cc            iworld.de   \n",
       "1  user2.2@gvc.ceas-challenge.cc            icable.ph   \n",
       "2  user2.9@gvc.ceas-challenge.cc  universalnet.psi.br   \n",
       "3    xrh@spamassassin.apache.org            pobox.com   \n",
       "4  user2.2@gvc.ceas-challenge.cc  loanofficertool.com   \n",
       "\n",
       "           receiver_domain  year  month  day  hour  subject_length  \\\n",
       "0    gvc.ceas-challenge.cc  2008      8    5    23               6   \n",
       "1    gvc.ceas-challenge.cc  2008      8    5    23               3   \n",
       "2    gvc.ceas-challenge.cc  2008      8    6     8               4   \n",
       "3  spamassassin.apache.org  2008      8    5    23              10   \n",
       "4    gvc.ceas-challenge.cc  2008      8    5    23               1   \n",
       "\n",
       "   is_reply_email  subject_sentiment  \n",
       "0               0               0.00  \n",
       "1               0               0.00  \n",
       "2               0               0.25  \n",
       "3               1               0.00  \n",
       "4               0               0.00  "
      ]
     },
     "execution_count": 32,
     "metadata": {},
     "output_type": "execute_result"
    }
   ],
   "source": [
    "df.head()"
   ]
  },
  {
   "cell_type": "markdown",
   "metadata": {},
   "source": [
    "### Time of Email\n",
    "- Analysing the time in which emails are sent could provide valuable insight about whether they are phishing or not"
   ]
  },
  {
   "cell_type": "code",
   "execution_count": 33,
   "metadata": {},
   "outputs": [
    {
     "data": {
      "image/png": "[encoded data removed]",
      "text/plain": [
       "<Figure size 1800x1000 with 4 Axes>"
      ]
     },
     "metadata": {},
     "output_type": "display_data"
    }
   ],
   "source": [
    "year_fraud_counts = (\n",
    "    df.groupby([\"year\", \"is_fraud_email\"]).size().reset_index(name=\"count\")\n",
    ")\n",
    "month_fraud_counts = (\n",
    "    df.groupby([\"month\", \"is_fraud_email\"]).size().reset_index(name=\"count\")\n",
    ")\n",
    "day_fraud_counts = (\n",
    "    df.groupby([\"day\", \"is_fraud_email\"]).size().reset_index(name=\"count\")\n",
    ")\n",
    "hour_fraud_counts = (\n",
    "    df.groupby([\"hour\", \"is_fraud_email\"]).size().reset_index(name=\"count\")\n",
    ")\n",
    "\n",
    "fig, axs = plt.subplots(2, 2, figsize=(18, 10))\n",
    "\n",
    "sns.barplot(\n",
    "    x=\"year\", y=\"count\", hue=\"is_fraud_email\", data=year_fraud_counts, ax=axs[0, 0]\n",
    ")\n",
    "axs[0, 0].set_title(\"Year vs Fraud Email Count\")\n",
    "\n",
    "sns.barplot(\n",
    "    x=\"month\", y=\"count\", hue=\"is_fraud_email\", data=month_fraud_counts, ax=axs[0, 1]\n",
    ")\n",
    "axs[0, 1].set_title(\"Month vs Fraud Email Count\")\n",
    "\n",
    "sns.barplot(\n",
    "    x=\"day\", y=\"count\", hue=\"is_fraud_email\", data=day_fraud_counts, ax=axs[1, 0]\n",
    ")\n",
    "axs[1, 0].set_title(\"Day vs Fraud Email Count\")\n",
    "\n",
    "sns.barplot(\n",
    "    x=\"hour\", y=\"count\", hue=\"is_fraud_email\", data=hour_fraud_counts, ax=axs[1, 1]\n",
    ")\n",
    "axs[1, 1].set_title(\"Hour vs Fraud Email Count\")\n",
    "\n",
    "plt.tight_layout()\n",
    "plt.show()"
   ]
  },
  {
   "cell_type": "markdown",
   "metadata": {},
   "source": [
    "From the graphs above, we can see that there is a distinct difference in the distribution of `is_fraud_email` for `hour`, whereas the rest does not vary significantly in the distribution. Notably, there is a surge of emails in the year 2008, month of August and across the 5th to 8th of the month. \n",
    "\n",
    "We will use `hour` in our analysis"
   ]
  },
  {
   "cell_type": "markdown",
   "metadata": {},
   "source": [
    "### Body Contains URL\n",
    "- A phishing email is likely to include urls to tempt people to click on them\n",
    "- This is a provided feature in the dataset"
   ]
  },
  {
   "cell_type": "code",
   "execution_count": 34,
   "metadata": {},
   "outputs": [
    {
     "data": {
      "text/html": [
       "<div>\n",
       "<style scoped>\n",
       "    .dataframe tbody tr th:only-of-type {\n",
       "        vertical-align: middle;\n",
       "    }\n",
       "\n",
       "    .dataframe tbody tr th {\n",
       "        vertical-align: top;\n",
       "    }\n",
       "\n",
       "    .dataframe thead th {\n",
       "        text-align: right;\n",
       "    }\n",
       "</style>\n",
       "<table border=\"1\" class=\"dataframe\">\n",
       "  <thead>\n",
       "    <tr style=\"text-align: right;\">\n",
       "      <th></th>\n",
       "      <th>is_fraud_email</th>\n",
       "      <th>body_contains_url</th>\n",
       "    </tr>\n",
       "  </thead>\n",
       "  <tbody>\n",
       "    <tr>\n",
       "      <th>0</th>\n",
       "      <td>0</td>\n",
       "      <td>0.641508</td>\n",
       "    </tr>\n",
       "    <tr>\n",
       "      <th>1</th>\n",
       "      <td>1</td>\n",
       "      <td>0.660607</td>\n",
       "    </tr>\n",
       "  </tbody>\n",
       "</table>\n",
       "</div>"
      ],
      "text/plain": [
       "   is_fraud_email  body_contains_url\n",
       "0               0           0.641508\n",
       "1               1           0.660607"
      ]
     },
     "execution_count": 34,
     "metadata": {},
     "output_type": "execute_result"
    }
   ],
   "source": [
    "df.groupby(\"is_fraud_email\")[\"body_contains_url\"].mean().reset_index()"
   ]
  },
  {
   "cell_type": "code",
   "execution_count": 35,
   "metadata": {},
   "outputs": [
    {
     "name": "stdout",
     "output_type": "stream",
     "text": [
      "Chi-square statistic: 13.772905497481805\n",
      "P-value: 0.0002062900133745784\n",
      "Degrees of freedom: 1\n",
      "Expected frequencies:\n",
      "[[ 5188.49549396  9743.50450604]\n",
      " [ 7072.50450604 13281.49549396]]\n"
     ]
    }
   ],
   "source": [
    "contingency_table = pd.crosstab(df[\"is_fraud_email\"], df[\"body_contains_url\"])\n",
    "\n",
    "chi2, p, dof, expected = chi2_contingency(contingency_table)\n",
    "\n",
    "print(f\"Chi-square statistic: {chi2}\")\n",
    "print(f\"P-value: {p}\")\n",
    "print(f\"Degrees of freedom: {dof}\")\n",
    "print(\"Expected frequencies:\")\n",
    "print(expected)"
   ]
  },
  {
   "cell_type": "code",
   "execution_count": 36,
   "metadata": {},
   "outputs": [
    {
     "data": {
      "text/plain": [
       "<seaborn.axisgrid.FacetGrid at 0x33013be90>"
      ]
     },
     "execution_count": 36,
     "metadata": {},
     "output_type": "execute_result"
    },
    {
     "data": {
      "image/png": "[encoded data removed]",
      "text/plain": [
       "<Figure size 611.486x500 with 1 Axes>"
      ]
     },
     "metadata": {},
     "output_type": "display_data"
    }
   ],
   "source": [
    "sns.catplot(df, x=\"body_contains_url\", hue=\"is_fraud_email\", kind=\"count\")"
   ]
  },
  {
   "cell_type": "markdown",
   "metadata": {},
   "source": [
    "### Body Formating\n",
    "- Phishing emails tend to be formatted poorly compared to legitimate emails\n",
    "- Legitimate emails may use more new line characters and spaces to format their text better\n",
    "- We can compute the ratio of these characters to the body text length to determine the number of formatting characters used per character"
   ]
  },
  {
   "cell_type": "code",
   "execution_count": 37,
   "metadata": {},
   "outputs": [],
   "source": [
    "import string\n",
    "\n",
    "\n",
    "def count_special_and_formatting_characters(text: str):\n",
    "    special_characters = set(string.punctuation)\n",
    "\n",
    "    total_special_characters = sum(1 for char in text if char in special_characters)\n",
    "    total_newline_characters = text.count(\"\\n\")\n",
    "    total_space_characters = text.count(\" \")\n",
    "\n",
    "    return total_newline_characters + total_space_characters + total_special_characters\n",
    "\n",
    "\n",
    "def calculate_ratios(text):\n",
    "    return count_special_and_formatting_characters(text) / (1 + len(text))"
   ]
  },
  {
   "cell_type": "code",
   "execution_count": 38,
   "metadata": {},
   "outputs": [],
   "source": [
    "df[\"special_and_formatting_chars_to_body_ratio\"] = df[\"body\"].apply(calculate_ratios)"
   ]
  },
  {
   "cell_type": "code",
   "execution_count": 39,
   "metadata": {},
   "outputs": [
    {
     "name": "stdout",
     "output_type": "stream",
     "text": [
      "Mean Ratio:\n",
      "is_fraud_email\n",
      "0    0.279446\n",
      "1    0.247494\n",
      "Name: special_and_formatting_chars_to_body_ratio, dtype: float64\n",
      "47.35732603682025 0.0\n"
     ]
    }
   ],
   "source": [
    "mean_uppercase_count = df.groupby(\"is_fraud_email\")[\n",
    "    \"special_and_formatting_chars_to_body_ratio\"\n",
    "].mean()\n",
    "\n",
    "print(\"Mean Ratio:\")\n",
    "print(mean_uppercase_count)\n",
    "\n",
    "# Perform an independent t-test to compare the means of the two groups\n",
    "group_0 = df[df[\"is_fraud_email\"] == 0][\"special_and_formatting_chars_to_body_ratio\"]\n",
    "group_1 = df[df[\"is_fraud_email\"] == 1][\"special_and_formatting_chars_to_body_ratio\"]\n",
    "\n",
    "t_stat, p_value = ttest_ind(group_0, group_1, equal_var=False)\n",
    "\n",
    "print(t_stat, p_value)"
   ]
  },
  {
   "cell_type": "code",
   "execution_count": 40,
   "metadata": {},
   "outputs": [
    {
     "data": {
      "text/plain": [
       "<seaborn.axisgrid.FacetGrid at 0x330254850>"
      ]
     },
     "execution_count": 40,
     "metadata": {},
     "output_type": "execute_result"
    },
    {
     "data": {
      "image/png": "[encoded data removed]",
      "text/plain": [
       "<Figure size 611.486x500 with 1 Axes>"
      ]
     },
     "metadata": {},
     "output_type": "display_data"
    }
   ],
   "source": [
    "sns.displot(df, x=\"special_and_formatting_chars_to_body_ratio\", hue=\"is_fraud_email\")"
   ]
  },
  {
   "cell_type": "markdown",
   "metadata": {},
   "source": [
    "### Uppercase Characters in Sender Email"
   ]
  },
  {
   "cell_type": "code",
   "execution_count": 41,
   "metadata": {},
   "outputs": [],
   "source": [
    "def uppercase_count_in_sender_email(text):\n",
    "    return sum(1 for char in text if char.isupper())"
   ]
  },
  {
   "cell_type": "code",
   "execution_count": 42,
   "metadata": {},
   "outputs": [],
   "source": [
    "df[\"uppercase_count_in_sender_email\"] = df[\"sender_email\"].apply(\n",
    "    uppercase_count_in_sender_email\n",
    ")"
   ]
  },
  {
   "cell_type": "code",
   "execution_count": 43,
   "metadata": {},
   "outputs": [
    {
     "name": "stdout",
     "output_type": "stream",
     "text": [
      "Mean Uppercase Count:\n",
      "is_fraud_email\n",
      "0    0.061278\n",
      "1    0.648521\n",
      "Name: uppercase_count_in_sender_email, dtype: float64\n"
     ]
    },
    {
     "data": {
      "text/plain": [
       "0.0"
      ]
     },
     "execution_count": 43,
     "metadata": {},
     "output_type": "execute_result"
    }
   ],
   "source": [
    "mean_uppercase_count = df.groupby(\"is_fraud_email\")[\n",
    "    \"uppercase_count_in_sender_email\"\n",
    "].mean()\n",
    "\n",
    "print(\"Mean Uppercase Count:\")\n",
    "print(mean_uppercase_count)\n",
    "\n",
    "# Perform an independent t-test to compare the means of the two groups\n",
    "group_0 = df[df[\"is_fraud_email\"] == 0][\"uppercase_count_in_sender_email\"]\n",
    "group_1 = df[df[\"is_fraud_email\"] == 1][\"uppercase_count_in_sender_email\"]\n",
    "\n",
    "t_stat, p_value = ttest_ind(group_0, group_1, equal_var=False)\n",
    "\n",
    "p_value"
   ]
  },
  {
   "cell_type": "code",
   "execution_count": 44,
   "metadata": {},
   "outputs": [
    {
     "data": {
      "text/html": [
       "<div>\n",
       "<style scoped>\n",
       "    .dataframe tbody tr th:only-of-type {\n",
       "        vertical-align: middle;\n",
       "    }\n",
       "\n",
       "    .dataframe tbody tr th {\n",
       "        vertical-align: top;\n",
       "    }\n",
       "\n",
       "    .dataframe thead th {\n",
       "        text-align: right;\n",
       "    }\n",
       "</style>\n",
       "<table border=\"1\" class=\"dataframe\">\n",
       "  <thead>\n",
       "    <tr style=\"text-align: right;\">\n",
       "      <th></th>\n",
       "      <th>sender_email</th>\n",
       "      <th>uppercase_count_in_sender_email</th>\n",
       "      <th>is_fraud_email</th>\n",
       "    </tr>\n",
       "  </thead>\n",
       "  <tbody>\n",
       "    <tr>\n",
       "      <th>123</th>\n",
       "      <td>Aleksandra-reitodes@AISAN-IND.CO.JP</td>\n",
       "      <td>13</td>\n",
       "      <td>1</td>\n",
       "    </tr>\n",
       "    <tr>\n",
       "      <th>425</th>\n",
       "      <td>wray-niitledi@KFSHRC.EDU.SA</td>\n",
       "      <td>11</td>\n",
       "      <td>1</td>\n",
       "    </tr>\n",
       "    <tr>\n",
       "      <th>2275</th>\n",
       "      <td>Dobran-nitelopo@FABRIL.COM.BR</td>\n",
       "      <td>12</td>\n",
       "      <td>1</td>\n",
       "    </tr>\n",
       "    <tr>\n",
       "      <th>2484</th>\n",
       "      <td>alper-erubelnd@READINGHOSPITAL.ORG</td>\n",
       "      <td>18</td>\n",
       "      <td>1</td>\n",
       "    </tr>\n",
       "    <tr>\n",
       "      <th>2954</th>\n",
       "      <td>Derric-maknmabm@LACALHENE.COM</td>\n",
       "      <td>13</td>\n",
       "      <td>1</td>\n",
       "    </tr>\n",
       "  </tbody>\n",
       "</table>\n",
       "</div>"
      ],
      "text/plain": [
       "                             sender_email  uppercase_count_in_sender_email  \\\n",
       "123   Aleksandra-reitodes@AISAN-IND.CO.JP                               13   \n",
       "425           wray-niitledi@KFSHRC.EDU.SA                               11   \n",
       "2275        Dobran-nitelopo@FABRIL.COM.BR                               12   \n",
       "2484   alper-erubelnd@READINGHOSPITAL.ORG                               18   \n",
       "2954        Derric-maknmabm@LACALHENE.COM                               13   \n",
       "\n",
       "      is_fraud_email  \n",
       "123                1  \n",
       "425                1  \n",
       "2275               1  \n",
       "2484               1  \n",
       "2954               1  "
      ]
     },
     "execution_count": 44,
     "metadata": {},
     "output_type": "execute_result"
    }
   ],
   "source": [
    "store = df[[\"sender_email\", \"uppercase_count_in_sender_email\", \"is_fraud_email\"]]\n",
    "\n",
    "store[store[\"uppercase_count_in_sender_email\"] > 10].head(5)"
   ]
  },
  {
   "cell_type": "code",
   "execution_count": 45,
   "metadata": {},
   "outputs": [
    {
     "data": {
      "text/plain": [
       "<seaborn.axisgrid.FacetGrid at 0x3314f48d0>"
      ]
     },
     "execution_count": 45,
     "metadata": {},
     "output_type": "execute_result"
    },
    {
     "data": {
      "image/png": "[encoded data removed]",
      "text/plain": [
       "<Figure size 611.486x500 with 1 Axes>"
      ]
     },
     "metadata": {},
     "output_type": "display_data"
    }
   ],
   "source": [
    "sns.displot(df, x=\"uppercase_count_in_sender_email\", hue=\"is_fraud_email\", bins=20)"
   ]
  },
  {
   "cell_type": "markdown",
   "metadata": {},
   "source": [
    "### Numbers in Sender Email"
   ]
  },
  {
   "cell_type": "code",
   "execution_count": 46,
   "metadata": {},
   "outputs": [],
   "source": [
    "def number_count_in_sender_email(text):\n",
    "    return sum(1 for char in text if char.isdigit())"
   ]
  },
  {
   "cell_type": "code",
   "execution_count": 47,
   "metadata": {},
   "outputs": [],
   "source": [
    "df[\"number_count_in_sender_email\"] = df[\"sender_email\"].apply(\n",
    "    number_count_in_sender_email\n",
    ")"
   ]
  },
  {
   "cell_type": "code",
   "execution_count": 48,
   "metadata": {},
   "outputs": [
    {
     "name": "stdout",
     "output_type": "stream",
     "text": [
      "Mean Number Count:\n",
      "is_fraud_email\n",
      "0    0.161398\n",
      "1    0.835561\n",
      "Name: number_count_in_sender_email, dtype: float64\n"
     ]
    },
    {
     "data": {
      "text/plain": [
       "0.0"
      ]
     },
     "execution_count": 48,
     "metadata": {},
     "output_type": "execute_result"
    }
   ],
   "source": [
    "mean_uppercase_count = df.groupby(\"is_fraud_email\")[\n",
    "    \"number_count_in_sender_email\"\n",
    "].mean()\n",
    "\n",
    "print(\"Mean Number Count:\")\n",
    "print(mean_uppercase_count)\n",
    "\n",
    "# Perform an independent t-test to compare the means of the two groups\n",
    "group_0 = df[df[\"is_fraud_email\"] == 0][\"number_count_in_sender_email\"]\n",
    "group_1 = df[df[\"is_fraud_email\"] == 1][\"number_count_in_sender_email\"]\n",
    "\n",
    "t_stat, p_value = ttest_ind(group_0, group_1, equal_var=False)\n",
    "\n",
    "p_value"
   ]
  },
  {
   "cell_type": "code",
   "execution_count": 49,
   "metadata": {},
   "outputs": [
    {
     "data": {
      "text/html": [
       "<div>\n",
       "<style scoped>\n",
       "    .dataframe tbody tr th:only-of-type {\n",
       "        vertical-align: middle;\n",
       "    }\n",
       "\n",
       "    .dataframe tbody tr th {\n",
       "        vertical-align: top;\n",
       "    }\n",
       "\n",
       "    .dataframe thead th {\n",
       "        text-align: right;\n",
       "    }\n",
       "</style>\n",
       "<table border=\"1\" class=\"dataframe\">\n",
       "  <thead>\n",
       "    <tr style=\"text-align: right;\">\n",
       "      <th></th>\n",
       "      <th>sender_email</th>\n",
       "      <th>number_count_in_sender_email</th>\n",
       "      <th>is_fraud_email</th>\n",
       "    </tr>\n",
       "  </thead>\n",
       "  <tbody>\n",
       "    <tr>\n",
       "      <th>85</th>\n",
       "      <td>ihtnaelc@152.92.149.210.economy.2iij.net</td>\n",
       "      <td>12</td>\n",
       "      <td>1</td>\n",
       "    </tr>\n",
       "    <tr>\n",
       "      <th>119</th>\n",
       "      <td>Costantino-sereituo@7.120.138.210.bf.2iij.net</td>\n",
       "      <td>11</td>\n",
       "      <td>1</td>\n",
       "    </tr>\n",
       "    <tr>\n",
       "      <th>268</th>\n",
       "      <td>dere-ezidekan@202.21.214.202.ts.2iij.net</td>\n",
       "      <td>12</td>\n",
       "      <td>1</td>\n",
       "    </tr>\n",
       "    <tr>\n",
       "      <th>455</th>\n",
       "      <td>98621701966@sla.com</td>\n",
       "      <td>11</td>\n",
       "      <td>1</td>\n",
       "    </tr>\n",
       "    <tr>\n",
       "      <th>458</th>\n",
       "      <td>l{m{iv{h_1990@2f022b9a8b9a28309e48e65b932e7af7...</td>\n",
       "      <td>26</td>\n",
       "      <td>1</td>\n",
       "    </tr>\n",
       "  </tbody>\n",
       "</table>\n",
       "</div>"
      ],
      "text/plain": [
       "                                          sender_email  \\\n",
       "85            ihtnaelc@152.92.149.210.economy.2iij.net   \n",
       "119      Costantino-sereituo@7.120.138.210.bf.2iij.net   \n",
       "268           dere-ezidekan@202.21.214.202.ts.2iij.net   \n",
       "455                                98621701966@sla.com   \n",
       "458  l{m{iv{h_1990@2f022b9a8b9a28309e48e65b932e7af7...   \n",
       "\n",
       "     number_count_in_sender_email  is_fraud_email  \n",
       "85                             12               1  \n",
       "119                            11               1  \n",
       "268                            12               1  \n",
       "455                            11               1  \n",
       "458                            26               1  "
      ]
     },
     "execution_count": 49,
     "metadata": {},
     "output_type": "execute_result"
    }
   ],
   "source": [
    "store = df[[\"sender_email\", \"number_count_in_sender_email\", \"is_fraud_email\"]]\n",
    "\n",
    "store[store[\"number_count_in_sender_email\"] > 10].head(5)"
   ]
  },
  {
   "cell_type": "code",
   "execution_count": 50,
   "metadata": {},
   "outputs": [
    {
     "data": {
      "text/plain": [
       "<seaborn.axisgrid.FacetGrid at 0x33150d050>"
      ]
     },
     "execution_count": 50,
     "metadata": {},
     "output_type": "execute_result"
    },
    {
     "data": {
      "image/png": "[encoded data removed]",
      "text/plain": [
       "<Figure size 611.486x500 with 1 Axes>"
      ]
     },
     "metadata": {},
     "output_type": "display_data"
    }
   ],
   "source": [
    "sns.displot(df, x=\"number_count_in_sender_email\", hue=\"is_fraud_email\", bins=20)"
   ]
  },
  {
   "cell_type": "markdown",
   "metadata": {},
   "source": [
    "### Overview of current columns in dataframe"
   ]
  },
  {
   "cell_type": "code",
   "execution_count": 51,
   "metadata": {},
   "outputs": [
    {
     "data": {
      "text/plain": [
       "Index(['date', 'subject', 'body', 'is_fraud_email', 'body_contains_url',\n",
       "       'sender_name', 'sender_email', 'receiver_email', 'sender_domain',\n",
       "       'receiver_domain', 'year', 'month', 'day', 'hour', 'subject_length',\n",
       "       'is_reply_email', 'subject_sentiment',\n",
       "       'special_and_formatting_chars_to_body_ratio',\n",
       "       'uppercase_count_in_sender_email', 'number_count_in_sender_email'],\n",
       "      dtype='object')"
      ]
     },
     "execution_count": 51,
     "metadata": {},
     "output_type": "execute_result"
    }
   ],
   "source": [
    "df.columns"
   ]
  },
  {
   "cell_type": "markdown",
   "metadata": {},
   "source": [
    "## Model Training & Evaluation (without sentence embeddings)\n",
    "\n",
    "- In the first run, we will train machine learning models without the use of sentence embeddings"
   ]
  },
  {
   "cell_type": "markdown",
   "metadata": {},
   "source": [
    "### Feature Selection"
   ]
  },
  {
   "cell_type": "code",
   "execution_count": 52,
   "metadata": {},
   "outputs": [],
   "source": [
    "wanted_columns_initial_training = [\n",
    "    \"body_contains_url\",\n",
    "    \"hour\",\n",
    "    \"subject_length\",\n",
    "    \"is_reply_email\",\n",
    "    \"subject_sentiment\",\n",
    "    \"special_and_formatting_chars_to_body_ratio\",\n",
    "    \"uppercase_count_in_sender_email\",\n",
    "    \"number_count_in_sender_email\",\n",
    "]"
   ]
  },
  {
   "cell_type": "code",
   "execution_count": 53,
   "metadata": {},
   "outputs": [],
   "source": [
    "X = df[wanted_columns_initial_training]\n",
    "y = df[\"is_fraud_email\"]"
   ]
  },
  {
   "cell_type": "markdown",
   "metadata": {},
   "source": [
    "### Train Test Split\n",
    "\n",
    "- We will do a 60 / 20 / 20 , train / validation / test split"
   ]
  },
  {
   "cell_type": "code",
   "execution_count": 54,
   "metadata": {},
   "outputs": [],
   "source": [
    "# Train set and Val + Test set\n",
    "X_train, X_temp, y_train, y_temp = train_test_split(\n",
    "    X, y, test_size=0.4, random_state=SEED\n",
    ")\n",
    "\n",
    "# Split Val + Test set to 50 / 50 splits\n",
    "X_val, X_test, y_val, y_test = train_test_split(\n",
    "    X_temp, y_temp, test_size=0.5, random_state=SEED\n",
    ")"
   ]
  },
  {
   "cell_type": "code",
   "execution_count": 55,
   "metadata": {},
   "outputs": [],
   "source": [
    "def train_model(model, X_train, y_train, X_test):\n",
    "    model.fit(X_train, y_train)\n",
    "\n",
    "    y_pred = model.predict(X_test)\n",
    "    y_pred_prob = model.predict_proba(X_test)[:, 1]\n",
    "\n",
    "    return y_pred, y_pred_prob\n",
    "\n",
    "\n",
    "def generate_metrics(y_test, y_pred, y_pred_prob):\n",
    "    # Confusion Matrix\n",
    "    # cm = confusion_matrix(y_test, y_pred)\n",
    "    # print(\"Confusion Matrix:\")\n",
    "    # print(cm)\n",
    "\n",
    "    # Classification Report\n",
    "    cr = classification_report(y_test, y_pred)\n",
    "    print(\"Classification Report\")\n",
    "    print(cr)\n",
    "\n",
    "    # AUC Score\n",
    "    auc_score = roc_auc_score(y_test, y_pred_prob)\n",
    "    print(f\"AUC Score: {auc_score:.4f}\")\n",
    "\n",
    "    # Optional: Plotting the ROC Curve\n",
    "    fpr, tpr, thresholds = roc_curve(y_test, y_pred_prob)\n",
    "    plt.figure()\n",
    "    plt.plot(fpr, tpr, color=\"blue\", label=\"ROC curve (area = %0.2f)\" % auc_score)\n",
    "    plt.plot([0, 1], [0, 1], color=\"red\", linestyle=\"--\")\n",
    "    plt.xlim([0.0, 1.0])\n",
    "    plt.ylim([0.0, 1.05])\n",
    "    plt.xlabel(\"False Positive Rate\")\n",
    "    plt.ylabel(\"True Positive Rate\")\n",
    "    plt.title(\"Receiver Operating Characteristic\")\n",
    "    plt.legend(loc=\"lower right\")\n",
    "    plt.show()"
   ]
  },
  {
   "cell_type": "markdown",
   "metadata": {},
   "source": [
    "### SVM"
   ]
  },
  {
   "cell_type": "code",
   "execution_count": 56,
   "metadata": {},
   "outputs": [
    {
     "name": "stdout",
     "output_type": "stream",
     "text": [
      "Classification Report\n",
      "              precision    recall  f1-score   support\n",
      "\n",
      "           0       0.94      0.76      0.84      3043\n",
      "           1       0.84      0.96      0.90      4014\n",
      "\n",
      "    accuracy                           0.87      7057\n",
      "   macro avg       0.89      0.86      0.87      7057\n",
      "weighted avg       0.88      0.87      0.87      7057\n",
      "\n",
      "AUC Score: 0.9372\n"
     ]
    },
    {
     "data": {
      "image/png": "[encoded data removed]",
      "text/plain": [
       "<Figure size 640x480 with 1 Axes>"
      ]
     },
     "metadata": {},
     "output_type": "display_data"
    }
   ],
   "source": [
    "svm_classifier = SVC(kernel=\"rbf\", probability=True)\n",
    "\n",
    "y_val_pred, y_val_pred_prob = train_model(svm_classifier, X_train, y_train, X_val)\n",
    "\n",
    "generate_metrics(y_val, y_val_pred, y_val_pred_prob)"
   ]
  },
  {
   "cell_type": "markdown",
   "metadata": {},
   "source": [
    "### Random Forest "
   ]
  },
  {
   "cell_type": "code",
   "execution_count": 57,
   "metadata": {},
   "outputs": [
    {
     "name": "stdout",
     "output_type": "stream",
     "text": [
      "Classification Report\n",
      "              precision    recall  f1-score   support\n",
      "\n",
      "           0       0.92      0.91      0.92      3043\n",
      "           1       0.93      0.94      0.94      4014\n",
      "\n",
      "    accuracy                           0.93      7057\n",
      "   macro avg       0.93      0.93      0.93      7057\n",
      "weighted avg       0.93      0.93      0.93      7057\n",
      "\n",
      "AUC Score: 0.9815\n"
     ]
    },
    {
     "data": {
      "image/png": "[encoded data removed]",
      "text/plain": [
       "<Figure size 640x480 with 1 Axes>"
      ]
     },
     "metadata": {},
     "output_type": "display_data"
    }
   ],
   "source": [
    "rf_classifier = RandomForestClassifier(n_estimators=200)\n",
    "\n",
    "y_val_pred, y_val_pred_prob = train_model(rf_classifier, X_train, y_train, X_val)\n",
    "\n",
    "generate_metrics(y_val, y_val_pred, y_val_pred_prob)"
   ]
  },
  {
   "cell_type": "markdown",
   "metadata": {},
   "source": [
    "### Neural Network"
   ]
  },
  {
   "cell_type": "code",
   "execution_count": 58,
   "metadata": {},
   "outputs": [
    {
     "name": "stdout",
     "output_type": "stream",
     "text": [
      "Classification Report\n",
      "              precision    recall  f1-score   support\n",
      "\n",
      "           0       0.90      0.88      0.89      3043\n",
      "           1       0.91      0.93      0.92      4014\n",
      "\n",
      "    accuracy                           0.91      7057\n",
      "   macro avg       0.91      0.91      0.91      7057\n",
      "weighted avg       0.91      0.91      0.91      7057\n",
      "\n",
      "AUC Score: 0.9716\n"
     ]
    },
    {
     "data": {
      "image/png": "[encoded data removed]",
      "text/plain": [
       "<Figure size 640x480 with 1 Axes>"
      ]
     },
     "metadata": {},
     "output_type": "display_data"
    }
   ],
   "source": [
    "nn_model = MLPClassifier(hidden_layer_sizes=(200,), max_iter=5000)\n",
    "\n",
    "y_val_pred, y_val_pred_prob = train_model(nn_model, X_train, y_train, X_val)\n",
    "\n",
    "generate_metrics(y_val, y_val_pred, y_val_pred_prob)"
   ]
  },
  {
   "cell_type": "markdown",
   "metadata": {},
   "source": [
    "### Evaluating on Test Set\n",
    "- Random Forest Classifier appears to perform the best with the highest ROC\n",
    "- We will now evaluate it on the test set"
   ]
  },
  {
   "cell_type": "code",
   "execution_count": 59,
   "metadata": {},
   "outputs": [
    {
     "name": "stdout",
     "output_type": "stream",
     "text": [
      "Classification Report\n",
      "              precision    recall  f1-score   support\n",
      "\n",
      "           0       0.91      0.91      0.91      2890\n",
      "           1       0.94      0.93      0.94      4168\n",
      "\n",
      "    accuracy                           0.92      7058\n",
      "   macro avg       0.92      0.92      0.92      7058\n",
      "weighted avg       0.92      0.92      0.92      7058\n",
      "\n",
      "AUC Score: 0.9817\n"
     ]
    },
    {
     "data": {
      "image/png": "[encoded data removed]",
      "text/plain": [
       "<Figure size 640x480 with 1 Axes>"
      ]
     },
     "metadata": {},
     "output_type": "display_data"
    }
   ],
   "source": [
    "y_test_pred = rf_classifier.predict(X_test)\n",
    "y_test_pred_prob = rf_classifier.predict_proba(X_test)[:, 1]\n",
    "\n",
    "generate_metrics(y_test, y_test_pred, y_test_pred_prob)"
   ]
  },
  {
   "cell_type": "markdown",
   "metadata": {},
   "source": [
    "## Vectorizing Texts\n",
    "- Our 3 models have performed well without the use of text vectorization\n",
    "- We will now incorporate vector embeddings of the body of the email into the training data to see if any improvements could be made\n",
    "- We will use `TF-IDF` on lemmatized text and `Sentence Transformers (mpnet)` on un-lemmatized text, creating 2 different datasets\n",
    "- As the feature space is large on `TF-IDF`, we will limit to the top 5000 features to ensure that the row-space is still larger than the column space"
   ]
  },
  {
   "cell_type": "code",
   "execution_count": 60,
   "metadata": {},
   "outputs": [
    {
     "data": {
      "text/html": [
       "<div>\n",
       "<style scoped>\n",
       "    .dataframe tbody tr th:only-of-type {\n",
       "        vertical-align: middle;\n",
       "    }\n",
       "\n",
       "    .dataframe tbody tr th {\n",
       "        vertical-align: top;\n",
       "    }\n",
       "\n",
       "    .dataframe thead th {\n",
       "        text-align: right;\n",
       "    }\n",
       "</style>\n",
       "<table border=\"1\" class=\"dataframe\">\n",
       "  <thead>\n",
       "    <tr style=\"text-align: right;\">\n",
       "      <th></th>\n",
       "      <th>date</th>\n",
       "      <th>subject</th>\n",
       "      <th>body</th>\n",
       "      <th>is_fraud_email</th>\n",
       "      <th>body_contains_url</th>\n",
       "      <th>sender_name</th>\n",
       "      <th>sender_email</th>\n",
       "      <th>receiver_email</th>\n",
       "      <th>sender_domain</th>\n",
       "      <th>receiver_domain</th>\n",
       "      <th>year</th>\n",
       "      <th>month</th>\n",
       "      <th>day</th>\n",
       "      <th>hour</th>\n",
       "      <th>subject_length</th>\n",
       "      <th>is_reply_email</th>\n",
       "      <th>subject_sentiment</th>\n",
       "      <th>special_and_formatting_chars_to_body_ratio</th>\n",
       "      <th>uppercase_count_in_sender_email</th>\n",
       "      <th>number_count_in_sender_email</th>\n",
       "    </tr>\n",
       "  </thead>\n",
       "  <tbody>\n",
       "    <tr>\n",
       "      <th>0</th>\n",
       "      <td>2008-08-05 23:31:02+00:00</td>\n",
       "      <td>Never agree to be a loser</td>\n",
       "      <td>Buck up, your troubles caused by small dimensi...</td>\n",
       "      <td>1</td>\n",
       "      <td>1</td>\n",
       "      <td>Young Esposito</td>\n",
       "      <td>Young@iworld.de</td>\n",
       "      <td>user4@gvc.ceas-challenge.cc</td>\n",
       "      <td>iworld.de</td>\n",
       "      <td>gvc.ceas-challenge.cc</td>\n",
       "      <td>2008</td>\n",
       "      <td>8</td>\n",
       "      <td>5</td>\n",
       "      <td>23</td>\n",
       "      <td>6</td>\n",
       "      <td>0</td>\n",
       "      <td>0.00</td>\n",
       "      <td>0.218978</td>\n",
       "      <td>1</td>\n",
       "      <td>0</td>\n",
       "    </tr>\n",
       "    <tr>\n",
       "      <th>1</th>\n",
       "      <td>2008-08-05 23:31:03+00:00</td>\n",
       "      <td>Befriend Jenna Jameson</td>\n",
       "      <td>\\nUpgrade your sex and pleasures with these te...</td>\n",
       "      <td>1</td>\n",
       "      <td>1</td>\n",
       "      <td>Mok</td>\n",
       "      <td>ipline's1983@icable.ph</td>\n",
       "      <td>user2.2@gvc.ceas-challenge.cc</td>\n",
       "      <td>icable.ph</td>\n",
       "      <td>gvc.ceas-challenge.cc</td>\n",
       "      <td>2008</td>\n",
       "      <td>8</td>\n",
       "      <td>5</td>\n",
       "      <td>23</td>\n",
       "      <td>3</td>\n",
       "      <td>0</td>\n",
       "      <td>0.00</td>\n",
       "      <td>0.204819</td>\n",
       "      <td>0</td>\n",
       "      <td>4</td>\n",
       "    </tr>\n",
       "    <tr>\n",
       "      <th>2</th>\n",
       "      <td>2008-08-06 08:28:00+00:00</td>\n",
       "      <td>CNN.com Daily Top 10</td>\n",
       "      <td>&gt;+=+=+=+=+=+=+=+=+=+=+=+=+=+=+=+=+=+=+=+=+=+=+...</td>\n",
       "      <td>1</td>\n",
       "      <td>1</td>\n",
       "      <td>Daily Top 10</td>\n",
       "      <td>Karmandeep-opengevl@universalnet.psi.br</td>\n",
       "      <td>user2.9@gvc.ceas-challenge.cc</td>\n",
       "      <td>universalnet.psi.br</td>\n",
       "      <td>gvc.ceas-challenge.cc</td>\n",
       "      <td>2008</td>\n",
       "      <td>8</td>\n",
       "      <td>6</td>\n",
       "      <td>8</td>\n",
       "      <td>4</td>\n",
       "      <td>0</td>\n",
       "      <td>0.25</td>\n",
       "      <td>0.324062</td>\n",
       "      <td>1</td>\n",
       "      <td>0</td>\n",
       "    </tr>\n",
       "    <tr>\n",
       "      <th>3</th>\n",
       "      <td>2008-08-05 23:31:20+00:00</td>\n",
       "      <td>Re: svn commit: r619753 - in /spamassassin/tru...</td>\n",
       "      <td>Would anyone object to removing .so from this ...</td>\n",
       "      <td>0</td>\n",
       "      <td>1</td>\n",
       "      <td>Michael Parker</td>\n",
       "      <td>ivqrnai@pobox.com</td>\n",
       "      <td>xrh@spamassassin.apache.org</td>\n",
       "      <td>pobox.com</td>\n",
       "      <td>spamassassin.apache.org</td>\n",
       "      <td>2008</td>\n",
       "      <td>8</td>\n",
       "      <td>5</td>\n",
       "      <td>23</td>\n",
       "      <td>10</td>\n",
       "      <td>1</td>\n",
       "      <td>0.00</td>\n",
       "      <td>0.335558</td>\n",
       "      <td>0</td>\n",
       "      <td>0</td>\n",
       "    </tr>\n",
       "    <tr>\n",
       "      <th>4</th>\n",
       "      <td>2008-08-05 23:31:21+00:00</td>\n",
       "      <td>SpecialPricesPharmMoreinfo</td>\n",
       "      <td>\\nWelcomeFastShippingCustomerSupport\\nhttp://7...</td>\n",
       "      <td>1</td>\n",
       "      <td>1</td>\n",
       "      <td>Gretchen Suggs</td>\n",
       "      <td>externalsep1@loanofficertool.com</td>\n",
       "      <td>user2.2@gvc.ceas-challenge.cc</td>\n",
       "      <td>loanofficertool.com</td>\n",
       "      <td>gvc.ceas-challenge.cc</td>\n",
       "      <td>2008</td>\n",
       "      <td>8</td>\n",
       "      <td>5</td>\n",
       "      <td>23</td>\n",
       "      <td>1</td>\n",
       "      <td>0</td>\n",
       "      <td>0.00</td>\n",
       "      <td>0.102273</td>\n",
       "      <td>0</td>\n",
       "      <td>1</td>\n",
       "    </tr>\n",
       "  </tbody>\n",
       "</table>\n",
       "</div>"
      ],
      "text/plain": [
       "                       date  \\\n",
       "0 2008-08-05 23:31:02+00:00   \n",
       "1 2008-08-05 23:31:03+00:00   \n",
       "2 2008-08-06 08:28:00+00:00   \n",
       "3 2008-08-05 23:31:20+00:00   \n",
       "4 2008-08-05 23:31:21+00:00   \n",
       "\n",
       "                                             subject  \\\n",
       "0                          Never agree to be a loser   \n",
       "1                             Befriend Jenna Jameson   \n",
       "2                               CNN.com Daily Top 10   \n",
       "3  Re: svn commit: r619753 - in /spamassassin/tru...   \n",
       "4                         SpecialPricesPharmMoreinfo   \n",
       "\n",
       "                                                body  is_fraud_email  \\\n",
       "0  Buck up, your troubles caused by small dimensi...               1   \n",
       "1  \\nUpgrade your sex and pleasures with these te...               1   \n",
       "2  >+=+=+=+=+=+=+=+=+=+=+=+=+=+=+=+=+=+=+=+=+=+=+...               1   \n",
       "3  Would anyone object to removing .so from this ...               0   \n",
       "4  \\nWelcomeFastShippingCustomerSupport\\nhttp://7...               1   \n",
       "\n",
       "   body_contains_url     sender_name                             sender_email  \\\n",
       "0                  1  Young Esposito                          Young@iworld.de   \n",
       "1                  1             Mok                   ipline's1983@icable.ph   \n",
       "2                  1    Daily Top 10  Karmandeep-opengevl@universalnet.psi.br   \n",
       "3                  1  Michael Parker                        ivqrnai@pobox.com   \n",
       "4                  1  Gretchen Suggs         externalsep1@loanofficertool.com   \n",
       "\n",
       "                  receiver_email        sender_domain  \\\n",
       "0    user4@gvc.ceas-challenge.cc            iworld.de   \n",
       "1  user2.2@gvc.ceas-challenge.cc            icable.ph   \n",
       "2  user2.9@gvc.ceas-challenge.cc  universalnet.psi.br   \n",
       "3    xrh@spamassassin.apache.org            pobox.com   \n",
       "4  user2.2@gvc.ceas-challenge.cc  loanofficertool.com   \n",
       "\n",
       "           receiver_domain  year  month  day  hour  subject_length  \\\n",
       "0    gvc.ceas-challenge.cc  2008      8    5    23               6   \n",
       "1    gvc.ceas-challenge.cc  2008      8    5    23               3   \n",
       "2    gvc.ceas-challenge.cc  2008      8    6     8               4   \n",
       "3  spamassassin.apache.org  2008      8    5    23              10   \n",
       "4    gvc.ceas-challenge.cc  2008      8    5    23               1   \n",
       "\n",
       "   is_reply_email  subject_sentiment  \\\n",
       "0               0               0.00   \n",
       "1               0               0.00   \n",
       "2               0               0.25   \n",
       "3               1               0.00   \n",
       "4               0               0.00   \n",
       "\n",
       "   special_and_formatting_chars_to_body_ratio  \\\n",
       "0                                    0.218978   \n",
       "1                                    0.204819   \n",
       "2                                    0.324062   \n",
       "3                                    0.335558   \n",
       "4                                    0.102273   \n",
       "\n",
       "   uppercase_count_in_sender_email  number_count_in_sender_email  \n",
       "0                                1                             0  \n",
       "1                                0                             4  \n",
       "2                                1                             0  \n",
       "3                                0                             0  \n",
       "4                                0                             1  "
      ]
     },
     "execution_count": 60,
     "metadata": {},
     "output_type": "execute_result"
    }
   ],
   "source": [
    "df.head()"
   ]
  },
  {
   "cell_type": "markdown",
   "metadata": {},
   "source": [
    "### Text Preprocessing"
   ]
  },
  {
   "cell_type": "code",
   "execution_count": 61,
   "metadata": {},
   "outputs": [
    {
     "name": "stderr",
     "output_type": "stream",
     "text": [
      "[nltk_data] Downloading package punkt to /Users/geraldho/nltk_data...\n",
      "[nltk_data]   Package punkt is already up-to-date!\n",
      "[nltk_data] Downloading package punkt_tab to\n",
      "[nltk_data]     /Users/geraldho/nltk_data...\n",
      "[nltk_data]   Package punkt_tab is already up-to-date!\n",
      "[nltk_data] Downloading package stopwords to\n",
      "[nltk_data]     /Users/geraldho/nltk_data...\n",
      "[nltk_data]   Package stopwords is already up-to-date!\n",
      "[nltk_data] Downloading package wordnet to\n",
      "[nltk_data]     /Users/geraldho/nltk_data...\n",
      "[nltk_data]   Package wordnet is already up-to-date!\n"
     ]
    },
    {
     "data": {
      "text/plain": [
       "True"
      ]
     },
     "execution_count": 61,
     "metadata": {},
     "output_type": "execute_result"
    }
   ],
   "source": [
    "# Download nltk datasets\n",
    "\n",
    "try:\n",
    "    _create_unverified_https_context = ssl._create_unverified_context\n",
    "except AttributeError:\n",
    "    pass\n",
    "else:\n",
    "    ssl._create_default_https_context = _create_unverified_https_context\n",
    "\n",
    "nltk.download(\"punkt\")\n",
    "nltk.download(\"punkt_tab\")\n",
    "nltk.download(\"stopwords\")\n",
    "nltk.download(\"wordnet\")"
   ]
  },
  {
   "cell_type": "markdown",
   "metadata": {},
   "source": [
    "#### Preprocess without lemmatization\n",
    "Maintains contextual semantics and meaning"
   ]
  },
  {
   "cell_type": "code",
   "execution_count": 62,
   "metadata": {},
   "outputs": [
    {
     "data": {
      "text/plain": [
       "0        buck troubles caused small dimension soon beco...\n",
       "1        upgrade sex pleasures techniques httpwwwbright...\n",
       "2        daily top cnncom top videos stories aug pm edt...\n",
       "3        would anyone object removing list tld basicall...\n",
       "4        welcomefastshippingcustomersupport httpiwfnabl...\n",
       "                               ...                        \n",
       "35281    cnn alerts custom alert alert name custom aler...\n",
       "35282    cnn alerts custom alert alert name custom aler...\n",
       "35283    hello great work slide show viewer application...\n",
       "35284    mail sender coming intuitcom servers subject t...\n",
       "35285    dear fellow pythonistas guido accepted user si...\n",
       "Name: processed_text, Length: 35286, dtype: object"
      ]
     },
     "execution_count": 62,
     "metadata": {},
     "output_type": "execute_result"
    }
   ],
   "source": [
    "def preprocess_text(text: str) -> str:\n",
    "    # Lowercase the text\n",
    "    text = str(text).lower()\n",
    "\n",
    "    # Remove punctuation, numbers, and special characters\n",
    "    text = re.sub(r\"[^a-z\\s]\", \"\", text)\n",
    "\n",
    "    # Tokenize the text\n",
    "    words = word_tokenize(text)\n",
    "\n",
    "    # Remove stopwords\n",
    "    stop_words = set(stopwords.words(\"english\"))\n",
    "    words = [word for word in words if word not in stop_words]\n",
    "\n",
    "    # Join the words back into a single string\n",
    "    return \" \".join(words)\n",
    "\n",
    "\n",
    "df[\"processed_text\"] = df[\"body\"].apply(preprocess_text)\n",
    "df[\"processed_text\"]"
   ]
  },
  {
   "cell_type": "markdown",
   "metadata": {},
   "source": [
    "#### Preprocessing with lemmatization \n",
    "\n",
    "Raw words"
   ]
  },
  {
   "cell_type": "code",
   "execution_count": 63,
   "metadata": {},
   "outputs": [
    {
     "data": {
      "text/plain": [
       "0        buck trouble caused small dimension soon becom...\n",
       "1        upgrade sex pleasure technique httpwwwbrightma...\n",
       "2        daily top cnncom top video story aug pm edt to...\n",
       "3        would anyone object removing list tld basicall...\n",
       "4        welcomefastshippingcustomersupport httpiwfnabl...\n",
       "                               ...                        \n",
       "35281    cnn alert custom alert alert name custom alert...\n",
       "35282    cnn alert custom alert alert name custom alert...\n",
       "35283    hello great work slide show viewer application...\n",
       "35284    mail sender coming intuitcom server subject tu...\n",
       "35285    dear fellow pythonistas guido accepted user si...\n",
       "Name: processed_lemmatized_text, Length: 35286, dtype: object"
      ]
     },
     "execution_count": 63,
     "metadata": {},
     "output_type": "execute_result"
    }
   ],
   "source": [
    "def apply_lemmatization(text: str) -> str:\n",
    "    words = text.split()\n",
    "\n",
    "    # Lemmatize words\n",
    "    lemmatizer = WordNetLemmatizer()\n",
    "    words = [lemmatizer.lemmatize(word) for word in words]\n",
    "\n",
    "    # Join the words back into a single string\n",
    "    return \" \".join(words)\n",
    "\n",
    "\n",
    "df[\"processed_lemmatized_text\"] = df[\"processed_text\"].apply(apply_lemmatization)\n",
    "df[\"processed_lemmatized_text\"]"
   ]
  },
  {
   "cell_type": "code",
   "execution_count": 64,
   "metadata": {},
   "outputs": [
    {
     "data": {
      "text/html": [
       "<div>\n",
       "<style scoped>\n",
       "    .dataframe tbody tr th:only-of-type {\n",
       "        vertical-align: middle;\n",
       "    }\n",
       "\n",
       "    .dataframe tbody tr th {\n",
       "        vertical-align: top;\n",
       "    }\n",
       "\n",
       "    .dataframe thead th {\n",
       "        text-align: right;\n",
       "    }\n",
       "</style>\n",
       "<table border=\"1\" class=\"dataframe\">\n",
       "  <thead>\n",
       "    <tr style=\"text-align: right;\">\n",
       "      <th></th>\n",
       "      <th>date</th>\n",
       "      <th>subject</th>\n",
       "      <th>body</th>\n",
       "      <th>is_fraud_email</th>\n",
       "      <th>body_contains_url</th>\n",
       "      <th>sender_name</th>\n",
       "      <th>sender_email</th>\n",
       "      <th>receiver_email</th>\n",
       "      <th>sender_domain</th>\n",
       "      <th>receiver_domain</th>\n",
       "      <th>...</th>\n",
       "      <th>day</th>\n",
       "      <th>hour</th>\n",
       "      <th>subject_length</th>\n",
       "      <th>is_reply_email</th>\n",
       "      <th>subject_sentiment</th>\n",
       "      <th>special_and_formatting_chars_to_body_ratio</th>\n",
       "      <th>uppercase_count_in_sender_email</th>\n",
       "      <th>number_count_in_sender_email</th>\n",
       "      <th>processed_text</th>\n",
       "      <th>processed_lemmatized_text</th>\n",
       "    </tr>\n",
       "  </thead>\n",
       "  <tbody>\n",
       "    <tr>\n",
       "      <th>0</th>\n",
       "      <td>2008-08-05 23:31:02+00:00</td>\n",
       "      <td>Never agree to be a loser</td>\n",
       "      <td>Buck up, your troubles caused by small dimensi...</td>\n",
       "      <td>1</td>\n",
       "      <td>1</td>\n",
       "      <td>Young Esposito</td>\n",
       "      <td>Young@iworld.de</td>\n",
       "      <td>user4@gvc.ceas-challenge.cc</td>\n",
       "      <td>iworld.de</td>\n",
       "      <td>gvc.ceas-challenge.cc</td>\n",
       "      <td>...</td>\n",
       "      <td>5</td>\n",
       "      <td>23</td>\n",
       "      <td>6</td>\n",
       "      <td>0</td>\n",
       "      <td>0.00</td>\n",
       "      <td>0.218978</td>\n",
       "      <td>1</td>\n",
       "      <td>0</td>\n",
       "      <td>buck troubles caused small dimension soon beco...</td>\n",
       "      <td>buck trouble caused small dimension soon becom...</td>\n",
       "    </tr>\n",
       "    <tr>\n",
       "      <th>1</th>\n",
       "      <td>2008-08-05 23:31:03+00:00</td>\n",
       "      <td>Befriend Jenna Jameson</td>\n",
       "      <td>\\nUpgrade your sex and pleasures with these te...</td>\n",
       "      <td>1</td>\n",
       "      <td>1</td>\n",
       "      <td>Mok</td>\n",
       "      <td>ipline's1983@icable.ph</td>\n",
       "      <td>user2.2@gvc.ceas-challenge.cc</td>\n",
       "      <td>icable.ph</td>\n",
       "      <td>gvc.ceas-challenge.cc</td>\n",
       "      <td>...</td>\n",
       "      <td>5</td>\n",
       "      <td>23</td>\n",
       "      <td>3</td>\n",
       "      <td>0</td>\n",
       "      <td>0.00</td>\n",
       "      <td>0.204819</td>\n",
       "      <td>0</td>\n",
       "      <td>4</td>\n",
       "      <td>upgrade sex pleasures techniques httpwwwbright...</td>\n",
       "      <td>upgrade sex pleasure technique httpwwwbrightma...</td>\n",
       "    </tr>\n",
       "    <tr>\n",
       "      <th>2</th>\n",
       "      <td>2008-08-06 08:28:00+00:00</td>\n",
       "      <td>CNN.com Daily Top 10</td>\n",
       "      <td>&gt;+=+=+=+=+=+=+=+=+=+=+=+=+=+=+=+=+=+=+=+=+=+=+...</td>\n",
       "      <td>1</td>\n",
       "      <td>1</td>\n",
       "      <td>Daily Top 10</td>\n",
       "      <td>Karmandeep-opengevl@universalnet.psi.br</td>\n",
       "      <td>user2.9@gvc.ceas-challenge.cc</td>\n",
       "      <td>universalnet.psi.br</td>\n",
       "      <td>gvc.ceas-challenge.cc</td>\n",
       "      <td>...</td>\n",
       "      <td>6</td>\n",
       "      <td>8</td>\n",
       "      <td>4</td>\n",
       "      <td>0</td>\n",
       "      <td>0.25</td>\n",
       "      <td>0.324062</td>\n",
       "      <td>1</td>\n",
       "      <td>0</td>\n",
       "      <td>daily top cnncom top videos stories aug pm edt...</td>\n",
       "      <td>daily top cnncom top video story aug pm edt to...</td>\n",
       "    </tr>\n",
       "    <tr>\n",
       "      <th>3</th>\n",
       "      <td>2008-08-05 23:31:20+00:00</td>\n",
       "      <td>Re: svn commit: r619753 - in /spamassassin/tru...</td>\n",
       "      <td>Would anyone object to removing .so from this ...</td>\n",
       "      <td>0</td>\n",
       "      <td>1</td>\n",
       "      <td>Michael Parker</td>\n",
       "      <td>ivqrnai@pobox.com</td>\n",
       "      <td>xrh@spamassassin.apache.org</td>\n",
       "      <td>pobox.com</td>\n",
       "      <td>spamassassin.apache.org</td>\n",
       "      <td>...</td>\n",
       "      <td>5</td>\n",
       "      <td>23</td>\n",
       "      <td>10</td>\n",
       "      <td>1</td>\n",
       "      <td>0.00</td>\n",
       "      <td>0.335558</td>\n",
       "      <td>0</td>\n",
       "      <td>0</td>\n",
       "      <td>would anyone object removing list tld basicall...</td>\n",
       "      <td>would anyone object removing list tld basicall...</td>\n",
       "    </tr>\n",
       "    <tr>\n",
       "      <th>4</th>\n",
       "      <td>2008-08-05 23:31:21+00:00</td>\n",
       "      <td>SpecialPricesPharmMoreinfo</td>\n",
       "      <td>\\nWelcomeFastShippingCustomerSupport\\nhttp://7...</td>\n",
       "      <td>1</td>\n",
       "      <td>1</td>\n",
       "      <td>Gretchen Suggs</td>\n",
       "      <td>externalsep1@loanofficertool.com</td>\n",
       "      <td>user2.2@gvc.ceas-challenge.cc</td>\n",
       "      <td>loanofficertool.com</td>\n",
       "      <td>gvc.ceas-challenge.cc</td>\n",
       "      <td>...</td>\n",
       "      <td>5</td>\n",
       "      <td>23</td>\n",
       "      <td>1</td>\n",
       "      <td>0</td>\n",
       "      <td>0.00</td>\n",
       "      <td>0.102273</td>\n",
       "      <td>0</td>\n",
       "      <td>1</td>\n",
       "      <td>welcomefastshippingcustomersupport httpiwfnabl...</td>\n",
       "      <td>welcomefastshippingcustomersupport httpiwfnabl...</td>\n",
       "    </tr>\n",
       "  </tbody>\n",
       "</table>\n",
       "<p>5 rows × 22 columns</p>\n",
       "</div>"
      ],
      "text/plain": [
       "                       date  \\\n",
       "0 2008-08-05 23:31:02+00:00   \n",
       "1 2008-08-05 23:31:03+00:00   \n",
       "2 2008-08-06 08:28:00+00:00   \n",
       "3 2008-08-05 23:31:20+00:00   \n",
       "4 2008-08-05 23:31:21+00:00   \n",
       "\n",
       "                                             subject  \\\n",
       "0                          Never agree to be a loser   \n",
       "1                             Befriend Jenna Jameson   \n",
       "2                               CNN.com Daily Top 10   \n",
       "3  Re: svn commit: r619753 - in /spamassassin/tru...   \n",
       "4                         SpecialPricesPharmMoreinfo   \n",
       "\n",
       "                                                body  is_fraud_email  \\\n",
       "0  Buck up, your troubles caused by small dimensi...               1   \n",
       "1  \\nUpgrade your sex and pleasures with these te...               1   \n",
       "2  >+=+=+=+=+=+=+=+=+=+=+=+=+=+=+=+=+=+=+=+=+=+=+...               1   \n",
       "3  Would anyone object to removing .so from this ...               0   \n",
       "4  \\nWelcomeFastShippingCustomerSupport\\nhttp://7...               1   \n",
       "\n",
       "   body_contains_url     sender_name                             sender_email  \\\n",
       "0                  1  Young Esposito                          Young@iworld.de   \n",
       "1                  1             Mok                   ipline's1983@icable.ph   \n",
       "2                  1    Daily Top 10  Karmandeep-opengevl@universalnet.psi.br   \n",
       "3                  1  Michael Parker                        ivqrnai@pobox.com   \n",
       "4                  1  Gretchen Suggs         externalsep1@loanofficertool.com   \n",
       "\n",
       "                  receiver_email        sender_domain  \\\n",
       "0    user4@gvc.ceas-challenge.cc            iworld.de   \n",
       "1  user2.2@gvc.ceas-challenge.cc            icable.ph   \n",
       "2  user2.9@gvc.ceas-challenge.cc  universalnet.psi.br   \n",
       "3    xrh@spamassassin.apache.org            pobox.com   \n",
       "4  user2.2@gvc.ceas-challenge.cc  loanofficertool.com   \n",
       "\n",
       "           receiver_domain  ...  day  hour  subject_length  is_reply_email  \\\n",
       "0    gvc.ceas-challenge.cc  ...    5    23               6               0   \n",
       "1    gvc.ceas-challenge.cc  ...    5    23               3               0   \n",
       "2    gvc.ceas-challenge.cc  ...    6     8               4               0   \n",
       "3  spamassassin.apache.org  ...    5    23              10               1   \n",
       "4    gvc.ceas-challenge.cc  ...    5    23               1               0   \n",
       "\n",
       "   subject_sentiment  special_and_formatting_chars_to_body_ratio  \\\n",
       "0               0.00                                    0.218978   \n",
       "1               0.00                                    0.204819   \n",
       "2               0.25                                    0.324062   \n",
       "3               0.00                                    0.335558   \n",
       "4               0.00                                    0.102273   \n",
       "\n",
       "   uppercase_count_in_sender_email  number_count_in_sender_email  \\\n",
       "0                                1                             0   \n",
       "1                                0                             4   \n",
       "2                                1                             0   \n",
       "3                                0                             0   \n",
       "4                                0                             1   \n",
       "\n",
       "                                      processed_text  \\\n",
       "0  buck troubles caused small dimension soon beco...   \n",
       "1  upgrade sex pleasures techniques httpwwwbright...   \n",
       "2  daily top cnncom top videos stories aug pm edt...   \n",
       "3  would anyone object removing list tld basicall...   \n",
       "4  welcomefastshippingcustomersupport httpiwfnabl...   \n",
       "\n",
       "                           processed_lemmatized_text  \n",
       "0  buck trouble caused small dimension soon becom...  \n",
       "1  upgrade sex pleasure technique httpwwwbrightma...  \n",
       "2  daily top cnncom top video story aug pm edt to...  \n",
       "3  would anyone object removing list tld basicall...  \n",
       "4  welcomefastshippingcustomersupport httpiwfnabl...  \n",
       "\n",
       "[5 rows x 22 columns]"
      ]
     },
     "execution_count": 64,
     "metadata": {},
     "output_type": "execute_result"
    }
   ],
   "source": [
    "df.head()"
   ]
  },
  {
   "cell_type": "markdown",
   "metadata": {},
   "source": [
    "## TF-IDF "
   ]
  },
  {
   "cell_type": "markdown",
   "metadata": {},
   "source": [
    "### Creating the Desired Dataset"
   ]
  },
  {
   "cell_type": "code",
   "execution_count": 65,
   "metadata": {},
   "outputs": [],
   "source": [
    "wanted_columns_tfidf = [\n",
    "    \"body_contains_url\",\n",
    "    \"hour\",\n",
    "    \"subject_length\",\n",
    "    \"is_reply_email\",\n",
    "    \"subject_sentiment\",\n",
    "    \"special_and_formatting_chars_to_body_ratio\",\n",
    "    \"uppercase_count_in_sender_email\",\n",
    "    \"number_count_in_sender_email\",\n",
    "    \"processed_lemmatized_text\",\n",
    "]"
   ]
  },
  {
   "cell_type": "code",
   "execution_count": 66,
   "metadata": {},
   "outputs": [],
   "source": [
    "X_tfidf = df[wanted_columns_tfidf]\n",
    "y_tfidf = df[\"is_fraud_email\"]\n",
    "\n",
    "# Train set and Val + Test set\n",
    "X_train_tfidf, X_temp_tfidf, y_train_tfidf, y_temp_tfidf = train_test_split(\n",
    "    X_tfidf, y_tfidf, test_size=0.4, random_state=SEED\n",
    ")\n",
    "\n",
    "# Split Val + Test set to 50 / 50 splits\n",
    "X_val_tfidf, X_test_tfidf, y_val_tfidf, y_test_tfidf = train_test_split(\n",
    "    X_temp_tfidf, y_temp_tfidf, test_size=0.5, random_state=SEED\n",
    ")\n",
    "\n",
    "X_train_tfidf.reset_index(inplace=True)\n",
    "X_val_tfidf.reset_index(inplace=True)\n",
    "X_test_tfidf.reset_index(inplace=True)"
   ]
  },
  {
   "cell_type": "code",
   "execution_count": 67,
   "metadata": {},
   "outputs": [
    {
     "data": {
      "text/plain": [
       "<21171x110046 sparse matrix of type '<class 'numpy.float64'>'\n",
       "\twith 1563254 stored elements in Compressed Sparse Row format>"
      ]
     },
     "execution_count": 67,
     "metadata": {},
     "output_type": "execute_result"
    }
   ],
   "source": [
    "tfidf_vectorizer = TfidfVectorizer()\n",
    "\n",
    "X_train_tfidf_matrix = tfidf_vectorizer.fit_transform(\n",
    "    X_train_tfidf[\"processed_lemmatized_text\"]\n",
    ")\n",
    "X_val_tfidf_matrix = tfidf_vectorizer.transform(\n",
    "    X_val_tfidf[\"processed_lemmatized_text\"]\n",
    ")\n",
    "X_test_tfidf_matrix = tfidf_vectorizer.transform(\n",
    "    X_test_tfidf[\"processed_lemmatized_text\"]\n",
    ")\n",
    "\n",
    "X_train_tfidf_matrix"
   ]
  },
  {
   "cell_type": "markdown",
   "metadata": {},
   "source": [
    "The value 110046 illustrates the number of dimensions the bag of words contain. As the number if rather large, we will be reducing the number of features by removing low-variance features (i.e., words that hardly appear). "
   ]
  },
  {
   "cell_type": "code",
   "execution_count": 68,
   "metadata": {},
   "outputs": [],
   "source": [
    "threshold = 0.0005\n",
    "\n",
    "selector = VarianceThreshold(threshold)\n",
    "\n",
    "X_train_tfidf_matrix_selected = selector.fit_transform(X_train_tfidf_matrix)\n",
    "X_val_tfidf_matrix_selected = selector.transform(X_val_tfidf_matrix)\n",
    "X_test_tfidf_matrix_selected = selector.transform(X_test_tfidf_matrix)\n",
    "\n",
    "feature_mask = selector.get_support()\n",
    "feature_names = tfidf_vectorizer.get_feature_names_out()\n",
    "\n",
    "reduced_feature_names = feature_names[feature_mask]\n",
    "\n",
    "X_train_tfidf_df = pd.DataFrame(\n",
    "    X_train_tfidf_matrix_selected.toarray(), columns=reduced_feature_names\n",
    ")\n",
    "X_val_tfidf_df = pd.DataFrame(\n",
    "    X_val_tfidf_matrix_selected.toarray(), columns=reduced_feature_names\n",
    ")\n",
    "X_test_tfidf_df = pd.DataFrame(\n",
    "    X_test_tfidf_matrix_selected.toarray(), columns=reduced_feature_names\n",
    ")"
   ]
  },
  {
   "cell_type": "code",
   "execution_count": 69,
   "metadata": {},
   "outputs": [],
   "source": [
    "# combine the datasets\n",
    "X_train_tfidf = pd.concat([X_train_tfidf, X_train_tfidf_df], axis=1)\n",
    "X_val_tfidf = pd.concat([X_val_tfidf, X_val_tfidf_df], axis=1)\n",
    "X_test_tfidf = pd.concat([X_test_tfidf, X_test_tfidf_df], axis=1)"
   ]
  },
  {
   "cell_type": "code",
   "execution_count": 70,
   "metadata": {},
   "outputs": [
    {
     "data": {
      "text/html": [
       "<div>\n",
       "<style scoped>\n",
       "    .dataframe tbody tr th:only-of-type {\n",
       "        vertical-align: middle;\n",
       "    }\n",
       "\n",
       "    .dataframe tbody tr th {\n",
       "        vertical-align: top;\n",
       "    }\n",
       "\n",
       "    .dataframe thead th {\n",
       "        text-align: right;\n",
       "    }\n",
       "</style>\n",
       "<table border=\"1\" class=\"dataframe\">\n",
       "  <thead>\n",
       "    <tr style=\"text-align: right;\">\n",
       "      <th></th>\n",
       "      <th>index</th>\n",
       "      <th>body_contains_url</th>\n",
       "      <th>hour</th>\n",
       "      <th>subject_length</th>\n",
       "      <th>is_reply_email</th>\n",
       "      <th>subject_sentiment</th>\n",
       "      <th>special_and_formatting_chars_to_body_ratio</th>\n",
       "      <th>uppercase_count_in_sender_email</th>\n",
       "      <th>number_count_in_sender_email</th>\n",
       "      <th>processed_lemmatized_text</th>\n",
       "      <th>...</th>\n",
       "      <th>watch</th>\n",
       "      <th>week</th>\n",
       "      <th>weight</th>\n",
       "      <th>within</th>\n",
       "      <th>woman</th>\n",
       "      <th>work</th>\n",
       "      <th>workshop</th>\n",
       "      <th>world</th>\n",
       "      <th>would</th>\n",
       "      <th>wrote</th>\n",
       "    </tr>\n",
       "  </thead>\n",
       "  <tbody>\n",
       "    <tr>\n",
       "      <th>0</th>\n",
       "      <td>20072</td>\n",
       "      <td>1</td>\n",
       "      <td>9</td>\n",
       "      <td>4</td>\n",
       "      <td>0</td>\n",
       "      <td>0.25</td>\n",
       "      <td>0.327184</td>\n",
       "      <td>1</td>\n",
       "      <td>0</td>\n",
       "      <td>daily top cnncom top video story aug pm edt to...</td>\n",
       "      <td>...</td>\n",
       "      <td>0.0</td>\n",
       "      <td>0.0</td>\n",
       "      <td>0.0</td>\n",
       "      <td>0.0</td>\n",
       "      <td>0.057594</td>\n",
       "      <td>0.00000</td>\n",
       "      <td>0.0</td>\n",
       "      <td>0.000000</td>\n",
       "      <td>0.0</td>\n",
       "      <td>0.000000</td>\n",
       "    </tr>\n",
       "    <tr>\n",
       "      <th>1</th>\n",
       "      <td>23708</td>\n",
       "      <td>1</td>\n",
       "      <td>6</td>\n",
       "      <td>5</td>\n",
       "      <td>0</td>\n",
       "      <td>0.00</td>\n",
       "      <td>0.212121</td>\n",
       "      <td>2</td>\n",
       "      <td>0</td>\n",
       "      <td>get free bottle today change life wait thanks ...</td>\n",
       "      <td>...</td>\n",
       "      <td>0.0</td>\n",
       "      <td>0.0</td>\n",
       "      <td>0.0</td>\n",
       "      <td>0.0</td>\n",
       "      <td>0.000000</td>\n",
       "      <td>0.00000</td>\n",
       "      <td>0.0</td>\n",
       "      <td>0.000000</td>\n",
       "      <td>0.0</td>\n",
       "      <td>0.000000</td>\n",
       "    </tr>\n",
       "    <tr>\n",
       "      <th>2</th>\n",
       "      <td>29859</td>\n",
       "      <td>0</td>\n",
       "      <td>3</td>\n",
       "      <td>8</td>\n",
       "      <td>1</td>\n",
       "      <td>0.00</td>\n",
       "      <td>0.289067</td>\n",
       "      <td>0</td>\n",
       "      <td>0</td>\n",
       "      <td>ill give shot thanks matt kettler wrote mike f...</td>\n",
       "      <td>...</td>\n",
       "      <td>0.0</td>\n",
       "      <td>0.0</td>\n",
       "      <td>0.0</td>\n",
       "      <td>0.0</td>\n",
       "      <td>0.000000</td>\n",
       "      <td>0.07332</td>\n",
       "      <td>0.0</td>\n",
       "      <td>0.050703</td>\n",
       "      <td>0.0</td>\n",
       "      <td>0.066239</td>\n",
       "    </tr>\n",
       "  </tbody>\n",
       "</table>\n",
       "<p>3 rows × 232 columns</p>\n",
       "</div>"
      ],
      "text/plain": [
       "   index  body_contains_url  hour  subject_length  is_reply_email  \\\n",
       "0  20072                  1     9               4               0   \n",
       "1  23708                  1     6               5               0   \n",
       "2  29859                  0     3               8               1   \n",
       "\n",
       "   subject_sentiment  special_and_formatting_chars_to_body_ratio  \\\n",
       "0               0.25                                    0.327184   \n",
       "1               0.00                                    0.212121   \n",
       "2               0.00                                    0.289067   \n",
       "\n",
       "   uppercase_count_in_sender_email  number_count_in_sender_email  \\\n",
       "0                                1                             0   \n",
       "1                                2                             0   \n",
       "2                                0                             0   \n",
       "\n",
       "                           processed_lemmatized_text  ...  watch  week  \\\n",
       "0  daily top cnncom top video story aug pm edt to...  ...    0.0   0.0   \n",
       "1  get free bottle today change life wait thanks ...  ...    0.0   0.0   \n",
       "2  ill give shot thanks matt kettler wrote mike f...  ...    0.0   0.0   \n",
       "\n",
       "   weight  within     woman     work  workshop     world  would     wrote  \n",
       "0     0.0     0.0  0.057594  0.00000       0.0  0.000000    0.0  0.000000  \n",
       "1     0.0     0.0  0.000000  0.00000       0.0  0.000000    0.0  0.000000  \n",
       "2     0.0     0.0  0.000000  0.07332       0.0  0.050703    0.0  0.066239  \n",
       "\n",
       "[3 rows x 232 columns]"
      ]
     },
     "execution_count": 70,
     "metadata": {},
     "output_type": "execute_result"
    }
   ],
   "source": [
    "X_train_tfidf.head(3)"
   ]
  },
  {
   "cell_type": "code",
   "execution_count": 71,
   "metadata": {},
   "outputs": [],
   "source": [
    "X_train_tfidf.drop(\"processed_lemmatized_text\", axis=1, inplace=True)\n",
    "X_val_tfidf.drop(\"processed_lemmatized_text\", axis=1, inplace=True)\n",
    "X_test_tfidf.drop(\"processed_lemmatized_text\", axis=1, inplace=True)"
   ]
  },
  {
   "cell_type": "markdown",
   "metadata": {},
   "source": [
    "## Model Training & Evaluation (TF-IDF)"
   ]
  },
  {
   "cell_type": "markdown",
   "metadata": {},
   "source": [
    "### SVM"
   ]
  },
  {
   "cell_type": "code",
   "execution_count": 72,
   "metadata": {},
   "outputs": [],
   "source": [
    "# svm_classifier_tfidf = SVC(kernel=\"rbf\", probability=True)\n",
    "\n",
    "# y_val_pred_tfidf, y_val_pred_prob_tfidf = train_model(svm_classifier_tfidf, X_train_tfidf, y_train_tfidf, X_val_tfidf)\n",
    "\n",
    "# generate_metrics(y_val_tfidf, y_val_pred_tfidf, y_val_pred_prob_tfidf)"
   ]
  },
  {
   "cell_type": "markdown",
   "metadata": {},
   "source": [
    "### Random Forest"
   ]
  },
  {
   "cell_type": "code",
   "execution_count": 73,
   "metadata": {},
   "outputs": [
    {
     "name": "stdout",
     "output_type": "stream",
     "text": [
      "Classification Report\n",
      "              precision    recall  f1-score   support\n",
      "\n",
      "           0       1.00      0.99      0.99      3043\n",
      "           1       0.99      1.00      0.99      4014\n",
      "\n",
      "    accuracy                           0.99      7057\n",
      "   macro avg       0.99      0.99      0.99      7057\n",
      "weighted avg       0.99      0.99      0.99      7057\n",
      "\n",
      "AUC Score: 0.9990\n"
     ]
    },
    {
     "data": {
      "image/png": "[encoded data removed]",
      "text/plain": [
       "<Figure size 640x480 with 1 Axes>"
      ]
     },
     "metadata": {},
     "output_type": "display_data"
    }
   ],
   "source": [
    "rf_classifier_tfidf = RandomForestClassifier(n_estimators=200)\n",
    "\n",
    "y_val_pred_tfidf, y_val_pred_prob_tfidf = train_model(\n",
    "    rf_classifier_tfidf, X_train_tfidf, y_train_tfidf, X_val_tfidf\n",
    ")\n",
    "\n",
    "generate_metrics(y_val_tfidf, y_val_pred_tfidf, y_val_pred_prob_tfidf)"
   ]
  },
  {
   "cell_type": "markdown",
   "metadata": {},
   "source": [
    "### Neural Network"
   ]
  },
  {
   "cell_type": "code",
   "execution_count": 74,
   "metadata": {},
   "outputs": [
    {
     "name": "stdout",
     "output_type": "stream",
     "text": [
      "Classification Report\n",
      "              precision    recall  f1-score   support\n",
      "\n",
      "           0       0.98      0.40      0.57      3043\n",
      "           1       0.69      0.99      0.81      4014\n",
      "\n",
      "    accuracy                           0.74      7057\n",
      "   macro avg       0.83      0.70      0.69      7057\n",
      "weighted avg       0.81      0.74      0.71      7057\n",
      "\n",
      "AUC Score: 0.9003\n"
     ]
    },
    {
     "data": {
      "image/png": "[encoded data removed]",
      "text/plain": [
       "<Figure size 640x480 with 1 Axes>"
      ]
     },
     "metadata": {},
     "output_type": "display_data"
    }
   ],
   "source": [
    "nn_model_tfidf = MLPClassifier(hidden_layer_sizes=(200,), max_iter=5000)\n",
    "\n",
    "y_val_pred_tfidf, y_val_pred_prob_tfidf = train_model(\n",
    "    nn_model_tfidf, X_train_tfidf, y_train_tfidf, X_val_tfidf\n",
    ")\n",
    "\n",
    "generate_metrics(y_val_tfidf, y_val_pred_tfidf, y_val_pred_prob_tfidf)"
   ]
  },
  {
   "cell_type": "markdown",
   "metadata": {},
   "source": [
    "### Evaluating on Test Set (TF-IDF)\n",
    "- Random Forest Classifier appears to perform the best with the highest ROC (almost 1)\n",
    "- We will now evaluate it on the test set"
   ]
  },
  {
   "cell_type": "code",
   "execution_count": 75,
   "metadata": {},
   "outputs": [
    {
     "name": "stdout",
     "output_type": "stream",
     "text": [
      "Classification Report\n",
      "              precision    recall  f1-score   support\n",
      "\n",
      "           0       0.99      0.99      0.99      2890\n",
      "           1       0.99      0.99      0.99      4168\n",
      "\n",
      "    accuracy                           0.99      7058\n",
      "   macro avg       0.99      0.99      0.99      7058\n",
      "weighted avg       0.99      0.99      0.99      7058\n",
      "\n",
      "AUC Score: 0.9991\n"
     ]
    },
    {
     "data": {
      "image/png": "[encoded data removed]",
      "text/plain": [
       "<Figure size 640x480 with 1 Axes>"
      ]
     },
     "metadata": {},
     "output_type": "display_data"
    }
   ],
   "source": [
    "y_test_pred_tfidf = rf_classifier_tfidf.predict(X_test_tfidf)\n",
    "y_test_pred_prob_tfidf = rf_classifier_tfidf.predict_proba(X_test_tfidf)[:, 1]\n",
    "\n",
    "generate_metrics(y_test_tfidf, y_test_pred_tfidf, y_test_pred_prob_tfidf)"
   ]
  },
  {
   "cell_type": "markdown",
   "metadata": {},
   "source": [
    "### Sentence Transformers - MPNet"
   ]
  },
  {
   "cell_type": "code",
   "execution_count": 76,
   "metadata": {},
   "outputs": [],
   "source": [
    "wanted_columns_st = [\n",
    "    \"body_contains_url\",\n",
    "    \"hour\",\n",
    "    \"subject_length\",\n",
    "    \"is_reply_email\",\n",
    "    \"subject_sentiment\",\n",
    "    \"special_and_formatting_chars_to_body_ratio\",\n",
    "    \"uppercase_count_in_sender_email\",\n",
    "    \"number_count_in_sender_email\",\n",
    "    \"processed_text\",\n",
    "]"
   ]
  },
  {
   "cell_type": "code",
   "execution_count": 77,
   "metadata": {},
   "outputs": [],
   "source": [
    "X_st = df[wanted_columns_st]\n",
    "y_st = df[\"is_fraud_email\"]\n",
    "\n",
    "# Train set and Val + Test set\n",
    "X_train_st, X_temp_st, y_train_st, y_temp_st = train_test_split(\n",
    "    X_st, y_st, test_size=0.4, random_state=SEED\n",
    ")\n",
    "\n",
    "# Split Val + Test set to 50 / 50 splits\n",
    "X_val_st, X_test_st, y_val_st, y_test_st = train_test_split(\n",
    "    X_temp_st, y_temp_st, test_size=0.5, random_state=SEED\n",
    ")\n",
    "\n",
    "X_train_st.reset_index(inplace=True)\n",
    "X_val_st.reset_index(inplace=True)\n",
    "X_test_st.reset_index(inplace=True)"
   ]
  },
  {
   "cell_type": "code",
   "execution_count": 78,
   "metadata": {},
   "outputs": [],
   "source": [
    "file_path_train = \"./models/sentence_transformer/train_embeddings.npy\"\n",
    "file_path_val = \"./models/sentence_transformer/val_embeddings.npy\"\n",
    "file_path_test = \"./models/sentence_transformer/test_embeddings.npy\"\n",
    "\n",
    "# Check if the file exists\n",
    "if (\n",
    "    os.path.exists(file_path_train)\n",
    "    and os.path.exists(file_path_test)\n",
    "    and os.path.exists(file_path_val)\n",
    "):\n",
    "    train_embeddings = np.load(file_path_train)\n",
    "    val_embeddings = np.load(file_path_val)\n",
    "    test_embeddings = np.load(file_path_test)\n",
    "else:\n",
    "    # Load the MPNet model\n",
    "    sentence_transformer_model = SentenceTransformer(\"all-mpnet-base-v2\")\n",
    "\n",
    "    # Encode the texts\n",
    "    train_embeddings = sentence_transformer_model.encode(\n",
    "        X_train_st[\"processed_text\"].tolist()\n",
    "    )\n",
    "    val_embeddings = sentence_transformer_model.encode(\n",
    "        X_val_st[\"processed_text\"].tolist()\n",
    "    )\n",
    "    test_embeddings = sentence_transformer_model.encode(\n",
    "        X_test_st[\"processed_text\"].tolist()\n",
    "    )\n",
    "\n",
    "    np.save(file_path_train, train_embeddings)\n",
    "    np.save(file_path_val, val_embeddings)\n",
    "    np.save(file_path_test, test_embeddings)\n",
    "\n",
    "X_train_st_df = pd.DataFrame(train_embeddings)\n",
    "X_val_st_df = pd.DataFrame(val_embeddings)\n",
    "X_test_st_df = pd.DataFrame(test_embeddings)"
   ]
  },
  {
   "cell_type": "code",
   "execution_count": 79,
   "metadata": {},
   "outputs": [],
   "source": [
    "X_train_st.drop(\"processed_text\", axis=1, inplace=True)\n",
    "X_val_st.drop(\"processed_text\", axis=1, inplace=True)\n",
    "X_test_st.drop(\"processed_text\", axis=1, inplace=True)"
   ]
  },
  {
   "cell_type": "code",
   "execution_count": 80,
   "metadata": {},
   "outputs": [],
   "source": [
    "X_train_st_df.columns = X_train_st_df.columns.astype(str)\n",
    "X_val_st_df.columns = X_val_st_df.columns.astype(str)\n",
    "X_test_st_df.columns = X_test_st_df.columns.astype(str)"
   ]
  },
  {
   "cell_type": "code",
   "execution_count": 81,
   "metadata": {},
   "outputs": [],
   "source": [
    "# combine the datasets\n",
    "X_train_st = pd.concat([X_train_st, X_train_st_df], axis=1)\n",
    "X_val_st = pd.concat([X_val_st, X_val_st_df], axis=1)\n",
    "X_test_st = pd.concat([X_test_st, X_test_st_df], axis=1)"
   ]
  },
  {
   "cell_type": "code",
   "execution_count": 82,
   "metadata": {},
   "outputs": [
    {
     "data": {
      "text/html": [
       "<div>\n",
       "<style scoped>\n",
       "    .dataframe tbody tr th:only-of-type {\n",
       "        vertical-align: middle;\n",
       "    }\n",
       "\n",
       "    .dataframe tbody tr th {\n",
       "        vertical-align: top;\n",
       "    }\n",
       "\n",
       "    .dataframe thead th {\n",
       "        text-align: right;\n",
       "    }\n",
       "</style>\n",
       "<table border=\"1\" class=\"dataframe\">\n",
       "  <thead>\n",
       "    <tr style=\"text-align: right;\">\n",
       "      <th></th>\n",
       "      <th>index</th>\n",
       "      <th>body_contains_url</th>\n",
       "      <th>hour</th>\n",
       "      <th>subject_length</th>\n",
       "      <th>is_reply_email</th>\n",
       "      <th>subject_sentiment</th>\n",
       "      <th>special_and_formatting_chars_to_body_ratio</th>\n",
       "      <th>uppercase_count_in_sender_email</th>\n",
       "      <th>number_count_in_sender_email</th>\n",
       "      <th>0</th>\n",
       "      <th>...</th>\n",
       "      <th>758</th>\n",
       "      <th>759</th>\n",
       "      <th>760</th>\n",
       "      <th>761</th>\n",
       "      <th>762</th>\n",
       "      <th>763</th>\n",
       "      <th>764</th>\n",
       "      <th>765</th>\n",
       "      <th>766</th>\n",
       "      <th>767</th>\n",
       "    </tr>\n",
       "  </thead>\n",
       "  <tbody>\n",
       "    <tr>\n",
       "      <th>0</th>\n",
       "      <td>20072</td>\n",
       "      <td>1</td>\n",
       "      <td>9</td>\n",
       "      <td>4</td>\n",
       "      <td>0</td>\n",
       "      <td>0.25</td>\n",
       "      <td>0.327184</td>\n",
       "      <td>1</td>\n",
       "      <td>0</td>\n",
       "      <td>0.030689</td>\n",
       "      <td>...</td>\n",
       "      <td>-0.022919</td>\n",
       "      <td>0.033274</td>\n",
       "      <td>-0.032379</td>\n",
       "      <td>-0.003100</td>\n",
       "      <td>0.005012</td>\n",
       "      <td>0.034340</td>\n",
       "      <td>-0.031739</td>\n",
       "      <td>-0.019658</td>\n",
       "      <td>-0.039011</td>\n",
       "      <td>-0.007887</td>\n",
       "    </tr>\n",
       "    <tr>\n",
       "      <th>1</th>\n",
       "      <td>23708</td>\n",
       "      <td>1</td>\n",
       "      <td>6</td>\n",
       "      <td>5</td>\n",
       "      <td>0</td>\n",
       "      <td>0.00</td>\n",
       "      <td>0.212121</td>\n",
       "      <td>2</td>\n",
       "      <td>0</td>\n",
       "      <td>0.046284</td>\n",
       "      <td>...</td>\n",
       "      <td>0.036121</td>\n",
       "      <td>0.014700</td>\n",
       "      <td>-0.004190</td>\n",
       "      <td>0.019229</td>\n",
       "      <td>-0.009407</td>\n",
       "      <td>0.044365</td>\n",
       "      <td>-0.025799</td>\n",
       "      <td>-0.003976</td>\n",
       "      <td>-0.003489</td>\n",
       "      <td>-0.077026</td>\n",
       "    </tr>\n",
       "    <tr>\n",
       "      <th>2</th>\n",
       "      <td>29859</td>\n",
       "      <td>0</td>\n",
       "      <td>3</td>\n",
       "      <td>8</td>\n",
       "      <td>1</td>\n",
       "      <td>0.00</td>\n",
       "      <td>0.289067</td>\n",
       "      <td>0</td>\n",
       "      <td>0</td>\n",
       "      <td>0.021217</td>\n",
       "      <td>...</td>\n",
       "      <td>-0.015435</td>\n",
       "      <td>-0.045610</td>\n",
       "      <td>0.006561</td>\n",
       "      <td>0.046616</td>\n",
       "      <td>-0.014869</td>\n",
       "      <td>0.019166</td>\n",
       "      <td>0.033631</td>\n",
       "      <td>-0.014721</td>\n",
       "      <td>-0.004310</td>\n",
       "      <td>-0.018653</td>\n",
       "    </tr>\n",
       "  </tbody>\n",
       "</table>\n",
       "<p>3 rows × 777 columns</p>\n",
       "</div>"
      ],
      "text/plain": [
       "   index  body_contains_url  hour  subject_length  is_reply_email  \\\n",
       "0  20072                  1     9               4               0   \n",
       "1  23708                  1     6               5               0   \n",
       "2  29859                  0     3               8               1   \n",
       "\n",
       "   subject_sentiment  special_and_formatting_chars_to_body_ratio  \\\n",
       "0               0.25                                    0.327184   \n",
       "1               0.00                                    0.212121   \n",
       "2               0.00                                    0.289067   \n",
       "\n",
       "   uppercase_count_in_sender_email  number_count_in_sender_email         0  \\\n",
       "0                                1                             0  0.030689   \n",
       "1                                2                             0  0.046284   \n",
       "2                                0                             0  0.021217   \n",
       "\n",
       "   ...       758       759       760       761       762       763       764  \\\n",
       "0  ... -0.022919  0.033274 -0.032379 -0.003100  0.005012  0.034340 -0.031739   \n",
       "1  ...  0.036121  0.014700 -0.004190  0.019229 -0.009407  0.044365 -0.025799   \n",
       "2  ... -0.015435 -0.045610  0.006561  0.046616 -0.014869  0.019166  0.033631   \n",
       "\n",
       "        765       766       767  \n",
       "0 -0.019658 -0.039011 -0.007887  \n",
       "1 -0.003976 -0.003489 -0.077026  \n",
       "2 -0.014721 -0.004310 -0.018653  \n",
       "\n",
       "[3 rows x 777 columns]"
      ]
     },
     "execution_count": 82,
     "metadata": {},
     "output_type": "execute_result"
    }
   ],
   "source": [
    "X_train_st.head(3)"
   ]
  },
  {
   "cell_type": "markdown",
   "metadata": {},
   "source": [
    "## Model Training & Evaluation (Sentence Transformer)"
   ]
  },
  {
   "cell_type": "markdown",
   "metadata": {},
   "source": [
    "### SVM"
   ]
  },
  {
   "cell_type": "code",
   "execution_count": 83,
   "metadata": {},
   "outputs": [],
   "source": [
    "# svm_classifier_st = SVC(kernel=\"linear\", probability=True)\n",
    "\n",
    "# y_val_pred_st, y_val_pred_prob_st = train_model(svm_classifier_st, X_train_st, y_train_st, X_val_st)\n",
    "\n",
    "# generate_metrics(y_val_st, y_val_pred_st, y_val_pred_prob_st)"
   ]
  },
  {
   "cell_type": "markdown",
   "metadata": {},
   "source": [
    "### Random Forest"
   ]
  },
  {
   "cell_type": "code",
   "execution_count": 84,
   "metadata": {},
   "outputs": [
    {
     "name": "stdout",
     "output_type": "stream",
     "text": [
      "Classification Report\n",
      "              precision    recall  f1-score   support\n",
      "\n",
      "           0       0.99      0.99      0.99      3043\n",
      "           1       0.99      0.99      0.99      4014\n",
      "\n",
      "    accuracy                           0.99      7057\n",
      "   macro avg       0.99      0.99      0.99      7057\n",
      "weighted avg       0.99      0.99      0.99      7057\n",
      "\n",
      "AUC Score: 0.9992\n"
     ]
    },
    {
     "data": {
      "image/png": "[encoded data removed]",
      "text/plain": [
       "<Figure size 640x480 with 1 Axes>"
      ]
     },
     "metadata": {},
     "output_type": "display_data"
    }
   ],
   "source": [
    "rf_classifier_st = RandomForestClassifier(n_estimators=200)\n",
    "\n",
    "y_val_pred_st, y_val_pred_prob_st = train_model(\n",
    "    rf_classifier_st, X_train_st, y_train_st, X_val_st\n",
    ")\n",
    "\n",
    "generate_metrics(y_val_st, y_val_pred_st, y_val_pred_prob_st)"
   ]
  },
  {
   "cell_type": "markdown",
   "metadata": {},
   "source": [
    "### Neural Network"
   ]
  },
  {
   "cell_type": "code",
   "execution_count": 85,
   "metadata": {},
   "outputs": [
    {
     "name": "stdout",
     "output_type": "stream",
     "text": [
      "Classification Report\n",
      "              precision    recall  f1-score   support\n",
      "\n",
      "           0       0.99      0.84      0.91      3043\n",
      "           1       0.89      1.00      0.94      4014\n",
      "\n",
      "    accuracy                           0.93      7057\n",
      "   macro avg       0.94      0.92      0.92      7057\n",
      "weighted avg       0.93      0.93      0.93      7057\n",
      "\n",
      "AUC Score: 0.9913\n"
     ]
    },
    {
     "data": {
      "image/png": "[encoded data removed]",
      "text/plain": [
       "<Figure size 640x480 with 1 Axes>"
      ]
     },
     "metadata": {},
     "output_type": "display_data"
    }
   ],
   "source": [
    "nn_model_st = MLPClassifier(hidden_layer_sizes=(200,), max_iter=5000)\n",
    "\n",
    "y_val_pred_st, y_val_pred_prob_st = train_model(\n",
    "    nn_model_st, X_train_st, y_train_st, X_val_st\n",
    ")\n",
    "\n",
    "generate_metrics(y_val_st, y_val_pred_st, y_val_pred_prob_st)"
   ]
  },
  {
   "cell_type": "markdown",
   "metadata": {},
   "source": [
    "### Evaluating on Test Set (Sentence Transformer)\n",
    "- Random Forest Classifier appears to perform the best with the highest ROC (almost 1)\n",
    "- We will now evaluate it on the test set"
   ]
  },
  {
   "cell_type": "code",
   "execution_count": 86,
   "metadata": {},
   "outputs": [
    {
     "name": "stdout",
     "output_type": "stream",
     "text": [
      "Classification Report\n",
      "              precision    recall  f1-score   support\n",
      "\n",
      "           0       0.98      0.99      0.99      2890\n",
      "           1       0.99      0.99      0.99      4168\n",
      "\n",
      "    accuracy                           0.99      7058\n",
      "   macro avg       0.99      0.99      0.99      7058\n",
      "weighted avg       0.99      0.99      0.99      7058\n",
      "\n",
      "AUC Score: 0.9993\n"
     ]
    },
    {
     "data": {
      "image/png": "[encoded data removed]",
      "text/plain": [
       "<Figure size 640x480 with 1 Axes>"
      ]
     },
     "metadata": {},
     "output_type": "display_data"
    }
   ],
   "source": [
    "y_test_pred_st = rf_classifier_st.predict(X_test_st)\n",
    "y_test_pred_prob_st = rf_classifier_st.predict_proba(X_test_st)[:, 1]\n",
    "\n",
    "generate_metrics(y_test_st, y_test_pred_st, y_test_pred_prob_st)"
   ]
  },
  {
   "cell_type": "markdown",
   "metadata": {},
   "source": [
    "# ARCHIVED PORTIONS"
   ]
  },
  {
   "cell_type": "markdown",
   "metadata": {},
   "source": [
    "### Categorical Features"
   ]
  },
  {
   "cell_type": "code",
   "execution_count": 87,
   "metadata": {},
   "outputs": [],
   "source": [
    "# contingency_table = pd.crosstab(df[\"sender_domain\"], y_train[\"is_fraud_email\"])\n",
    "# chi2, p, dof, expected = chi2_contingency(contingency_table)\n",
    "\n",
    "# print(f\"Chi-Square Statistic: {chi2}\")\n",
    "# print(f\"P-value: {p}\")"
   ]
  },
  {
   "cell_type": "markdown",
   "metadata": {},
   "source": [
    "As p-value < 0.05, there is sufficient evidence to reject the null hypothesis and conclude that there is a statistically significant association between `sender_domain` and `is_fraud_email`. We will perform one-hot encoding for this variable so as to include it in subsequent analysis. "
   ]
  },
  {
   "cell_type": "code",
   "execution_count": 88,
   "metadata": {},
   "outputs": [],
   "source": [
    "# encoder = OneHotEncoder(handle_unknown=\"ignore\")\n",
    "\n",
    "# X_train_encoded = encoder.fit_transform(X_train[[\"sender_domain\"]])\n",
    "# X_test_encoded = encoder.transform(X_test[[\"sender_domain\"]])\n",
    "\n",
    "# # Convert the encoded arrays back to DataFrames for better readability (optional)\n",
    "# X_train_sender_domain_df = pd.DataFrame(\n",
    "#     X_train_encoded.toarray(), columns=encoder.get_feature_names_out()\n",
    "# )\n",
    "# X_test_sender_domain_df = pd.DataFrame(\n",
    "#     X_test_encoded.toarray(), columns=encoder.get_feature_names_out([\"sender_domain\"])\n",
    "# )"
   ]
  },
  {
   "cell_type": "markdown",
   "metadata": {},
   "source": [
    "### Pre-Processing Email Text"
   ]
  },
  {
   "cell_type": "markdown",
   "metadata": {},
   "source": [
    "##### Bag of Words"
   ]
  },
  {
   "cell_type": "code",
   "execution_count": 89,
   "metadata": {},
   "outputs": [],
   "source": [
    "# count_vectorizer = CountVectorizer()\n",
    "\n",
    "# X_train_bow = count_vectorizer.fit_transform(X_train[\"processed_lemmatized_text\"])\n",
    "# X_test_bow = count_vectorizer.transform(X_test[\"processed_lemmatized_text\"])\n",
    "\n",
    "# X_train_bow"
   ]
  },
  {
   "cell_type": "markdown",
   "metadata": {},
   "source": [
    "The value 128273 illustrates the number of dimensions the bag of words contain. As the number if rather large, we will be reducing the number of features by removing low-variance features (i.e., words that hardly appear). "
   ]
  },
  {
   "cell_type": "code",
   "execution_count": 90,
   "metadata": {},
   "outputs": [],
   "source": [
    "# selector = VarianceThreshold(threshold=0.05)\n",
    "\n",
    "# X_train_bow = selector.fit_transform(X_train_bow)\n",
    "# X_test_bow = selector.transform(X_test_bow)\n",
    "# feature_mask = selector.get_support()\n",
    "# feature_names = count_vectorizer.get_feature_names_out()\n",
    "# reduced_feature_names = feature_names[feature_mask]\n",
    "\n",
    "# X_train_bow_df = pd.DataFrame(X_train_bow.toarray(), columns=reduced_feature_names)\n",
    "# X_test_bow_df = pd.DataFrame(X_test_bow.toarray(), columns=reduced_feature_names)\n",
    "\n",
    "# X_train_bow_df.shape[1]"
   ]
  },
  {
   "cell_type": "markdown",
   "metadata": {},
   "source": [
    "##### Word2Vec"
   ]
  },
  {
   "cell_type": "code",
   "execution_count": 91,
   "metadata": {},
   "outputs": [],
   "source": [
    "# def get_average_vector(words, model):\n",
    "#     word_vectors = [model.wv[word] for word in words if word in model.wv]\n",
    "#     if not word_vectors:  # If no words are in the model's vocabulary\n",
    "#         return np.zeros(model.vector_size)\n",
    "#     return np.mean(word_vectors, axis=0)"
   ]
  },
  {
   "cell_type": "code",
   "execution_count": 92,
   "metadata": {},
   "outputs": [],
   "source": [
    "# # ## Post Processing Data Visualisation\n",
    "# From the graphs above, we can see that there is a distinct difference in the distribution of `is_fraud_email` for `hour`, whereas the rest does not vary significantly in the distribution. Notably, there is a surge of emails in the year 2008, month of August and across the 5th to 8th of the month.\n",
    "# ## Feature Selection\n",
    "# X_train.info()\n",
    "# # following our analysis, we will be keeping:\n",
    "# #   body_contains_url, sender_domain (one-hot encoded), hour, body (the embedded text)\n",
    "# # dropped receiver_domain as anyone could receive fraudulent emails?\n",
    "# # TODO: Decide on what to do about subject\n",
    "# X_train = X_train[[\"body_contains_url\", \"hour\"]]\n",
    "# X_test = X_test[[\"body_contains_url\", \"hour\"]]\n",
    "\n",
    "# X_train = X_train.reset_index(drop=True)\n",
    "# X_train_sender_domain_df = X_train_sender_domain_df.reset_index(drop=True)\n",
    "# X_test = X_test.reset_index(drop=True)\n",
    "# X_test_sender_domain_df = X_test_sender_domain_df.reset_index(drop=True)\n",
    "\n",
    "# # concatenate one-hot encoded sender_domain\n",
    "# X_train = pd.concat([X_train, X_train_sender_domain_df], axis=1)\n",
    "# X_test = pd.concat([X_test, X_test_sender_domain_df], axis=1)\n",
    "# # concatenate body: bag of words\n",
    "# X_train_bow_df = X_train_bow_df.reset_index(drop=True)\n",
    "# X_test_bow_df = X_test_bow_df.reset_index(drop=True)\n",
    "\n",
    "# X_train_body_bow = pd.concat([X_train, X_train_bow_df], axis=1)\n",
    "# X_test_body_bow = pd.concat([X_test, X_test_bow_df], axis=1)\n",
    "# # concatenate body: tfidf\n",
    "# X_train_tfidf_df = X_train_tfidf_df.reset_index(drop=True)\n",
    "# X_test_tfidf_df = X_test_tfidf_df.reset_index(drop=True)\n",
    "\n",
    "# X_train_body_tfidf = pd.concat([X_train, X_train_tfidf_df], axis=1)\n",
    "# X_test_body_tfidf = pd.concat([X_test, X_test_tfidf_df], axis=1)\n",
    "# # concatenate body: word2vec\n",
    "# X_train_word2vec_df = X_train_word2vec_df.reset_index(drop=True)\n",
    "# X_test_word2vec_df = X_test_word2vec_df.reset_index(drop=True)\n",
    "\n",
    "# X_train_body_word2vec = pd.concat([X_train, X_train_word2vec_df], axis=1)\n",
    "# X_test_body_word2vec = pd.concat([X_test, X_test_word2vec_df], axis=1)\n",
    "# # concatenate body: sentence transformers\n",
    "# X_train_st_df = X_train_st_df.reset_index(drop=True)\n",
    "# X_test_st_df = X_test_st_df.reset_index(drop=True)\n",
    "\n",
    "# X_train_body_st = pd.concat([X_train, X_train_st_df], axis=1)\n",
    "# X_test_body_st = pd.concat([X_test, X_test_st_df], axis=1)"
   ]
  },
  {
   "cell_type": "markdown",
   "metadata": {},
   "source": [
    "## Modelling"
   ]
  },
  {
   "cell_type": "code",
   "execution_count": 93,
   "metadata": {},
   "outputs": [],
   "source": [
    "# def run_set(model_class, params=None):\n",
    "#     def run_model(X_train, X_test):\n",
    "#         model_params = params if params is not None else {}\n",
    "#         model = model_class(**model_params)  # Pass any necessary parameters here\n",
    "#         model.fit(X_train, y_train)\n",
    "#         y_pred = model.predict(X_test)\n",
    "#         accuracy = accuracy_score(y_test, y_pred)\n",
    "#         report = classification_report(y_test, y_pred, output_dict=True)\n",
    "#         return (\n",
    "#             accuracy,\n",
    "#             report[\"Phishing Email\"][\"f1-score\"],\n",
    "#             report[\"Safe Email\"][\"f1-score\"],\n",
    "#         )\n",
    "\n",
    "#     results = []\n",
    "\n",
    "#     feature_sets = {\n",
    "#         \"Bag of Words\": (X_train_body_bow, X_test_body_bow),\n",
    "#         \"TF-IDF\": (X_train_body_tfidf, X_test_body_tfidf),\n",
    "#         \"Word2Vec\": (X_train_body_word2vec, X_test_body_word2vec),\n",
    "#         \"Sentence Transformer\": (X_train_body_st, X_test_body_st),\n",
    "#     }\n",
    "\n",
    "#     for feature_name, (X_train_feature, X_test_feature) in feature_sets.items():\n",
    "#         accuracy, spam_f1, non_spam_f1 = run_model(X_train_feature, X_test_feature)\n",
    "#         results.append(\n",
    "#             {\n",
    "#                 \"Feature Set\": feature_name,\n",
    "#                 \"Accuracy\": accuracy,\n",
    "#                 \"Phishing Email F1 Score\": spam_f1,\n",
    "#                 \"Safe Email F1 Score\": non_spam_f1,\n",
    "#             }\n",
    "#         )\n",
    "\n",
    "#     return pd.DataFrame(results)"
   ]
  },
  {
   "cell_type": "markdown",
   "metadata": {},
   "source": [
    "# Support Vector Machine"
   ]
  },
  {
   "cell_type": "markdown",
   "metadata": {},
   "source": [
    "## Run Models Individually (SVM)"
   ]
  },
  {
   "cell_type": "markdown",
   "metadata": {},
   "source": [
    "### Bag of Words"
   ]
  },
  {
   "cell_type": "code",
   "execution_count": 94,
   "metadata": {},
   "outputs": [],
   "source": [
    "# # Step 1: Initialize the SVM classifier\n",
    "# svm_model = SVC(kernel='linear', random_state=1)\n",
    "\n",
    "# # Step 2: Train the SVM model\n",
    "# svm_model.fit(X_train_bow, y_train)\n",
    "\n",
    "# # Step 3: Make predictions on the test set\n",
    "# y_pred = svm_model.predict(X_test_bow)\n",
    "\n",
    "# # Step 4: Evaluate the model\n",
    "# print(\"Accuracy:\", accuracy_score(y_test, y_pred))\n",
    "# print(\"Classification Report:\\n\", classification_report(y_test, y_pred))"
   ]
  },
  {
   "cell_type": "markdown",
   "metadata": {},
   "source": [
    "### TF-IDF"
   ]
  },
  {
   "cell_type": "code",
   "execution_count": 95,
   "metadata": {},
   "outputs": [],
   "source": [
    "# # Step 1: Initialize the SVM classifier\n",
    "# svm_model = SVC(kernel='linear', random_state=1)\n",
    "\n",
    "# # Step 2: Train the SVM model\n",
    "# svm_model.fit(X_train_tfidf, y_train.values.ravel())  # Use ravel() to avoid issues with shape\n",
    "\n",
    "# # Step 3: Make predictions on the test set\n",
    "# y_pred = svm_model.predict(X_test_tfidf)\n",
    "\n",
    "# # Step 4: Evaluate the model\n",
    "# print(\"Accuracy:\", accuracy_score(y_test, y_pred))\n",
    "# print(\"Classification Report:\\n\", classification_report(y_test, y_pred))"
   ]
  },
  {
   "cell_type": "markdown",
   "metadata": {},
   "source": [
    "### Word2Vec"
   ]
  },
  {
   "cell_type": "code",
   "execution_count": 96,
   "metadata": {},
   "outputs": [],
   "source": [
    "# # Step 1: Convert the lists of embeddings to numpy arrays\n",
    "# X_train_word2vec = np.array(X_train_word2vec_embedding.tolist())\n",
    "# X_test_word2vec = np.array(X_test_word2vec_embedding.tolist())\n",
    "\n",
    "# # Step 2: Initialize the SVM classifier\n",
    "# svm_model = SVC(kernel='linear', random_state=1)\n",
    "\n",
    "# # Step 3: Train the SVM model\n",
    "# svm_model.fit(X_train_word2vec, y_train)\n",
    "\n",
    "# # Step 4: Make predictions on the test set\n",
    "# y_pred = svm_model.predict(X_test_word2vec)\n",
    "\n",
    "# # Step 7: Evaluate the model\n",
    "# print(\"Accuracy:\", accuracy_score(y_test, y_pred))\n",
    "# print(\"Classification Report:\\n\", classification_report(y_test, y_pred))"
   ]
  },
  {
   "cell_type": "markdown",
   "metadata": {},
   "source": [
    "### Sentence Transformer"
   ]
  },
  {
   "cell_type": "code",
   "execution_count": 97,
   "metadata": {},
   "outputs": [],
   "source": [
    "# # Step 1: Initialize the SVM classifier\n",
    "# svm_model = SVC(kernel='linear', random_state=1)\n",
    "\n",
    "# # Step 2: Train the SVM model\n",
    "# svm_model.fit(train_embeddings, y_train.values.ravel())  # Use ravel() to avoid issues with shape\n",
    "\n",
    "# # Step 3: Make predictions on the test set\n",
    "# y_pred = svm_model.predict(test_embeddings)\n",
    "\n",
    "# # Step 4: Evaluate the model\n",
    "# print(\"Accuracy:\", accuracy_score(y_test, y_pred))\n",
    "# print(\"Classification Report:\\n\", classification_report(y_test, y_pred))"
   ]
  },
  {
   "cell_type": "markdown",
   "metadata": {},
   "source": [
    "## Support Vector Machine (SVM)"
   ]
  },
  {
   "cell_type": "code",
   "execution_count": 98,
   "metadata": {},
   "outputs": [],
   "source": [
    "# svc_params = {\"random_state\": SEED}\n",
    "# svm = run_set(SVC, svc_params)\n",
    "# svm"
   ]
  },
  {
   "cell_type": "markdown",
   "metadata": {},
   "source": [
    "# Random Forest"
   ]
  },
  {
   "cell_type": "markdown",
   "metadata": {},
   "source": [
    "## Run Models Individually (SVM)"
   ]
  },
  {
   "cell_type": "markdown",
   "metadata": {},
   "source": [
    "### Bag of Words"
   ]
  },
  {
   "cell_type": "code",
   "execution_count": 99,
   "metadata": {},
   "outputs": [],
   "source": [
    "# # Step 1: Train the Random Forest model\n",
    "# rf_model = RandomForestClassifier(random_state=1)  # You can adjust hyperparameters as needed\n",
    "# rf_model.fit(X_train_bow, y_train)\n",
    "\n",
    "# # Step 2: Make predictions\n",
    "# y_pred = rf_model.predict(X_test_bow)\n",
    "\n",
    "# # Step 3: Evaluate the model\n",
    "# accuracy = accuracy_score(y_test, y_pred)\n",
    "# report = classification_report(y_test, y_pred)\n",
    "\n",
    "# # Print results\n",
    "# print(f\"Accuracy: {accuracy:.4f}\")\n",
    "# print(\"Classification Report:\\n\", report)"
   ]
  },
  {
   "cell_type": "markdown",
   "metadata": {},
   "source": [
    "### TF-IDF"
   ]
  },
  {
   "cell_type": "code",
   "execution_count": 100,
   "metadata": {},
   "outputs": [],
   "source": [
    "# # Step 1: Train the Random Forest model\n",
    "# rf_model = RandomForestClassifier(random_state=1)  # You can adjust hyperparameters as needed\n",
    "# rf_model.fit(X_train_tfidf, y_train)\n",
    "\n",
    "# # Step 2: Make predictions\n",
    "# y_pred = rf_model.predict(X_test_tfidf)\n",
    "\n",
    "# # Step 3: Evaluate the model\n",
    "# accuracy = accuracy_score(y_test, y_pred)\n",
    "# report = classification_report(y_test, y_pred)\n",
    "\n",
    "# # Print results\n",
    "# print(f\"Accuracy: {accuracy:.4f}\")\n",
    "# print(\"Classification Report:\\n\", report)"
   ]
  },
  {
   "cell_type": "markdown",
   "metadata": {},
   "source": [
    "### Word2Vec"
   ]
  },
  {
   "cell_type": "code",
   "execution_count": 101,
   "metadata": {},
   "outputs": [],
   "source": [
    "# # Step 1: Train the Random Forest model\n",
    "# rf_model = RandomForestClassifier(random_state=1)  # You can adjust hyperparameters as needed\n",
    "# rf_model.fit(X_train_word2vec, y_train)\n",
    "\n",
    "# # Step 2: Make predictions\n",
    "# y_pred = rf_model.predict(X_test_word2vec)\n",
    "\n",
    "# # Step 3: Evaluate the model\n",
    "# accuracy = accuracy_score(y_test, y_pred)\n",
    "# report = classification_report(y_test, y_pred)\n",
    "\n",
    "# # Print results\n",
    "# print(f\"Accuracy: {accuracy:.4f}\")\n",
    "# print(\"Classification Report:\\n\", report)"
   ]
  },
  {
   "cell_type": "markdown",
   "metadata": {},
   "source": [
    "### Sentence Transformer"
   ]
  },
  {
   "cell_type": "code",
   "execution_count": 102,
   "metadata": {},
   "outputs": [],
   "source": [
    "# # Step 1: Train the Random Forest model\n",
    "# rf_model = RandomForestClassifier(random_state=1)  # You can adjust hyperparameters as needed\n",
    "# rf_model.fit(train_embeddings, y_train)\n",
    "\n",
    "# # Step 2: Make predictions\n",
    "# y_pred = rf_model.predict(test_embeddings)\n",
    "\n",
    "# # Step 3: Evaluate the model\n",
    "# accuracy = accuracy_score(y_test, y_pred)\n",
    "# report = classification_report(y_test, y_pred)\n",
    "\n",
    "# # Print results\n",
    "# print(f\"Accuracy: {accuracy:.4f}\")\n",
    "# print(\"Classification Report:\\n\", report)"
   ]
  },
  {
   "cell_type": "markdown",
   "metadata": {},
   "source": [
    "## Run all (Random Forest)"
   ]
  },
  {
   "cell_type": "code",
   "execution_count": 103,
   "metadata": {},
   "outputs": [],
   "source": [
    "# from sklearn.ensemble import RandomForestClassifier\n",
    "\n",
    "# # Step 1: Collect results\n",
    "# results = []\n",
    "\n",
    "\n",
    "# # Step 2: Define a function to train Random Forest and evaluate\n",
    "# def run_random_forest(X_train, X_test, y_train, y_test, feature_name):\n",
    "#     rf_model = RandomForestClassifier(\n",
    "#         random_state=1\n",
    "#     )  # You can adjust hyperparameters as needed\n",
    "#     rf_model.fit(X_train, y_train.values.ravel())\n",
    "#     y_pred = rf_model.predict(X_test)\n",
    "\n",
    "#     accuracy = accuracy_score(y_test, y_pred)\n",
    "#     report = classification_report(y_test, y_pred, output_dict=True)\n",
    "#     return (\n",
    "#         accuracy,\n",
    "#         report[\"1\"][\"f1-score\"],\n",
    "#         report[\"0\"][\"f1-score\"],\n",
    "#     )  # Adjust 'Phishing Email'/'Safe Email' according to your labels\n",
    "\n",
    "\n",
    "# # Run Random Forest for each feature set\n",
    "# feature_sets = {\n",
    "#     \"Bag of Words\": (X_train_bow, X_test_bow),\n",
    "#     \"TF-IDF\": (X_train_tfidf, X_test_tfidf),\n",
    "#     \"Word2Vec\": (X_train_word2vec, X_test_word2vec),\n",
    "#     \"Sentence Transformer\": (train_embeddings, test_embeddings),\n",
    "# }\n",
    "\n",
    "# for feature_name, (X_train_feature, X_test_feature) in feature_sets.items():\n",
    "#     accuracy, phishing_f1, safe_f1 = run_random_forest(\n",
    "#         X_train_feature, X_test_feature, y_train, y_test, feature_name\n",
    "#     )\n",
    "#     results.append(\n",
    "#         {\n",
    "#             \"Feature Set\": feature_name,\n",
    "#             \"Accuracy\": accuracy,\n",
    "#             \"Phishing Email F1 Score\": phishing_f1,\n",
    "#             \"Safe Email F1 Score\": safe_f1,\n",
    "#         }\n",
    "#     )\n",
    "\n",
    "# # Step 3: Create a DataFrame to represent the results\n",
    "# results_df = pd.DataFrame(results)\n",
    "\n",
    "# # Step 4: Display the results\n",
    "# print(results_df)"
   ]
  },
  {
   "cell_type": "code",
   "execution_count": 104,
   "metadata": {},
   "outputs": [],
   "source": [
    "# results_df"
   ]
  },
  {
   "cell_type": "markdown",
   "metadata": {},
   "source": [
    "# XGBoost"
   ]
  },
  {
   "cell_type": "markdown",
   "metadata": {},
   "source": [
    "## Run Models Individually (XGBoost)"
   ]
  },
  {
   "cell_type": "code",
   "execution_count": 105,
   "metadata": {},
   "outputs": [],
   "source": [
    "# from xgboost import XGBClassifier"
   ]
  },
  {
   "cell_type": "markdown",
   "metadata": {},
   "source": [
    "### Bag of Words"
   ]
  },
  {
   "cell_type": "code",
   "execution_count": 106,
   "metadata": {},
   "outputs": [],
   "source": [
    "# # Step 1: Initialize the XGBoost classifier\n",
    "# xgb_model = XGBClassifier(\n",
    "#     use_label_encoder=True, eval_metric=\"mlogloss\", random_state=1\n",
    "# )\n",
    "\n",
    "# # Step 2: Train the model\n",
    "# xgb_model.fit(X_train_bow, y_train)\n",
    "\n",
    "# # # Step 3: Make predictions on the test set\n",
    "# y_pred = xgb_model.predict(X_test_bow)\n",
    "\n",
    "# # # Step 4: Evaluate the model\n",
    "# print(\"Accuracy:\", accuracy_score(y_test, y_pred))\n",
    "# print(\"Classification Report:\\n\", classification_report(y_test, y_pred))"
   ]
  },
  {
   "cell_type": "markdown",
   "metadata": {},
   "source": [
    "### TF-IDF"
   ]
  },
  {
   "cell_type": "code",
   "execution_count": 107,
   "metadata": {},
   "outputs": [],
   "source": [
    "# # Step 1: Initialize the XGBoost classifier\n",
    "# xgb_model = XGBClassifier(eval_metric=\"mlogloss\", random_state=1)\n",
    "\n",
    "# # Step 2: Train the model\n",
    "# xgb_model.fit(X_train_tfidf, y_train)\n",
    "\n",
    "# # # Step 3: Make predictions on the test set\n",
    "# y_pred = xgb_model.predict(X_test_tfidf)\n",
    "\n",
    "# # # Step 4: Evaluate the model\n",
    "# print(\"Accuracy:\", accuracy_score(y_test, y_pred))\n",
    "# print(\"Classification Report:\\n\", classification_report(y_test, y_pred))"
   ]
  },
  {
   "cell_type": "markdown",
   "metadata": {},
   "source": [
    "### Word2Vec"
   ]
  },
  {
   "cell_type": "code",
   "execution_count": 108,
   "metadata": {},
   "outputs": [],
   "source": [
    "# # Step 1: Initialize the XGBoost classifier\n",
    "# xgb_model = XGBClassifier(eval_metric=\"mlogloss\", random_state=1)\n",
    "\n",
    "# # Step 2: Train the model\n",
    "# xgb_model.fit(X_train_word2vec, y_train)\n",
    "\n",
    "# # # Step 3: Make predictions on the test set\n",
    "# y_pred = xgb_model.predict(X_test_word2vec)\n",
    "\n",
    "# # # Step 4: Evaluate the model\n",
    "# print(\"Accuracy:\", accuracy_score(y_test, y_pred))\n",
    "# print(\"Classification Report:\\n\", classification_report(y_test, y_pred))"
   ]
  },
  {
   "cell_type": "markdown",
   "metadata": {},
   "source": [
    "### Sentence Transformer"
   ]
  },
  {
   "cell_type": "code",
   "execution_count": 109,
   "metadata": {},
   "outputs": [],
   "source": [
    "# # Step 1: Initialize the XGBoost classifier\n",
    "# xgb_model = XGBClassifier(eval_metric=\"mlogloss\", random_state=1)\n",
    "\n",
    "# # Step 2: Train the model\n",
    "# xgb_model.fit(train_embeddings, y_train)\n",
    "\n",
    "# # # Step 3: Make predictions on the test set\n",
    "# y_pred = xgb_model.predict(test_embeddings)\n",
    "\n",
    "# # # Step 4: Evaluate the model\n",
    "# print(\"Accuracy:\", accuracy_score(y_test, y_pred))\n",
    "# print(\"Classification Report:\\n\", classification_report(y_test, y_pred))"
   ]
  },
  {
   "cell_type": "markdown",
   "metadata": {},
   "source": [
    "## Run all (XGBoost)"
   ]
  },
  {
   "cell_type": "code",
   "execution_count": 110,
   "metadata": {},
   "outputs": [],
   "source": [
    "# from xgboost import XGBClassifier\n",
    "\n",
    "# # Step 1: Collect results\n",
    "# results = []\n",
    "\n",
    "\n",
    "# # Step 2: Define a function to train XGBoost and evaluate\n",
    "# def run_xgboost(X_train, X_test, y_train, y_test, feature_name):\n",
    "#     xgb_model = XGBClassifier(eval_metric=\"mlogloss\", random_state=1)\n",
    "#     xgb_model.fit(X_train, y_train.values.ravel())\n",
    "#     y_pred = xgb_model.predict(X_test)\n",
    "\n",
    "#     accuracy = accuracy_score(y_test, y_pred)\n",
    "#     report = classification_report(y_test, y_pred, output_dict=True)\n",
    "#     return (\n",
    "#         accuracy,\n",
    "#         report[\"1\"][\"f1-score\"],\n",
    "#         report[\"0\"][\"f1-score\"],\n",
    "#     )  # Adjust 'Phishing Email'/'Safe Email' according to your labels\n",
    "\n",
    "\n",
    "# # Run XGBoost for each feature set\n",
    "# feature_sets = {\n",
    "#     \"Bag of Words\": (X_train_bow, X_test_bow),\n",
    "#     \"TF-IDF\": (X_train_tfidf, X_test_tfidf),\n",
    "#     \"Word2Vec\": (X_train_word2vec, X_test_word2vec),\n",
    "#     \"Sentence Transformer\": (train_embeddings, test_embeddings),\n",
    "# }\n",
    "\n",
    "# for feature_name, (X_train_feature, X_test_feature) in feature_sets.items():\n",
    "#     accuracy, phishing_f1, safe_f1 = run_xgboost(\n",
    "#         X_train_feature, X_test_feature, y_train, y_test, feature_name\n",
    "#     )\n",
    "#     results.append(\n",
    "#         {\n",
    "#             \"Feature Set\": feature_name,\n",
    "#             \"Accuracy\": accuracy,\n",
    "#             \"Phishing Email F1 Score\": phishing_f1,\n",
    "#             \"Safe Email F1 Score\": safe_f1,\n",
    "#         }\n",
    "#     )\n",
    "\n",
    "# # Step 3: Create a DataFrame to represent the results\n",
    "# results_df = pd.DataFrame(results)\n",
    "\n",
    "# # Step 4: Display the results\n",
    "# print(results_df)"
   ]
  },
  {
   "cell_type": "code",
   "execution_count": 111,
   "metadata": {},
   "outputs": [],
   "source": [
    "# results_df"
   ]
  }
 ],
 "metadata": {
  "kernelspec": {
   "display_name": ".venv",
   "language": "python",
   "name": "python3"
  },
  "language_info": {
   "codemirror_mode": {
    "name": "ipython",
    "version": 3
   },
   "file_extension": ".py",
   "mimetype": "text/x-python",
   "name": "python",
   "nbconvert_exporter": "python",
   "pygments_lexer": "ipython3",
   "version": "3.11.10"
  }
 },
 "nbformat": 4,
 "nbformat_minor": 2
}
