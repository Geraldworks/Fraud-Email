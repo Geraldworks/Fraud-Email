{
 "cells": [
  {
   "cell_type": "code",
   "execution_count": 1,
   "metadata": {},
   "outputs": [
    {
     "name": "stderr",
     "output_type": "stream",
     "text": [
      "c:\\Users\\jinge\\Desktop\\BT4012\\Fraud-Email\\.venv\\lib\\site-packages\\sentence_transformers\\cross_encoder\\CrossEncoder.py:13: TqdmWarning: IProgress not found. Please update jupyter and ipywidgets. See https://ipywidgets.readthedocs.io/en/stable/user_install.html\n",
      "  from tqdm.autonotebook import tqdm, trange\n"
     ]
    }
   ],
   "source": [
    "import pandas as pd\n",
    "import numpy as np\n",
    "import os\n",
    "\n",
    "# data visualisation\n",
    "import matplotlib.pyplot as plt\n",
    "import seaborn as sns\n",
    "\n",
    "# preprocessing text\n",
    "import nltk\n",
    "import re\n",
    "import ssl \n",
    "from nltk.corpus import stopwords\n",
    "from nltk.tokenize import word_tokenize\n",
    "from nltk.stem import WordNetLemmatizer\n",
    "\n",
    "# train test split\n",
    "from sklearn.model_selection import train_test_split\n",
    "\n",
    "# feature engineering\n",
    "from sklearn.feature_extraction.text import CountVectorizer, TfidfVectorizer\n",
    "from gensim.models import Word2Vec\n",
    "from sentence_transformers import SentenceTransformer"
   ]
  },
  {
   "cell_type": "markdown",
   "metadata": {},
   "source": [
    "## Reading Data"
   ]
  },
  {
   "cell_type": "code",
   "execution_count": 22,
   "metadata": {},
   "outputs": [
    {
     "data": {
      "text/plain": [
       "(39154, 7)"
      ]
     },
     "execution_count": 22,
     "metadata": {},
     "output_type": "execute_result"
    }
   ],
   "source": [
    "df = pd.read_csv(\"./data/Phish_No_More.csv\")\n",
    "df.shape"
   ]
  },
  {
   "cell_type": "code",
   "execution_count": 24,
   "metadata": {},
   "outputs": [],
   "source": [
    "# Splitting 'sender' into 'name' and 'email'\n",
    "df[['sender_name', 'sender_email']] = df['sender'].str.extract(r'(?P<name>.+?)\\s*<(?P<email>.+?)>')\n",
    "\n",
    "# Use the 'str.extract' method to create two new columns based on the pattern\n",
    "df[['receiver_name', 'receiver_email']] = df['receiver'].str.extract(r'(?:(?P<receiver_name>.*)\\s<)?(?P<receiver_email>[^<>]+)>?')\n",
    "\n",
    "# Extracting the domain from 'sender_email'\n",
    "df['sender_domain'] = df['sender_email'].str.extract(r'@(.+)', expand=False)\n",
    "\n",
    "# Extracting the domain from 'receiver_email'\n",
    "df['receiver_domain'] = df['receiver_email'].str.extract(r'@(.+)', expand=False)\n"
   ]
  },
  {
   "cell_type": "code",
   "execution_count": 25,
   "metadata": {},
   "outputs": [],
   "source": [
    "# Converting 'date' to datetime format and forcing invalid formats to NaT\n",
    "df['date'] = pd.to_datetime(df['date'], errors='coerce', utc=True)\n",
    "\n",
    "# Dropping rows where 'date' is NaT (i.e., invalid datetime entries)\n",
    "df = df.dropna(subset=['date'])\n",
    "\n",
    "# Extracting year, month, day, hour from the 'date' column\n",
    "df['year'] = df['date'].dt.year\n",
    "df['month'] = df['date'].dt.month\n",
    "df['day'] = df['date'].dt.day\n",
    "df['hour'] = df['date'].dt.hour"
   ]
  },
  {
   "cell_type": "code",
   "execution_count": 26,
   "metadata": {},
   "outputs": [],
   "source": [
    "# Renaming 'urls' column to 'body_contains_url'\n",
    "df.rename(columns={'urls': 'body_contains_url'}, inplace=True)\n",
    "\n",
    "# Renaming 'label' column to 'is_fraud_email'\n",
    "df.rename(columns={'label': 'is_fraud_email'}, inplace=True)"
   ]
  },
  {
   "cell_type": "code",
   "execution_count": 27,
   "metadata": {},
   "outputs": [
    {
     "name": "stdout",
     "output_type": "stream",
     "text": [
      "Columns with null values:\n",
      " receiver             462\n",
      "subject               28\n",
      "sender_name         3454\n",
      "sender_email        3454\n",
      "receiver_name      32048\n",
      "receiver_email       462\n",
      "sender_domain       3456\n",
      "receiver_domain      558\n",
      "dtype: int64\n"
     ]
    }
   ],
   "source": [
    "# Check for null values in the DataFrame\n",
    "null_summary = df.isnull().sum()\n",
    "\n",
    "# Display the columns with null values\n",
    "print(\"Columns with null values:\\n\", null_summary[null_summary > 0])"
   ]
  },
  {
   "cell_type": "code",
   "execution_count": 28,
   "metadata": {},
   "outputs": [],
   "source": [
    "# Drop rows where 'receiver', 'subject', or 'receiver_email' are null\n",
    "df = df.dropna(subset=['receiver', 'subject', 'receiver_email'])\n",
    "\n",
    "# Drop the 'receiver_name' column entirely due to high percentage of missing values\n",
    "df = df.drop(columns=['receiver_name'])\n",
    "\n",
    "# Drop rows where both 'sender_name' and 'sender_email' are null\n",
    "df = df.dropna(subset=['sender_name', 'sender_email'], how='all')\n",
    "\n",
    "# Optionally, drop rows where 'sender_domain' and 'receiver_domain' are null if domain analysis is important\n",
    "df = df.dropna(subset=['sender_domain', 'receiver_domain'], how='any')"
   ]
  },
  {
   "cell_type": "code",
   "execution_count": 29,
   "metadata": {},
   "outputs": [],
   "source": [
    "# Drop the specified columns\n",
    "df = df.drop(columns=['sender', 'receiver'])"
   ]
  },
  {
   "cell_type": "code",
   "execution_count": 30,
   "metadata": {},
   "outputs": [
    {
     "data": {
      "text/plain": [
       "(35286, 14)"
      ]
     },
     "execution_count": 30,
     "metadata": {},
     "output_type": "execute_result"
    }
   ],
   "source": [
    "# Final df shape\n",
    "df.shape"
   ]
  },
  {
   "cell_type": "code",
   "execution_count": 31,
   "metadata": {},
   "outputs": [
    {
     "data": {
      "text/html": [
       "<div>\n",
       "<style scoped>\n",
       "    .dataframe tbody tr th:only-of-type {\n",
       "        vertical-align: middle;\n",
       "    }\n",
       "\n",
       "    .dataframe tbody tr th {\n",
       "        vertical-align: top;\n",
       "    }\n",
       "\n",
       "    .dataframe thead th {\n",
       "        text-align: right;\n",
       "    }\n",
       "</style>\n",
       "<table border=\"1\" class=\"dataframe\">\n",
       "  <thead>\n",
       "    <tr style=\"text-align: right;\">\n",
       "      <th></th>\n",
       "      <th>date</th>\n",
       "      <th>subject</th>\n",
       "      <th>body</th>\n",
       "      <th>is_fraud_email</th>\n",
       "      <th>body_contains_url</th>\n",
       "      <th>sender_name</th>\n",
       "      <th>sender_email</th>\n",
       "      <th>receiver_email</th>\n",
       "      <th>sender_domain</th>\n",
       "      <th>receiver_domain</th>\n",
       "      <th>year</th>\n",
       "      <th>month</th>\n",
       "      <th>day</th>\n",
       "      <th>hour</th>\n",
       "    </tr>\n",
       "  </thead>\n",
       "  <tbody>\n",
       "    <tr>\n",
       "      <th>0</th>\n",
       "      <td>2008-08-05 23:31:02+00:00</td>\n",
       "      <td>Never agree to be a loser</td>\n",
       "      <td>Buck up, your troubles caused by small dimensi...</td>\n",
       "      <td>1</td>\n",
       "      <td>1</td>\n",
       "      <td>Young Esposito</td>\n",
       "      <td>Young@iworld.de</td>\n",
       "      <td>user4@gvc.ceas-challenge.cc</td>\n",
       "      <td>iworld.de</td>\n",
       "      <td>gvc.ceas-challenge.cc</td>\n",
       "      <td>2008</td>\n",
       "      <td>8</td>\n",
       "      <td>5</td>\n",
       "      <td>23</td>\n",
       "    </tr>\n",
       "    <tr>\n",
       "      <th>1</th>\n",
       "      <td>2008-08-05 23:31:03+00:00</td>\n",
       "      <td>Befriend Jenna Jameson</td>\n",
       "      <td>\\nUpgrade your sex and pleasures with these te...</td>\n",
       "      <td>1</td>\n",
       "      <td>1</td>\n",
       "      <td>Mok</td>\n",
       "      <td>ipline's1983@icable.ph</td>\n",
       "      <td>user2.2@gvc.ceas-challenge.cc</td>\n",
       "      <td>icable.ph</td>\n",
       "      <td>gvc.ceas-challenge.cc</td>\n",
       "      <td>2008</td>\n",
       "      <td>8</td>\n",
       "      <td>5</td>\n",
       "      <td>23</td>\n",
       "    </tr>\n",
       "    <tr>\n",
       "      <th>2</th>\n",
       "      <td>2008-08-06 08:28:00+00:00</td>\n",
       "      <td>CNN.com Daily Top 10</td>\n",
       "      <td>&gt;+=+=+=+=+=+=+=+=+=+=+=+=+=+=+=+=+=+=+=+=+=+=+...</td>\n",
       "      <td>1</td>\n",
       "      <td>1</td>\n",
       "      <td>Daily Top 10</td>\n",
       "      <td>Karmandeep-opengevl@universalnet.psi.br</td>\n",
       "      <td>user2.9@gvc.ceas-challenge.cc</td>\n",
       "      <td>universalnet.psi.br</td>\n",
       "      <td>gvc.ceas-challenge.cc</td>\n",
       "      <td>2008</td>\n",
       "      <td>8</td>\n",
       "      <td>6</td>\n",
       "      <td>8</td>\n",
       "    </tr>\n",
       "    <tr>\n",
       "      <th>3</th>\n",
       "      <td>2008-08-05 23:31:20+00:00</td>\n",
       "      <td>Re: svn commit: r619753 - in /spamassassin/tru...</td>\n",
       "      <td>Would anyone object to removing .so from this ...</td>\n",
       "      <td>0</td>\n",
       "      <td>1</td>\n",
       "      <td>Michael Parker</td>\n",
       "      <td>ivqrnai@pobox.com</td>\n",
       "      <td>xrh@spamassassin.apache.org</td>\n",
       "      <td>pobox.com</td>\n",
       "      <td>spamassassin.apache.org</td>\n",
       "      <td>2008</td>\n",
       "      <td>8</td>\n",
       "      <td>5</td>\n",
       "      <td>23</td>\n",
       "    </tr>\n",
       "    <tr>\n",
       "      <th>4</th>\n",
       "      <td>2008-08-05 23:31:21+00:00</td>\n",
       "      <td>SpecialPricesPharmMoreinfo</td>\n",
       "      <td>\\nWelcomeFastShippingCustomerSupport\\nhttp://7...</td>\n",
       "      <td>1</td>\n",
       "      <td>1</td>\n",
       "      <td>Gretchen Suggs</td>\n",
       "      <td>externalsep1@loanofficertool.com</td>\n",
       "      <td>user2.2@gvc.ceas-challenge.cc</td>\n",
       "      <td>loanofficertool.com</td>\n",
       "      <td>gvc.ceas-challenge.cc</td>\n",
       "      <td>2008</td>\n",
       "      <td>8</td>\n",
       "      <td>5</td>\n",
       "      <td>23</td>\n",
       "    </tr>\n",
       "  </tbody>\n",
       "</table>\n",
       "</div>"
      ],
      "text/plain": [
       "                       date  \\\n",
       "0 2008-08-05 23:31:02+00:00   \n",
       "1 2008-08-05 23:31:03+00:00   \n",
       "2 2008-08-06 08:28:00+00:00   \n",
       "3 2008-08-05 23:31:20+00:00   \n",
       "4 2008-08-05 23:31:21+00:00   \n",
       "\n",
       "                                             subject  \\\n",
       "0                          Never agree to be a loser   \n",
       "1                             Befriend Jenna Jameson   \n",
       "2                               CNN.com Daily Top 10   \n",
       "3  Re: svn commit: r619753 - in /spamassassin/tru...   \n",
       "4                         SpecialPricesPharmMoreinfo   \n",
       "\n",
       "                                                body  is_fraud_email  \\\n",
       "0  Buck up, your troubles caused by small dimensi...               1   \n",
       "1  \\nUpgrade your sex and pleasures with these te...               1   \n",
       "2  >+=+=+=+=+=+=+=+=+=+=+=+=+=+=+=+=+=+=+=+=+=+=+...               1   \n",
       "3  Would anyone object to removing .so from this ...               0   \n",
       "4  \\nWelcomeFastShippingCustomerSupport\\nhttp://7...               1   \n",
       "\n",
       "   body_contains_url     sender_name                             sender_email  \\\n",
       "0                  1  Young Esposito                          Young@iworld.de   \n",
       "1                  1             Mok                   ipline's1983@icable.ph   \n",
       "2                  1    Daily Top 10  Karmandeep-opengevl@universalnet.psi.br   \n",
       "3                  1  Michael Parker                        ivqrnai@pobox.com   \n",
       "4                  1  Gretchen Suggs         externalsep1@loanofficertool.com   \n",
       "\n",
       "                  receiver_email        sender_domain  \\\n",
       "0    user4@gvc.ceas-challenge.cc            iworld.de   \n",
       "1  user2.2@gvc.ceas-challenge.cc            icable.ph   \n",
       "2  user2.9@gvc.ceas-challenge.cc  universalnet.psi.br   \n",
       "3    xrh@spamassassin.apache.org            pobox.com   \n",
       "4  user2.2@gvc.ceas-challenge.cc  loanofficertool.com   \n",
       "\n",
       "           receiver_domain  year  month  day  hour  \n",
       "0    gvc.ceas-challenge.cc  2008      8    5    23  \n",
       "1    gvc.ceas-challenge.cc  2008      8    5    23  \n",
       "2    gvc.ceas-challenge.cc  2008      8    6     8  \n",
       "3  spamassassin.apache.org  2008      8    5    23  \n",
       "4    gvc.ceas-challenge.cc  2008      8    5    23  "
      ]
     },
     "execution_count": 31,
     "metadata": {},
     "output_type": "execute_result"
    }
   ],
   "source": [
    "df.head()"
   ]
  },
  {
   "cell_type": "code",
   "execution_count": 32,
   "metadata": {},
   "outputs": [
    {
     "data": {
      "text/plain": [
       "date                 0\n",
       "subject              0\n",
       "body                 0\n",
       "is_fraud_email       0\n",
       "body_contains_url    0\n",
       "sender_name          0\n",
       "sender_email         0\n",
       "receiver_email       0\n",
       "sender_domain        0\n",
       "receiver_domain      0\n",
       "year                 0\n",
       "month                0\n",
       "day                  0\n",
       "hour                 0\n",
       "dtype: int64"
      ]
     },
     "execution_count": 32,
     "metadata": {},
     "output_type": "execute_result"
    }
   ],
   "source": [
    "df.isnull().sum()"
   ]
  },
  {
   "cell_type": "markdown",
   "metadata": {},
   "source": [
    "## Pre-Preprocessing Data Visualisation"
   ]
  },
  {
   "cell_type": "code",
   "execution_count": 40,
   "metadata": {},
   "outputs": [
    {
     "data": {
      "text/html": [
       "<div>\n",
       "<style scoped>\n",
       "    .dataframe tbody tr th:only-of-type {\n",
       "        vertical-align: middle;\n",
       "    }\n",
       "\n",
       "    .dataframe tbody tr th {\n",
       "        vertical-align: top;\n",
       "    }\n",
       "\n",
       "    .dataframe thead th {\n",
       "        text-align: right;\n",
       "    }\n",
       "</style>\n",
       "<table border=\"1\" class=\"dataframe\">\n",
       "  <thead>\n",
       "    <tr style=\"text-align: right;\">\n",
       "      <th></th>\n",
       "      <th>Email Type</th>\n",
       "      <th>Count</th>\n",
       "      <th>Percentage</th>\n",
       "    </tr>\n",
       "  </thead>\n",
       "  <tbody>\n",
       "    <tr>\n",
       "      <th>0</th>\n",
       "      <td>1</td>\n",
       "      <td>20354</td>\n",
       "      <td>57.7%</td>\n",
       "    </tr>\n",
       "    <tr>\n",
       "      <th>1</th>\n",
       "      <td>0</td>\n",
       "      <td>14932</td>\n",
       "      <td>42.3%</td>\n",
       "    </tr>\n",
       "  </tbody>\n",
       "</table>\n",
       "</div>"
      ],
      "text/plain": [
       "   Email Type  Count Percentage\n",
       "0           1  20354      57.7%\n",
       "1           0  14932      42.3%"
      ]
     },
     "execution_count": 40,
     "metadata": {},
     "output_type": "execute_result"
    }
   ],
   "source": [
    "# Get counts of each 'Email Type'\n",
    "email_type_counts = df[\"is_fraud_email\"].value_counts().reset_index()\n",
    "\n",
    "# Rename columns for clarity\n",
    "email_type_counts.columns = [\"Email Type\", \"Count\"]\n",
    "\n",
    "# Calculate total count of emails\n",
    "total_count = email_type_counts[\"Count\"].sum()\n",
    "\n",
    "# Calculate percentages and round off to 1 decimal place\n",
    "email_type_counts[\"Percentage\"] = ((email_type_counts[\"Count\"] / total_count) * 100).round(1)\n",
    "\n",
    "# Display percentages as numeric with '%' symbol attached\n",
    "email_type_counts[\"Percentage\"] = email_type_counts[\"Percentage\"].astype(str) + '%'\n",
    "\n",
    "email_type_counts"
   ]
  },
  {
   "cell_type": "code",
   "execution_count": 41,
   "metadata": {},
   "outputs": [
    {
     "data": {
      "image/png": "[encoded data removed]",
      "text/plain": [
       "<Figure size 800x600 with 1 Axes>"
      ]
     },
     "metadata": {},
     "output_type": "display_data"
    }
   ],
   "source": [
    "# Count the occurrences of each category in 'is_fraud_email'\n",
    "fraud_counts = df['is_fraud_email'].value_counts()\n",
    "\n",
    "# Create a bar plot\n",
    "plt.figure(figsize=(8, 6))\n",
    "ax = fraud_counts.plot(kind='bar', color=['green', 'red'])\n",
    "\n",
    "# Adding title and labels\n",
    "plt.title('Fraud vs Safe Emails')\n",
    "plt.xlabel('Email Type')\n",
    "plt.ylabel('Count')\n",
    "\n",
    "# Add the count values on top of each bar\n",
    "for p in ax.patches:\n",
    "    ax.annotate(f'{p.get_height()}', (p.get_x() + p.get_width() / 2., p.get_height()), \n",
    "                ha='center', va='center', xytext=(0, 10), textcoords='offset points')\n",
    "\n",
    "# Show the plot\n",
    "plt.xticks(ticks=[0, 1], labels=['Fraud', 'Safe'], rotation=0)\n",
    "plt.show()\n"
   ]
  },
  {
   "cell_type": "markdown",
   "metadata": {},
   "source": [
    "## Preprocessing Email Text"
   ]
  },
  {
   "cell_type": "code",
   "execution_count": 42,
   "metadata": {},
   "outputs": [
    {
     "name": "stderr",
     "output_type": "stream",
     "text": [
      "[nltk_data] Downloading package punkt to\n",
      "[nltk_data]     C:\\Users\\jinge\\AppData\\Roaming\\nltk_data...\n",
      "[nltk_data]   Package punkt is already up-to-date!\n",
      "[nltk_data] Downloading package punkt_tab to\n",
      "[nltk_data]     C:\\Users\\jinge\\AppData\\Roaming\\nltk_data...\n",
      "[nltk_data]   Package punkt_tab is already up-to-date!\n",
      "[nltk_data] Downloading package stopwords to\n",
      "[nltk_data]     C:\\Users\\jinge\\AppData\\Roaming\\nltk_data...\n",
      "[nltk_data]   Package stopwords is already up-to-date!\n",
      "[nltk_data] Downloading package wordnet to\n",
      "[nltk_data]     C:\\Users\\jinge\\AppData\\Roaming\\nltk_data...\n",
      "[nltk_data]   Package wordnet is already up-to-date!\n"
     ]
    },
    {
     "data": {
      "text/plain": [
       "True"
      ]
     },
     "execution_count": 42,
     "metadata": {},
     "output_type": "execute_result"
    }
   ],
   "source": [
    "# Download nltk datasets\n",
    "\n",
    "try:\n",
    "    _create_unverified_https_context = ssl._create_unverified_context\n",
    "except AttributeError:\n",
    "    pass\n",
    "else:\n",
    "    ssl._create_default_https_context = _create_unverified_https_context\n",
    "\n",
    "nltk.download('punkt')\n",
    "nltk.download('punkt_tab')\n",
    "nltk.download('stopwords')\n",
    "nltk.download('wordnet')"
   ]
  },
  {
   "cell_type": "markdown",
   "metadata": {},
   "source": [
    "#### Preprocess without lemmatization\n",
    "Maintains contextual semantics and meaning"
   ]
  },
  {
   "cell_type": "code",
   "execution_count": 43,
   "metadata": {},
   "outputs": [
    {
     "data": {
      "text/plain": [
       "0        buck troubles caused small dimension soon beco...\n",
       "1        upgrade sex pleasures techniques httpwwwbright...\n",
       "2        daily top cnncom top videos stories aug pm edt...\n",
       "3        would anyone object removing list tld basicall...\n",
       "4        welcomefastshippingcustomersupport httpiwfnabl...\n",
       "                               ...                        \n",
       "39149    cnn alerts custom alert alert name custom aler...\n",
       "39150    cnn alerts custom alert alert name custom aler...\n",
       "39151    hello great work slide show viewer application...\n",
       "39152    mail sender coming intuitcom servers subject t...\n",
       "39153    dear fellow pythonistas guido accepted user si...\n",
       "Name: processed_text, Length: 35286, dtype: object"
      ]
     },
     "execution_count": 43,
     "metadata": {},
     "output_type": "execute_result"
    }
   ],
   "source": [
    "def preprocess_text(text: str) -> str:\n",
    "    # Lowercase the text\n",
    "    text = str(text).lower()\n",
    "    \n",
    "    # Remove punctuation, numbers, and special characters\n",
    "    text = re.sub(r'[^a-z\\s]', '', text)\n",
    "    \n",
    "    # Tokenize the text\n",
    "    words = word_tokenize(text)\n",
    "    \n",
    "    # Remove stopwords\n",
    "    stop_words = set(stopwords.words('english'))\n",
    "    words = [word for word in words if word not in stop_words]\n",
    "    \n",
    "    # Join the words back into a single string\n",
    "    return ' '.join(words)\n",
    "\n",
    "df['processed_text'] = df['body'].apply(preprocess_text)\n",
    "df['processed_text']"
   ]
  },
  {
   "cell_type": "markdown",
   "metadata": {},
   "source": [
    "#### Preprocessing with lemmatization \n",
    "Simplifies text"
   ]
  },
  {
   "cell_type": "code",
   "execution_count": 9,
   "metadata": {},
   "outputs": [
    {
     "data": {
      "text/plain": [
       "0        disc uniformitarianism sex lang dick hudson ob...\n",
       "1        side galicismos galicismo spanish term name im...\n",
       "2        equistar deal ticket still available assist ro...\n",
       "3        hello hot lil horny toy one dream open minded ...\n",
       "4        software incredibly low price lower drapery se...\n",
       "                               ...                        \n",
       "18644    rick moen crit im confused thought gpled money...\n",
       "18645    date lonely housewife always wanted date lonel...\n",
       "18646    request submitted access request anita dupont ...\n",
       "18647    important prc mtg hi dorn john discovered rece...\n",
       "18648    press clipping letter californian utility plea...\n",
       "Name: processed_lemmatized_text, Length: 17537, dtype: object"
      ]
     },
     "execution_count": 9,
     "metadata": {},
     "output_type": "execute_result"
    }
   ],
   "source": [
    "def apply_lemmatization(text: str) -> str:\n",
    "    words = text.split()\n",
    "    \n",
    "    # Lemmatize words\n",
    "    lemmatizer = WordNetLemmatizer()\n",
    "    words = [lemmatizer.lemmatize(word) for word in words]\n",
    "    \n",
    "    # Join the words back into a single string\n",
    "    return ' '.join(words)\n",
    "\n",
    "df['processed_lemmatized_text'] = df['processed_text'].apply(apply_lemmatization)\n",
    "df['processed_lemmatized_text']"
   ]
  },
  {
   "cell_type": "code",
   "execution_count": 66,
   "metadata": {},
   "outputs": [],
   "source": [
    "### Convert y to a binary variable ``\n",
    "df['is_phishing_email'] = df['Email Type'].apply(lambda x: 1 if x == 'Phishing Email' else 0)\n"
   ]
  },
  {
   "cell_type": "markdown",
   "metadata": {},
   "source": [
    "### Train Test Split"
   ]
  },
  {
   "cell_type": "code",
   "execution_count": 80,
   "metadata": {},
   "outputs": [],
   "source": [
    "X = df[[\"Email Text\", \"processed_text\", \"processed_lemmatized_text\"]]\n",
    "y = df[[\"is_phishing_email\"]]\n",
    "# y = df[[\"Email Type\"]]\n",
    "\n",
    "X_train, X_test, y_train, y_test = train_test_split(X, y, test_size=0.2, random_state=1)"
   ]
  },
  {
   "cell_type": "markdown",
   "metadata": {},
   "source": [
    "## Feature Engineering"
   ]
  },
  {
   "cell_type": "markdown",
   "metadata": {},
   "source": [
    "### Using the Processed Lemmatized Text"
   ]
  },
  {
   "cell_type": "markdown",
   "metadata": {},
   "source": [
    "#### Bag of Words"
   ]
  },
  {
   "cell_type": "code",
   "execution_count": 55,
   "metadata": {},
   "outputs": [],
   "source": [
    "count_vectorizer = CountVectorizer()\n",
    "\n",
    "X_train_bow = count_vectorizer.fit_transform(X_train['processed_lemmatized_text'])\n",
    "X_test_bow = count_vectorizer.transform(X_test['processed_lemmatized_text'])\n",
    "\n",
    "# X_train_bow_df = pd.DataFrame(X_train_bow.toarray(), columns=count_vectorizer.get_feature_names_out())\n",
    "# X_train_bow_df"
   ]
  },
  {
   "cell_type": "markdown",
   "metadata": {},
   "source": [
    "#### TF-IDF"
   ]
  },
  {
   "cell_type": "code",
   "execution_count": 56,
   "metadata": {},
   "outputs": [],
   "source": [
    "tfidf_vectorizer = TfidfVectorizer()\n",
    "\n",
    "X_train_tfidf = tfidf_vectorizer.fit_transform(X_train['processed_lemmatized_text'])\n",
    "X_test_tfidf = tfidf_vectorizer.transform(X_test['processed_lemmatized_text'])\n",
    "\n",
    "# tfidf_df = pd.DataFrame(X_train_tfidf.toarray(), columns=tfidf_vectorizer.get_feature_names_out())\n",
    "# tfidf_df"
   ]
  },
  {
   "cell_type": "markdown",
   "metadata": {},
   "source": [
    "### Using the Processed Text without Lemmatization"
   ]
  },
  {
   "cell_type": "markdown",
   "metadata": {},
   "source": [
    "#### Word2Vec"
   ]
  },
  {
   "cell_type": "code",
   "execution_count": 57,
   "metadata": {},
   "outputs": [],
   "source": [
    "def get_average_vector(words, model):\n",
    "    word_vectors = [model.wv[word] for word in words if word in model.wv]\n",
    "    if not word_vectors:  # If no words are in the model's vocabulary\n",
    "        return np.zeros(model.vector_size)\n",
    "    return np.mean(word_vectors, axis=0)"
   ]
  },
  {
   "cell_type": "code",
   "execution_count": 25,
   "metadata": {},
   "outputs": [],
   "source": [
    "X_train['split_processed_text'] = X_train['processed_text'].apply(lambda x: x.split())\n",
    "X_test['split_processed_text'] = X_test['processed_text'].apply(lambda x: x.split())\n",
    "\n",
    "file_path = \"./models/word2vec/word2vec.model\"\n",
    "\n",
    "if os.path.exists(file_path):\n",
    "    word2vec_model = Word2Vec.load(file_path)\n",
    "else:\n",
    "    word2vec_model = Word2Vec(sentences=X_train[\"split_processed_text\"].tolist(), vector_size=100, window=5, min_count=1, workers=4)\n",
    "    word2vec_model.save(file_path)\n",
    "\n",
    "X_train_word2vec_embedding = X_train['split_processed_text'].apply(lambda x: get_average_vector(x, word2vec_model))\n",
    "X_test_word2vec_embedding = X_test['split_processed_text'].apply(lambda x: get_average_vector(x, word2vec_model))\n",
    "\n",
    "pd.DataFrame(X_train_word2vec_embedding)\n",
    "\n",
    "# Convert Word2Vec lists to numpy arrays\n",
    "X_train_word2vec = np.array(X_train_word2vec_embedding.tolist())\n",
    "X_test_word2vec = np.array(X_test_word2vec_embedding.tolist())"
   ]
  },
  {
   "cell_type": "markdown",
   "metadata": {},
   "source": [
    "#### Sentence Transformers - MPNet"
   ]
  },
  {
   "cell_type": "code",
   "execution_count": 16,
   "metadata": {},
   "outputs": [
    {
     "data": {
      "text/html": [
       "<div>\n",
       "<style scoped>\n",
       "    .dataframe tbody tr th:only-of-type {\n",
       "        vertical-align: middle;\n",
       "    }\n",
       "\n",
       "    .dataframe tbody tr th {\n",
       "        vertical-align: top;\n",
       "    }\n",
       "\n",
       "    .dataframe thead th {\n",
       "        text-align: right;\n",
       "    }\n",
       "</style>\n",
       "<table border=\"1\" class=\"dataframe\">\n",
       "  <thead>\n",
       "    <tr style=\"text-align: right;\">\n",
       "      <th></th>\n",
       "      <th>0</th>\n",
       "      <th>1</th>\n",
       "      <th>2</th>\n",
       "      <th>3</th>\n",
       "      <th>4</th>\n",
       "      <th>5</th>\n",
       "      <th>6</th>\n",
       "      <th>7</th>\n",
       "      <th>8</th>\n",
       "      <th>9</th>\n",
       "      <th>...</th>\n",
       "      <th>758</th>\n",
       "      <th>759</th>\n",
       "      <th>760</th>\n",
       "      <th>761</th>\n",
       "      <th>762</th>\n",
       "      <th>763</th>\n",
       "      <th>764</th>\n",
       "      <th>765</th>\n",
       "      <th>766</th>\n",
       "      <th>767</th>\n",
       "    </tr>\n",
       "  </thead>\n",
       "  <tbody>\n",
       "    <tr>\n",
       "      <th>0</th>\n",
       "      <td>0.055215</td>\n",
       "      <td>0.040998</td>\n",
       "      <td>0.018498</td>\n",
       "      <td>-0.040737</td>\n",
       "      <td>-0.016033</td>\n",
       "      <td>0.013414</td>\n",
       "      <td>0.025461</td>\n",
       "      <td>0.024051</td>\n",
       "      <td>-0.008673</td>\n",
       "      <td>-0.004123</td>\n",
       "      <td>...</td>\n",
       "      <td>-0.006968</td>\n",
       "      <td>-0.011935</td>\n",
       "      <td>-0.032153</td>\n",
       "      <td>0.004473</td>\n",
       "      <td>0.013275</td>\n",
       "      <td>-0.046424</td>\n",
       "      <td>-0.035631</td>\n",
       "      <td>-0.028987</td>\n",
       "      <td>0.015999</td>\n",
       "      <td>-0.035582</td>\n",
       "    </tr>\n",
       "    <tr>\n",
       "      <th>1</th>\n",
       "      <td>-0.018762</td>\n",
       "      <td>0.031979</td>\n",
       "      <td>-0.009991</td>\n",
       "      <td>0.050318</td>\n",
       "      <td>-0.051733</td>\n",
       "      <td>0.017979</td>\n",
       "      <td>-0.026342</td>\n",
       "      <td>-0.015399</td>\n",
       "      <td>-0.000099</td>\n",
       "      <td>0.013546</td>\n",
       "      <td>...</td>\n",
       "      <td>0.042102</td>\n",
       "      <td>-0.029738</td>\n",
       "      <td>0.073981</td>\n",
       "      <td>0.013796</td>\n",
       "      <td>-0.042955</td>\n",
       "      <td>0.027119</td>\n",
       "      <td>0.001304</td>\n",
       "      <td>-0.002337</td>\n",
       "      <td>-0.073789</td>\n",
       "      <td>-0.045240</td>\n",
       "    </tr>\n",
       "    <tr>\n",
       "      <th>2</th>\n",
       "      <td>-0.063565</td>\n",
       "      <td>0.011312</td>\n",
       "      <td>-0.002446</td>\n",
       "      <td>0.023005</td>\n",
       "      <td>-0.002710</td>\n",
       "      <td>-0.004180</td>\n",
       "      <td>0.047600</td>\n",
       "      <td>-0.034768</td>\n",
       "      <td>0.021258</td>\n",
       "      <td>-0.020148</td>\n",
       "      <td>...</td>\n",
       "      <td>-0.057920</td>\n",
       "      <td>-0.043214</td>\n",
       "      <td>-0.021039</td>\n",
       "      <td>0.011102</td>\n",
       "      <td>0.041032</td>\n",
       "      <td>-0.029031</td>\n",
       "      <td>-0.021433</td>\n",
       "      <td>-0.015719</td>\n",
       "      <td>-0.085551</td>\n",
       "      <td>-0.005109</td>\n",
       "    </tr>\n",
       "    <tr>\n",
       "      <th>3</th>\n",
       "      <td>-0.002756</td>\n",
       "      <td>0.099910</td>\n",
       "      <td>0.009682</td>\n",
       "      <td>-0.028605</td>\n",
       "      <td>-0.058711</td>\n",
       "      <td>0.001223</td>\n",
       "      <td>0.080495</td>\n",
       "      <td>0.035834</td>\n",
       "      <td>-0.068889</td>\n",
       "      <td>-0.042703</td>\n",
       "      <td>...</td>\n",
       "      <td>-0.022554</td>\n",
       "      <td>-0.013521</td>\n",
       "      <td>-0.015925</td>\n",
       "      <td>-0.019768</td>\n",
       "      <td>-0.013781</td>\n",
       "      <td>0.050030</td>\n",
       "      <td>-0.035885</td>\n",
       "      <td>-0.052041</td>\n",
       "      <td>-0.013069</td>\n",
       "      <td>-0.002563</td>\n",
       "    </tr>\n",
       "    <tr>\n",
       "      <th>4</th>\n",
       "      <td>0.066307</td>\n",
       "      <td>0.030267</td>\n",
       "      <td>0.011326</td>\n",
       "      <td>-0.011726</td>\n",
       "      <td>0.046341</td>\n",
       "      <td>-0.014928</td>\n",
       "      <td>-0.007289</td>\n",
       "      <td>0.102103</td>\n",
       "      <td>0.056611</td>\n",
       "      <td>0.009897</td>\n",
       "      <td>...</td>\n",
       "      <td>-0.035150</td>\n",
       "      <td>0.007406</td>\n",
       "      <td>0.009452</td>\n",
       "      <td>-0.005577</td>\n",
       "      <td>0.025738</td>\n",
       "      <td>-0.000796</td>\n",
       "      <td>-0.036657</td>\n",
       "      <td>-0.011133</td>\n",
       "      <td>-0.058493</td>\n",
       "      <td>-0.055478</td>\n",
       "    </tr>\n",
       "    <tr>\n",
       "      <th>...</th>\n",
       "      <td>...</td>\n",
       "      <td>...</td>\n",
       "      <td>...</td>\n",
       "      <td>...</td>\n",
       "      <td>...</td>\n",
       "      <td>...</td>\n",
       "      <td>...</td>\n",
       "      <td>...</td>\n",
       "      <td>...</td>\n",
       "      <td>...</td>\n",
       "      <td>...</td>\n",
       "      <td>...</td>\n",
       "      <td>...</td>\n",
       "      <td>...</td>\n",
       "      <td>...</td>\n",
       "      <td>...</td>\n",
       "      <td>...</td>\n",
       "      <td>...</td>\n",
       "      <td>...</td>\n",
       "      <td>...</td>\n",
       "      <td>...</td>\n",
       "    </tr>\n",
       "    <tr>\n",
       "      <th>14024</th>\n",
       "      <td>-0.012147</td>\n",
       "      <td>0.014379</td>\n",
       "      <td>-0.010492</td>\n",
       "      <td>0.029231</td>\n",
       "      <td>-0.034395</td>\n",
       "      <td>0.023270</td>\n",
       "      <td>0.014731</td>\n",
       "      <td>0.019841</td>\n",
       "      <td>-0.032777</td>\n",
       "      <td>-0.041586</td>\n",
       "      <td>...</td>\n",
       "      <td>0.040567</td>\n",
       "      <td>-0.007215</td>\n",
       "      <td>0.037140</td>\n",
       "      <td>0.023957</td>\n",
       "      <td>-0.025979</td>\n",
       "      <td>-0.023699</td>\n",
       "      <td>-0.016421</td>\n",
       "      <td>-0.052483</td>\n",
       "      <td>-0.057440</td>\n",
       "      <td>-0.020690</td>\n",
       "    </tr>\n",
       "    <tr>\n",
       "      <th>14025</th>\n",
       "      <td>0.034811</td>\n",
       "      <td>0.020651</td>\n",
       "      <td>-0.039927</td>\n",
       "      <td>0.026024</td>\n",
       "      <td>-0.031407</td>\n",
       "      <td>-0.018016</td>\n",
       "      <td>-0.016431</td>\n",
       "      <td>0.001573</td>\n",
       "      <td>-0.037627</td>\n",
       "      <td>-0.081984</td>\n",
       "      <td>...</td>\n",
       "      <td>-0.012607</td>\n",
       "      <td>0.048493</td>\n",
       "      <td>0.019728</td>\n",
       "      <td>0.021103</td>\n",
       "      <td>0.013198</td>\n",
       "      <td>0.003722</td>\n",
       "      <td>0.037708</td>\n",
       "      <td>0.013326</td>\n",
       "      <td>0.019227</td>\n",
       "      <td>0.005928</td>\n",
       "    </tr>\n",
       "    <tr>\n",
       "      <th>14026</th>\n",
       "      <td>0.050375</td>\n",
       "      <td>0.040112</td>\n",
       "      <td>-0.009396</td>\n",
       "      <td>-0.010274</td>\n",
       "      <td>-0.032341</td>\n",
       "      <td>0.029878</td>\n",
       "      <td>-0.025951</td>\n",
       "      <td>0.031843</td>\n",
       "      <td>-0.019983</td>\n",
       "      <td>-0.013341</td>\n",
       "      <td>...</td>\n",
       "      <td>0.027413</td>\n",
       "      <td>-0.031122</td>\n",
       "      <td>0.038098</td>\n",
       "      <td>0.014792</td>\n",
       "      <td>-0.022389</td>\n",
       "      <td>0.026915</td>\n",
       "      <td>-0.000056</td>\n",
       "      <td>-0.022191</td>\n",
       "      <td>0.003011</td>\n",
       "      <td>-0.021948</td>\n",
       "    </tr>\n",
       "    <tr>\n",
       "      <th>14027</th>\n",
       "      <td>0.038098</td>\n",
       "      <td>0.087238</td>\n",
       "      <td>0.013788</td>\n",
       "      <td>-0.000910</td>\n",
       "      <td>-0.003929</td>\n",
       "      <td>-0.013574</td>\n",
       "      <td>0.020706</td>\n",
       "      <td>0.086258</td>\n",
       "      <td>0.029944</td>\n",
       "      <td>-0.000807</td>\n",
       "      <td>...</td>\n",
       "      <td>0.012338</td>\n",
       "      <td>-0.007831</td>\n",
       "      <td>0.017063</td>\n",
       "      <td>0.005898</td>\n",
       "      <td>0.002275</td>\n",
       "      <td>0.057699</td>\n",
       "      <td>0.016942</td>\n",
       "      <td>0.013475</td>\n",
       "      <td>-0.023272</td>\n",
       "      <td>-0.004465</td>\n",
       "    </tr>\n",
       "    <tr>\n",
       "      <th>14028</th>\n",
       "      <td>-0.003272</td>\n",
       "      <td>0.145965</td>\n",
       "      <td>0.010366</td>\n",
       "      <td>-0.009829</td>\n",
       "      <td>0.017644</td>\n",
       "      <td>0.024989</td>\n",
       "      <td>0.051498</td>\n",
       "      <td>0.007431</td>\n",
       "      <td>0.032986</td>\n",
       "      <td>-0.027850</td>\n",
       "      <td>...</td>\n",
       "      <td>-0.056035</td>\n",
       "      <td>0.027536</td>\n",
       "      <td>-0.094282</td>\n",
       "      <td>0.019648</td>\n",
       "      <td>0.004646</td>\n",
       "      <td>0.028137</td>\n",
       "      <td>-0.065278</td>\n",
       "      <td>0.005844</td>\n",
       "      <td>-0.016172</td>\n",
       "      <td>-0.004488</td>\n",
       "    </tr>\n",
       "  </tbody>\n",
       "</table>\n",
       "<p>14029 rows × 768 columns</p>\n",
       "</div>"
      ],
      "text/plain": [
       "            0         1         2         3         4         5         6    \\\n",
       "0      0.055215  0.040998  0.018498 -0.040737 -0.016033  0.013414  0.025461   \n",
       "1     -0.018762  0.031979 -0.009991  0.050318 -0.051733  0.017979 -0.026342   \n",
       "2     -0.063565  0.011312 -0.002446  0.023005 -0.002710 -0.004180  0.047600   \n",
       "3     -0.002756  0.099910  0.009682 -0.028605 -0.058711  0.001223  0.080495   \n",
       "4      0.066307  0.030267  0.011326 -0.011726  0.046341 -0.014928 -0.007289   \n",
       "...         ...       ...       ...       ...       ...       ...       ...   \n",
       "14024 -0.012147  0.014379 -0.010492  0.029231 -0.034395  0.023270  0.014731   \n",
       "14025  0.034811  0.020651 -0.039927  0.026024 -0.031407 -0.018016 -0.016431   \n",
       "14026  0.050375  0.040112 -0.009396 -0.010274 -0.032341  0.029878 -0.025951   \n",
       "14027  0.038098  0.087238  0.013788 -0.000910 -0.003929 -0.013574  0.020706   \n",
       "14028 -0.003272  0.145965  0.010366 -0.009829  0.017644  0.024989  0.051498   \n",
       "\n",
       "            7         8         9    ...       758       759       760  \\\n",
       "0      0.024051 -0.008673 -0.004123  ... -0.006968 -0.011935 -0.032153   \n",
       "1     -0.015399 -0.000099  0.013546  ...  0.042102 -0.029738  0.073981   \n",
       "2     -0.034768  0.021258 -0.020148  ... -0.057920 -0.043214 -0.021039   \n",
       "3      0.035834 -0.068889 -0.042703  ... -0.022554 -0.013521 -0.015925   \n",
       "4      0.102103  0.056611  0.009897  ... -0.035150  0.007406  0.009452   \n",
       "...         ...       ...       ...  ...       ...       ...       ...   \n",
       "14024  0.019841 -0.032777 -0.041586  ...  0.040567 -0.007215  0.037140   \n",
       "14025  0.001573 -0.037627 -0.081984  ... -0.012607  0.048493  0.019728   \n",
       "14026  0.031843 -0.019983 -0.013341  ...  0.027413 -0.031122  0.038098   \n",
       "14027  0.086258  0.029944 -0.000807  ...  0.012338 -0.007831  0.017063   \n",
       "14028  0.007431  0.032986 -0.027850  ... -0.056035  0.027536 -0.094282   \n",
       "\n",
       "            761       762       763       764       765       766       767  \n",
       "0      0.004473  0.013275 -0.046424 -0.035631 -0.028987  0.015999 -0.035582  \n",
       "1      0.013796 -0.042955  0.027119  0.001304 -0.002337 -0.073789 -0.045240  \n",
       "2      0.011102  0.041032 -0.029031 -0.021433 -0.015719 -0.085551 -0.005109  \n",
       "3     -0.019768 -0.013781  0.050030 -0.035885 -0.052041 -0.013069 -0.002563  \n",
       "4     -0.005577  0.025738 -0.000796 -0.036657 -0.011133 -0.058493 -0.055478  \n",
       "...         ...       ...       ...       ...       ...       ...       ...  \n",
       "14024  0.023957 -0.025979 -0.023699 -0.016421 -0.052483 -0.057440 -0.020690  \n",
       "14025  0.021103  0.013198  0.003722  0.037708  0.013326  0.019227  0.005928  \n",
       "14026  0.014792 -0.022389  0.026915 -0.000056 -0.022191  0.003011 -0.021948  \n",
       "14027  0.005898  0.002275  0.057699  0.016942  0.013475 -0.023272 -0.004465  \n",
       "14028  0.019648  0.004646  0.028137 -0.065278  0.005844 -0.016172 -0.004488  \n",
       "\n",
       "[14029 rows x 768 columns]"
      ]
     },
     "execution_count": 16,
     "metadata": {},
     "output_type": "execute_result"
    }
   ],
   "source": [
    "file_path_train = \"./models/sentence_transformer/train_embeddings.npy\"\n",
    "file_path_test = \"./models/sentence_transformer/test_embeddings.npy\"\n",
    "\n",
    "# Check if the file exists\n",
    "if (os.path.exists(file_path_train) and os.path.exists(file_path_test)):\n",
    "    train_embeddings = np.load(file_path_train)\n",
    "    test_embeddings = np.load(file_path_test)\n",
    "else:\n",
    "    # Load the MPNet model\n",
    "    sentence_transformer_model = SentenceTransformer('all-mpnet-base-v2')\n",
    "\n",
    "    # Encode the texts\n",
    "    train_embeddings = sentence_transformer_model.encode(X_train[\"processed_text\"].tolist())\n",
    "    test_embeddings = sentence_transformer_model.encode(X_test[\"processed_text\"].tolist())\n",
    "\n",
    "    np.save(file_path_train, train_embeddings)\n",
    "    np.save(file_path_test, test_embeddings)\n",
    "\n",
    "pd.DataFrame(train_embeddings)"
   ]
  },
  {
   "cell_type": "markdown",
   "metadata": {},
   "source": [
    "## Post Processing Data Visualisation"
   ]
  },
  {
   "cell_type": "markdown",
   "metadata": {},
   "source": [
    "some thoughts and recommendations I found online\n",
    "- for word2vec specifically, L6 there's this word2vec visualisation with an axis and words. could consider doing these?\n",
    "- PCA / TSNE (vaguely recall reading this)\n",
    "- wordcloud maybe for bag of words & tfidf? \n",
    "- Cosine Similarity Heatmap"
   ]
  },
  {
   "cell_type": "markdown",
   "metadata": {},
   "source": [
    "# Support Vector Machine"
   ]
  },
  {
   "cell_type": "code",
   "execution_count": 19,
   "metadata": {},
   "outputs": [],
   "source": [
    "from sklearn.svm import SVC\n",
    "from sklearn.metrics import classification_report, accuracy_score\n",
    "from sklearn.feature_extraction.text import CountVectorizer"
   ]
  },
  {
   "cell_type": "markdown",
   "metadata": {},
   "source": [
    "## Run Models Individually (SVM)"
   ]
  },
  {
   "cell_type": "markdown",
   "metadata": {},
   "source": [
    "### Bag of Words"
   ]
  },
  {
   "cell_type": "code",
   "execution_count": 28,
   "metadata": {},
   "outputs": [
    {
     "name": "stderr",
     "output_type": "stream",
     "text": [
      "c:\\Users\\jinge\\Desktop\\BT4012\\Fraud-Email\\.venv\\lib\\site-packages\\sklearn\\utils\\validation.py:1339: DataConversionWarning: A column-vector y was passed when a 1d array was expected. Please change the shape of y to (n_samples, ), for example using ravel().\n",
      "  y = column_or_1d(y, warn=True)\n"
     ]
    },
    {
     "name": "stdout",
     "output_type": "stream",
     "text": [
      "Accuracy: 0.9680729760547321\n",
      "Classification Report:\n",
      "                 precision    recall  f1-score   support\n",
      "\n",
      "Phishing Email       0.95      0.96      0.96      1311\n",
      "    Safe Email       0.98      0.97      0.97      2197\n",
      "\n",
      "      accuracy                           0.97      3508\n",
      "     macro avg       0.96      0.97      0.97      3508\n",
      "  weighted avg       0.97      0.97      0.97      3508\n",
      "\n"
     ]
    }
   ],
   "source": [
    "# # Step 1: Initialize the SVM classifier\n",
    "# svm_model = SVC(kernel='linear', random_state=1)\n",
    "\n",
    "# # Step 2: Train the SVM model\n",
    "# svm_model.fit(X_train_bow, y_train)\n",
    "\n",
    "# # Step 3: Make predictions on the test set\n",
    "# y_pred = svm_model.predict(X_test_bow)\n",
    "\n",
    "# # Step 4: Evaluate the model\n",
    "# print(\"Accuracy:\", accuracy_score(y_test, y_pred))\n",
    "# print(\"Classification Report:\\n\", classification_report(y_test, y_pred))\n"
   ]
  },
  {
   "cell_type": "markdown",
   "metadata": {},
   "source": [
    "### TF-IDF"
   ]
  },
  {
   "cell_type": "code",
   "execution_count": 21,
   "metadata": {},
   "outputs": [
    {
     "name": "stdout",
     "output_type": "stream",
     "text": [
      "Accuracy: 0.9846066134549601\n",
      "Classification Report:\n",
      "                 precision    recall  f1-score   support\n",
      "\n",
      "Phishing Email       0.98      0.98      0.98      1311\n",
      "    Safe Email       0.99      0.99      0.99      2197\n",
      "\n",
      "      accuracy                           0.98      3508\n",
      "     macro avg       0.98      0.98      0.98      3508\n",
      "  weighted avg       0.98      0.98      0.98      3508\n",
      "\n"
     ]
    }
   ],
   "source": [
    "# # Step 1: Initialize the SVM classifier\n",
    "# svm_model = SVC(kernel='linear', random_state=1)\n",
    "\n",
    "# # Step 2: Train the SVM model\n",
    "# svm_model.fit(X_train_tfidf, y_train.values.ravel())  # Use ravel() to avoid issues with shape\n",
    "\n",
    "# # Step 3: Make predictions on the test set\n",
    "# y_pred = svm_model.predict(X_test_tfidf)\n",
    "\n",
    "# # Step 4: Evaluate the model\n",
    "# print(\"Accuracy:\", accuracy_score(y_test, y_pred))\n",
    "# print(\"Classification Report:\\n\", classification_report(y_test, y_pred))"
   ]
  },
  {
   "cell_type": "markdown",
   "metadata": {},
   "source": [
    "### Word2Vec"
   ]
  },
  {
   "cell_type": "code",
   "execution_count": 23,
   "metadata": {},
   "outputs": [
    {
     "name": "stderr",
     "output_type": "stream",
     "text": [
      "c:\\Users\\jinge\\Desktop\\BT4012\\Fraud-Email\\.venv\\lib\\site-packages\\sklearn\\utils\\validation.py:1339: DataConversionWarning: A column-vector y was passed when a 1d array was expected. Please change the shape of y to (n_samples, ), for example using ravel().\n",
      "  y = column_or_1d(y, warn=True)\n"
     ]
    },
    {
     "name": "stdout",
     "output_type": "stream",
     "text": [
      "Accuracy: 0.9592360319270239\n",
      "Classification Report:\n",
      "                 precision    recall  f1-score   support\n",
      "\n",
      "Phishing Email       0.95      0.94      0.95      1311\n",
      "    Safe Email       0.96      0.97      0.97      2197\n",
      "\n",
      "      accuracy                           0.96      3508\n",
      "     macro avg       0.96      0.96      0.96      3508\n",
      "  weighted avg       0.96      0.96      0.96      3508\n",
      "\n"
     ]
    }
   ],
   "source": [
    "# # Step 1: Convert the lists of embeddings to numpy arrays\n",
    "# X_train_word2vec = np.array(X_train_word2vec_embedding.tolist())\n",
    "# X_test_word2vec = np.array(X_test_word2vec_embedding.tolist())\n",
    "\n",
    "# # Step 2: Initialize the SVM classifier\n",
    "# svm_model = SVC(kernel='linear', random_state=1)\n",
    "\n",
    "# # Step 3: Train the SVM model\n",
    "# svm_model.fit(X_train_word2vec, y_train)\n",
    "\n",
    "# # Step 4: Make predictions on the test set\n",
    "# y_pred = svm_model.predict(X_test_word2vec)\n",
    "\n",
    "# # Step 7: Evaluate the model\n",
    "# print(\"Accuracy:\", accuracy_score(y_test, y_pred))\n",
    "# print(\"Classification Report:\\n\", classification_report(y_test, y_pred))\n"
   ]
  },
  {
   "cell_type": "markdown",
   "metadata": {},
   "source": [
    "### Sentence Transformer"
   ]
  },
  {
   "cell_type": "code",
   "execution_count": 24,
   "metadata": {},
   "outputs": [
    {
     "name": "stdout",
     "output_type": "stream",
     "text": [
      "Accuracy: 0.9543899657924744\n",
      "Classification Report:\n",
      "                 precision    recall  f1-score   support\n",
      "\n",
      "Phishing Email       0.94      0.93      0.94      1311\n",
      "    Safe Email       0.96      0.97      0.96      2197\n",
      "\n",
      "      accuracy                           0.95      3508\n",
      "     macro avg       0.95      0.95      0.95      3508\n",
      "  weighted avg       0.95      0.95      0.95      3508\n",
      "\n"
     ]
    }
   ],
   "source": [
    "# # Step 1: Initialize the SVM classifier\n",
    "# svm_model = SVC(kernel='linear', random_state=1)\n",
    "\n",
    "# # Step 2: Train the SVM model\n",
    "# svm_model.fit(train_embeddings, y_train.values.ravel())  # Use ravel() to avoid issues with shape\n",
    "\n",
    "# # Step 3: Make predictions on the test set\n",
    "# y_pred = svm_model.predict(test_embeddings)\n",
    "\n",
    "# # Step 4: Evaluate the model\n",
    "# print(\"Accuracy:\", accuracy_score(y_test, y_pred))\n",
    "# print(\"Classification Report:\\n\", classification_report(y_test, y_pred))\n"
   ]
  },
  {
   "cell_type": "markdown",
   "metadata": {},
   "source": [
    "## Run all (SVM)"
   ]
  },
  {
   "cell_type": "code",
   "execution_count": 34,
   "metadata": {},
   "outputs": [
    {
     "name": "stderr",
     "output_type": "stream",
     "text": [
      "c:\\Users\\jinge\\Desktop\\BT4012\\Fraud-Email\\.venv\\lib\\site-packages\\sklearn\\utils\\validation.py:1339: DataConversionWarning: A column-vector y was passed when a 1d array was expected. Please change the shape of y to (n_samples, ), for example using ravel().\n",
      "  y = column_or_1d(y, warn=True)\n",
      "c:\\Users\\jinge\\Desktop\\BT4012\\Fraud-Email\\.venv\\lib\\site-packages\\sklearn\\utils\\validation.py:1339: DataConversionWarning: A column-vector y was passed when a 1d array was expected. Please change the shape of y to (n_samples, ), for example using ravel().\n",
      "  y = column_or_1d(y, warn=True)\n",
      "c:\\Users\\jinge\\Desktop\\BT4012\\Fraud-Email\\.venv\\lib\\site-packages\\sklearn\\utils\\validation.py:1339: DataConversionWarning: A column-vector y was passed when a 1d array was expected. Please change the shape of y to (n_samples, ), for example using ravel().\n",
      "  y = column_or_1d(y, warn=True)\n",
      "c:\\Users\\jinge\\Desktop\\BT4012\\Fraud-Email\\.venv\\lib\\site-packages\\sklearn\\utils\\validation.py:1339: DataConversionWarning: A column-vector y was passed when a 1d array was expected. Please change the shape of y to (n_samples, ), for example using ravel().\n",
      "  y = column_or_1d(y, warn=True)\n"
     ]
    },
    {
     "name": "stdout",
     "output_type": "stream",
     "text": [
      "            Feature Set  Accuracy  Phishing Email F1 Score  \\\n",
      "0          Bag of Words  0.968073                 0.957608   \n",
      "1                TF-IDF  0.984607                 0.979421   \n",
      "2              Word2Vec  0.959236                 0.945148   \n",
      "3  Sentence Transformer  0.954390                 0.938603   \n",
      "\n",
      "   Safe Email F1 Score  \n",
      "0             0.974394  \n",
      "1             0.987705  \n",
      "2             0.967566  \n",
      "3             0.963719  \n"
     ]
    }
   ],
   "source": [
    "# Step 1: Collect results\n",
    "results = []\n",
    "\n",
    "# Step 2: Define a function to train SVM and evaluate\n",
    "def run_svm(X_train, X_test, y_train, y_test, feature_name):\n",
    "    svm_model = SVC(kernel='linear', random_state=1)\n",
    "    svm_model.fit(X_train, y_train)\n",
    "    y_pred = svm_model.predict(X_test)\n",
    "    \n",
    "    accuracy = accuracy_score(y_test, y_pred)\n",
    "    report = classification_report(y_test, y_pred, output_dict=True)\n",
    "    return accuracy, report['Phishing Email']['f1-score'], report['Safe Email']['f1-score']  # Adjust 'spam'/'non-spam' according to your labels\n",
    "\n",
    "# Run SVM for each feature set\n",
    "feature_sets = {\n",
    "    \"Bag of Words\": (X_train_bow, X_test_bow),\n",
    "    \"TF-IDF\": (X_train_tfidf, X_test_tfidf),\n",
    "    \"Word2Vec\": (X_train_word2vec, X_test_word2vec),\n",
    "    \"Sentence Transformer\": (train_embeddings, test_embeddings)\n",
    "}\n",
    "\n",
    "for feature_name, (X_train_feature, X_test_feature) in feature_sets.items():\n",
    "    accuracy, spam_f1, non_spam_f1 = run_svm(X_train_feature, X_test_feature, y_train, y_test, feature_name)\n",
    "    results.append({\n",
    "        \"Feature Set\": feature_name,\n",
    "        \"Accuracy\": accuracy,\n",
    "        \"Phishing Email F1 Score\": spam_f1,\n",
    "        \"Safe Email F1 Score\": non_spam_f1\n",
    "    })\n",
    "\n",
    "# Step 3: Create a DataFrame to represent the results\n",
    "results_df = pd.DataFrame(results)\n",
    "\n",
    "# Step 4: Display the results\n",
    "print(results_df)"
   ]
  },
  {
   "cell_type": "code",
   "execution_count": 35,
   "metadata": {},
   "outputs": [
    {
     "data": {
      "text/html": [
       "<div>\n",
       "<style scoped>\n",
       "    .dataframe tbody tr th:only-of-type {\n",
       "        vertical-align: middle;\n",
       "    }\n",
       "\n",
       "    .dataframe tbody tr th {\n",
       "        vertical-align: top;\n",
       "    }\n",
       "\n",
       "    .dataframe thead th {\n",
       "        text-align: right;\n",
       "    }\n",
       "</style>\n",
       "<table border=\"1\" class=\"dataframe\">\n",
       "  <thead>\n",
       "    <tr style=\"text-align: right;\">\n",
       "      <th></th>\n",
       "      <th>Feature Set</th>\n",
       "      <th>Accuracy</th>\n",
       "      <th>Phishing Email F1 Score</th>\n",
       "      <th>Safe Email F1 Score</th>\n",
       "    </tr>\n",
       "  </thead>\n",
       "  <tbody>\n",
       "    <tr>\n",
       "      <th>0</th>\n",
       "      <td>Bag of Words</td>\n",
       "      <td>0.968073</td>\n",
       "      <td>0.957608</td>\n",
       "      <td>0.974394</td>\n",
       "    </tr>\n",
       "    <tr>\n",
       "      <th>1</th>\n",
       "      <td>TF-IDF</td>\n",
       "      <td>0.984607</td>\n",
       "      <td>0.979421</td>\n",
       "      <td>0.987705</td>\n",
       "    </tr>\n",
       "    <tr>\n",
       "      <th>2</th>\n",
       "      <td>Word2Vec</td>\n",
       "      <td>0.959236</td>\n",
       "      <td>0.945148</td>\n",
       "      <td>0.967566</td>\n",
       "    </tr>\n",
       "    <tr>\n",
       "      <th>3</th>\n",
       "      <td>Sentence Transformer</td>\n",
       "      <td>0.954390</td>\n",
       "      <td>0.938603</td>\n",
       "      <td>0.963719</td>\n",
       "    </tr>\n",
       "  </tbody>\n",
       "</table>\n",
       "</div>"
      ],
      "text/plain": [
       "            Feature Set  Accuracy  Phishing Email F1 Score  \\\n",
       "0          Bag of Words  0.968073                 0.957608   \n",
       "1                TF-IDF  0.984607                 0.979421   \n",
       "2              Word2Vec  0.959236                 0.945148   \n",
       "3  Sentence Transformer  0.954390                 0.938603   \n",
       "\n",
       "   Safe Email F1 Score  \n",
       "0             0.974394  \n",
       "1             0.987705  \n",
       "2             0.967566  \n",
       "3             0.963719  "
      ]
     },
     "execution_count": 35,
     "metadata": {},
     "output_type": "execute_result"
    }
   ],
   "source": [
    "results_df"
   ]
  },
  {
   "cell_type": "markdown",
   "metadata": {},
   "source": [
    "# Random Forest"
   ]
  },
  {
   "cell_type": "code",
   "execution_count": 36,
   "metadata": {},
   "outputs": [],
   "source": [
    "import pandas as pd\n",
    "from sklearn.ensemble import RandomForestClassifier\n",
    "from sklearn.metrics import classification_report, accuracy_score\n",
    "from sklearn.model_selection import train_test_split\n",
    "from sklearn.feature_extraction.text import CountVectorizer\n"
   ]
  },
  {
   "cell_type": "markdown",
   "metadata": {},
   "source": [
    "## Run Models Individually (SVM)"
   ]
  },
  {
   "cell_type": "markdown",
   "metadata": {},
   "source": [
    "### Bag of Words"
   ]
  },
  {
   "cell_type": "code",
   "execution_count": 37,
   "metadata": {},
   "outputs": [
    {
     "name": "stderr",
     "output_type": "stream",
     "text": [
      "c:\\Users\\jinge\\Desktop\\BT4012\\Fraud-Email\\.venv\\lib\\site-packages\\sklearn\\base.py:1473: DataConversionWarning: A column-vector y was passed when a 1d array was expected. Please change the shape of y to (n_samples,), for example using ravel().\n",
      "  return fit_method(estimator, *args, **kwargs)\n"
     ]
    },
    {
     "name": "stdout",
     "output_type": "stream",
     "text": [
      "Accuracy: 0.9718\n",
      "Classification Report:\n",
      "                 precision    recall  f1-score   support\n",
      "\n",
      "Phishing Email       0.97      0.96      0.96      1311\n",
      "    Safe Email       0.97      0.98      0.98      2197\n",
      "\n",
      "      accuracy                           0.97      3508\n",
      "     macro avg       0.97      0.97      0.97      3508\n",
      "  weighted avg       0.97      0.97      0.97      3508\n",
      "\n"
     ]
    }
   ],
   "source": [
    "# # Step 1: Train the Random Forest model\n",
    "# rf_model = RandomForestClassifier(random_state=1)  # You can adjust hyperparameters as needed\n",
    "# rf_model.fit(X_train_bow, y_train)\n",
    "\n",
    "# # Step 2: Make predictions\n",
    "# y_pred = rf_model.predict(X_test_bow)\n",
    "\n",
    "# # Step 3: Evaluate the model\n",
    "# accuracy = accuracy_score(y_test, y_pred)\n",
    "# report = classification_report(y_test, y_pred)\n",
    "\n",
    "# # Print results\n",
    "# print(f\"Accuracy: {accuracy:.4f}\")\n",
    "# print(\"Classification Report:\\n\", report)"
   ]
  },
  {
   "cell_type": "markdown",
   "metadata": {},
   "source": [
    "### TF-IDF"
   ]
  },
  {
   "cell_type": "code",
   "execution_count": 38,
   "metadata": {},
   "outputs": [
    {
     "name": "stderr",
     "output_type": "stream",
     "text": [
      "c:\\Users\\jinge\\Desktop\\BT4012\\Fraud-Email\\.venv\\lib\\site-packages\\sklearn\\base.py:1473: DataConversionWarning: A column-vector y was passed when a 1d array was expected. Please change the shape of y to (n_samples,), for example using ravel().\n",
      "  return fit_method(estimator, *args, **kwargs)\n"
     ]
    },
    {
     "name": "stdout",
     "output_type": "stream",
     "text": [
      "Accuracy: 0.9729\n",
      "Classification Report:\n",
      "                 precision    recall  f1-score   support\n",
      "\n",
      "Phishing Email       0.97      0.95      0.96      1311\n",
      "    Safe Email       0.97      0.98      0.98      2197\n",
      "\n",
      "      accuracy                           0.97      3508\n",
      "     macro avg       0.97      0.97      0.97      3508\n",
      "  weighted avg       0.97      0.97      0.97      3508\n",
      "\n"
     ]
    }
   ],
   "source": [
    "# # Step 1: Train the Random Forest model\n",
    "# rf_model = RandomForestClassifier(random_state=1)  # You can adjust hyperparameters as needed\n",
    "# rf_model.fit(X_train_tfidf, y_train)\n",
    "\n",
    "# # Step 2: Make predictions\n",
    "# y_pred = rf_model.predict(X_test_tfidf)\n",
    "\n",
    "# # Step 3: Evaluate the model\n",
    "# accuracy = accuracy_score(y_test, y_pred)\n",
    "# report = classification_report(y_test, y_pred)\n",
    "\n",
    "# # Print results\n",
    "# print(f\"Accuracy: {accuracy:.4f}\")\n",
    "# print(\"Classification Report:\\n\", report)"
   ]
  },
  {
   "cell_type": "markdown",
   "metadata": {},
   "source": [
    "### Word2Vec"
   ]
  },
  {
   "cell_type": "code",
   "execution_count": 39,
   "metadata": {},
   "outputs": [
    {
     "name": "stderr",
     "output_type": "stream",
     "text": [
      "c:\\Users\\jinge\\Desktop\\BT4012\\Fraud-Email\\.venv\\lib\\site-packages\\sklearn\\base.py:1473: DataConversionWarning: A column-vector y was passed when a 1d array was expected. Please change the shape of y to (n_samples,), for example using ravel().\n",
      "  return fit_method(estimator, *args, **kwargs)\n"
     ]
    },
    {
     "name": "stdout",
     "output_type": "stream",
     "text": [
      "Accuracy: 0.9624\n",
      "Classification Report:\n",
      "                 precision    recall  f1-score   support\n",
      "\n",
      "Phishing Email       0.96      0.94      0.95      1311\n",
      "    Safe Email       0.97      0.97      0.97      2197\n",
      "\n",
      "      accuracy                           0.96      3508\n",
      "     macro avg       0.96      0.96      0.96      3508\n",
      "  weighted avg       0.96      0.96      0.96      3508\n",
      "\n"
     ]
    }
   ],
   "source": [
    "# # Step 1: Train the Random Forest model\n",
    "# rf_model = RandomForestClassifier(random_state=1)  # You can adjust hyperparameters as needed\n",
    "# rf_model.fit(X_train_word2vec, y_train)\n",
    "\n",
    "# # Step 2: Make predictions\n",
    "# y_pred = rf_model.predict(X_test_word2vec)\n",
    "\n",
    "# # Step 3: Evaluate the model\n",
    "# accuracy = accuracy_score(y_test, y_pred)\n",
    "# report = classification_report(y_test, y_pred)\n",
    "\n",
    "# # Print results\n",
    "# print(f\"Accuracy: {accuracy:.4f}\")\n",
    "# print(\"Classification Report:\\n\", report)"
   ]
  },
  {
   "cell_type": "markdown",
   "metadata": {},
   "source": [
    "### Sentence Transformer"
   ]
  },
  {
   "cell_type": "code",
   "execution_count": 40,
   "metadata": {},
   "outputs": [
    {
     "name": "stderr",
     "output_type": "stream",
     "text": [
      "c:\\Users\\jinge\\Desktop\\BT4012\\Fraud-Email\\.venv\\lib\\site-packages\\sklearn\\base.py:1473: DataConversionWarning: A column-vector y was passed when a 1d array was expected. Please change the shape of y to (n_samples,), for example using ravel().\n",
      "  return fit_method(estimator, *args, **kwargs)\n"
     ]
    },
    {
     "name": "stdout",
     "output_type": "stream",
     "text": [
      "Accuracy: 0.9438\n",
      "Classification Report:\n",
      "                 precision    recall  f1-score   support\n",
      "\n",
      "Phishing Email       0.97      0.88      0.92      1311\n",
      "    Safe Email       0.93      0.98      0.96      2197\n",
      "\n",
      "      accuracy                           0.94      3508\n",
      "     macro avg       0.95      0.93      0.94      3508\n",
      "  weighted avg       0.95      0.94      0.94      3508\n",
      "\n"
     ]
    }
   ],
   "source": [
    "# # Step 1: Train the Random Forest model\n",
    "# rf_model = RandomForestClassifier(random_state=1)  # You can adjust hyperparameters as needed\n",
    "# rf_model.fit(train_embeddings, y_train)\n",
    "\n",
    "# # Step 2: Make predictions\n",
    "# y_pred = rf_model.predict(test_embeddings)\n",
    "\n",
    "# # Step 3: Evaluate the model\n",
    "# accuracy = accuracy_score(y_test, y_pred)\n",
    "# report = classification_report(y_test, y_pred)\n",
    "\n",
    "# # Print results\n",
    "# print(f\"Accuracy: {accuracy:.4f}\")\n",
    "# print(\"Classification Report:\\n\", report)"
   ]
  },
  {
   "cell_type": "markdown",
   "metadata": {},
   "source": [
    "## Run all (Random Forest)"
   ]
  },
  {
   "cell_type": "code",
   "execution_count": 84,
   "metadata": {},
   "outputs": [
    {
     "name": "stdout",
     "output_type": "stream",
     "text": [
      "            Feature Set  Accuracy  Phishing Email F1 Score  \\\n",
      "0          Bag of Words  0.970353                 0.959969   \n",
      "1                TF-IDF  0.972064                 0.962074   \n",
      "2              Word2Vec  0.962942                 0.950038   \n",
      "3  Sentence Transformer  0.941277                 0.917069   \n",
      "\n",
      "   Safe Email F1 Score  \n",
      "0             0.976460  \n",
      "1             0.977888  \n",
      "2             0.970548  \n",
      "3             0.954545  \n"
     ]
    }
   ],
   "source": [
    "from sklearn.ensemble import RandomForestClassifier\n",
    "\n",
    "# Step 1: Collect results\n",
    "results = []\n",
    "\n",
    "# Step 2: Define a function to train Random Forest and evaluate\n",
    "def run_random_forest(X_train, X_test, y_train, y_test, feature_name):\n",
    "    rf_model = RandomForestClassifier(random_state=1)  # You can adjust hyperparameters as needed\n",
    "    rf_model.fit(X_train, y_train.values.ravel())\n",
    "    y_pred = rf_model.predict(X_test)\n",
    "    \n",
    "    accuracy = accuracy_score(y_test, y_pred)\n",
    "    report = classification_report(y_test, y_pred, output_dict=True)\n",
    "    return accuracy, report['1']['f1-score'], report['0']['f1-score']  # Adjust 'Phishing Email'/'Safe Email' according to your labels\n",
    "\n",
    "# Run Random Forest for each feature set\n",
    "feature_sets = {\n",
    "    \"Bag of Words\": (X_train_bow, X_test_bow),\n",
    "    \"TF-IDF\": (X_train_tfidf, X_test_tfidf),\n",
    "    \"Word2Vec\": (X_train_word2vec, X_test_word2vec),\n",
    "    \"Sentence Transformer\": (train_embeddings, test_embeddings)\n",
    "}\n",
    "\n",
    "for feature_name, (X_train_feature, X_test_feature) in feature_sets.items():\n",
    "    accuracy, phishing_f1, safe_f1 = run_random_forest(X_train_feature, X_test_feature, y_train, y_test, feature_name)\n",
    "    results.append({\n",
    "        \"Feature Set\": feature_name,\n",
    "        \"Accuracy\": accuracy,\n",
    "        \"Phishing Email F1 Score\": phishing_f1,\n",
    "        \"Safe Email F1 Score\": safe_f1\n",
    "    })\n",
    "\n",
    "# Step 3: Create a DataFrame to represent the results\n",
    "results_df = pd.DataFrame(results)\n",
    "\n",
    "# Step 4: Display the results\n",
    "print(results_df)\n"
   ]
  },
  {
   "cell_type": "code",
   "execution_count": 85,
   "metadata": {},
   "outputs": [
    {
     "data": {
      "text/html": [
       "<div>\n",
       "<style scoped>\n",
       "    .dataframe tbody tr th:only-of-type {\n",
       "        vertical-align: middle;\n",
       "    }\n",
       "\n",
       "    .dataframe tbody tr th {\n",
       "        vertical-align: top;\n",
       "    }\n",
       "\n",
       "    .dataframe thead th {\n",
       "        text-align: right;\n",
       "    }\n",
       "</style>\n",
       "<table border=\"1\" class=\"dataframe\">\n",
       "  <thead>\n",
       "    <tr style=\"text-align: right;\">\n",
       "      <th></th>\n",
       "      <th>Feature Set</th>\n",
       "      <th>Accuracy</th>\n",
       "      <th>Phishing Email F1 Score</th>\n",
       "      <th>Safe Email F1 Score</th>\n",
       "    </tr>\n",
       "  </thead>\n",
       "  <tbody>\n",
       "    <tr>\n",
       "      <th>0</th>\n",
       "      <td>Bag of Words</td>\n",
       "      <td>0.970353</td>\n",
       "      <td>0.959969</td>\n",
       "      <td>0.976460</td>\n",
       "    </tr>\n",
       "    <tr>\n",
       "      <th>1</th>\n",
       "      <td>TF-IDF</td>\n",
       "      <td>0.972064</td>\n",
       "      <td>0.962074</td>\n",
       "      <td>0.977888</td>\n",
       "    </tr>\n",
       "    <tr>\n",
       "      <th>2</th>\n",
       "      <td>Word2Vec</td>\n",
       "      <td>0.962942</td>\n",
       "      <td>0.950038</td>\n",
       "      <td>0.970548</td>\n",
       "    </tr>\n",
       "    <tr>\n",
       "      <th>3</th>\n",
       "      <td>Sentence Transformer</td>\n",
       "      <td>0.941277</td>\n",
       "      <td>0.917069</td>\n",
       "      <td>0.954545</td>\n",
       "    </tr>\n",
       "  </tbody>\n",
       "</table>\n",
       "</div>"
      ],
      "text/plain": [
       "            Feature Set  Accuracy  Phishing Email F1 Score  \\\n",
       "0          Bag of Words  0.970353                 0.959969   \n",
       "1                TF-IDF  0.972064                 0.962074   \n",
       "2              Word2Vec  0.962942                 0.950038   \n",
       "3  Sentence Transformer  0.941277                 0.917069   \n",
       "\n",
       "   Safe Email F1 Score  \n",
       "0             0.976460  \n",
       "1             0.977888  \n",
       "2             0.970548  \n",
       "3             0.954545  "
      ]
     },
     "execution_count": 85,
     "metadata": {},
     "output_type": "execute_result"
    }
   ],
   "source": [
    "results_df"
   ]
  },
  {
   "cell_type": "markdown",
   "metadata": {},
   "source": [
    "# XGBoost"
   ]
  },
  {
   "cell_type": "markdown",
   "metadata": {},
   "source": [
    "## Run Models Individually (XGBoost)"
   ]
  },
  {
   "cell_type": "code",
   "execution_count": 72,
   "metadata": {},
   "outputs": [],
   "source": [
    "from xgboost import XGBClassifier"
   ]
  },
  {
   "cell_type": "markdown",
   "metadata": {},
   "source": [
    "### Bag of Words"
   ]
  },
  {
   "cell_type": "code",
   "execution_count": 78,
   "metadata": {},
   "outputs": [
    {
     "ename": "ValueError",
     "evalue": "Invalid classes inferred from unique values of `y`.  Expected: [0 1], got ['Phishing Email' 'Safe Email']",
     "output_type": "error",
     "traceback": [
      "\u001b[1;31m---------------------------------------------------------------------------\u001b[0m",
      "\u001b[1;31mValueError\u001b[0m                                Traceback (most recent call last)",
      "Cell \u001b[1;32mIn[78], line 5\u001b[0m\n\u001b[0;32m      2\u001b[0m xgb_model \u001b[38;5;241m=\u001b[39m XGBClassifier(use_label_encoder \u001b[38;5;241m=\u001b[39m \u001b[38;5;28;01mTrue\u001b[39;00m, eval_metric\u001b[38;5;241m=\u001b[39m\u001b[38;5;124m'\u001b[39m\u001b[38;5;124mmlogloss\u001b[39m\u001b[38;5;124m'\u001b[39m, random_state\u001b[38;5;241m=\u001b[39m\u001b[38;5;241m1\u001b[39m)\n\u001b[0;32m      4\u001b[0m \u001b[38;5;66;03m# Step 2: Train the model\u001b[39;00m\n\u001b[1;32m----> 5\u001b[0m \u001b[43mxgb_model\u001b[49m\u001b[38;5;241;43m.\u001b[39;49m\u001b[43mfit\u001b[49m\u001b[43m(\u001b[49m\u001b[43mX_train_bow\u001b[49m\u001b[43m,\u001b[49m\u001b[43m \u001b[49m\u001b[43my_train\u001b[49m\u001b[43m)\u001b[49m\n\u001b[0;32m      7\u001b[0m \u001b[38;5;66;03m# # Step 3: Make predictions on the test set\u001b[39;00m\n\u001b[0;32m      8\u001b[0m y_pred \u001b[38;5;241m=\u001b[39m xgb_model\u001b[38;5;241m.\u001b[39mpredict(X_test_bow)\n",
      "File \u001b[1;32mc:\\Users\\jinge\\Desktop\\BT4012\\Fraud-Email\\.venv\\lib\\site-packages\\xgboost\\core.py:726\u001b[0m, in \u001b[0;36mrequire_keyword_args.<locals>.throw_if.<locals>.inner_f\u001b[1;34m(*args, **kwargs)\u001b[0m\n\u001b[0;32m    724\u001b[0m \u001b[38;5;28;01mfor\u001b[39;00m k, arg \u001b[38;5;129;01min\u001b[39;00m \u001b[38;5;28mzip\u001b[39m(sig\u001b[38;5;241m.\u001b[39mparameters, args):\n\u001b[0;32m    725\u001b[0m     kwargs[k] \u001b[38;5;241m=\u001b[39m arg\n\u001b[1;32m--> 726\u001b[0m \u001b[38;5;28;01mreturn\u001b[39;00m func(\u001b[38;5;241m*\u001b[39m\u001b[38;5;241m*\u001b[39mkwargs)\n",
      "File \u001b[1;32mc:\\Users\\jinge\\Desktop\\BT4012\\Fraud-Email\\.venv\\lib\\site-packages\\xgboost\\sklearn.py:1491\u001b[0m, in \u001b[0;36mXGBClassifier.fit\u001b[1;34m(self, X, y, sample_weight, base_margin, eval_set, verbose, xgb_model, sample_weight_eval_set, base_margin_eval_set, feature_weights)\u001b[0m\n\u001b[0;32m   1486\u001b[0m     expected_classes \u001b[38;5;241m=\u001b[39m \u001b[38;5;28mself\u001b[39m\u001b[38;5;241m.\u001b[39mclasses_\n\u001b[0;32m   1487\u001b[0m \u001b[38;5;28;01mif\u001b[39;00m (\n\u001b[0;32m   1488\u001b[0m     classes\u001b[38;5;241m.\u001b[39mshape \u001b[38;5;241m!=\u001b[39m expected_classes\u001b[38;5;241m.\u001b[39mshape\n\u001b[0;32m   1489\u001b[0m     \u001b[38;5;129;01mor\u001b[39;00m \u001b[38;5;129;01mnot\u001b[39;00m (classes \u001b[38;5;241m==\u001b[39m expected_classes)\u001b[38;5;241m.\u001b[39mall()\n\u001b[0;32m   1490\u001b[0m ):\n\u001b[1;32m-> 1491\u001b[0m     \u001b[38;5;28;01mraise\u001b[39;00m \u001b[38;5;167;01mValueError\u001b[39;00m(\n\u001b[0;32m   1492\u001b[0m         \u001b[38;5;124mf\u001b[39m\u001b[38;5;124m\"\u001b[39m\u001b[38;5;124mInvalid classes inferred from unique values of `y`.  \u001b[39m\u001b[38;5;124m\"\u001b[39m\n\u001b[0;32m   1493\u001b[0m         \u001b[38;5;124mf\u001b[39m\u001b[38;5;124m\"\u001b[39m\u001b[38;5;124mExpected: \u001b[39m\u001b[38;5;132;01m{\u001b[39;00mexpected_classes\u001b[38;5;132;01m}\u001b[39;00m\u001b[38;5;124m, got \u001b[39m\u001b[38;5;132;01m{\u001b[39;00mclasses\u001b[38;5;132;01m}\u001b[39;00m\u001b[38;5;124m\"\u001b[39m\n\u001b[0;32m   1494\u001b[0m     )\n\u001b[0;32m   1496\u001b[0m params \u001b[38;5;241m=\u001b[39m \u001b[38;5;28mself\u001b[39m\u001b[38;5;241m.\u001b[39mget_xgb_params()\n\u001b[0;32m   1498\u001b[0m \u001b[38;5;28;01mif\u001b[39;00m \u001b[38;5;28mcallable\u001b[39m(\u001b[38;5;28mself\u001b[39m\u001b[38;5;241m.\u001b[39mobjective):\n",
      "\u001b[1;31mValueError\u001b[0m: Invalid classes inferred from unique values of `y`.  Expected: [0 1], got ['Phishing Email' 'Safe Email']"
     ]
    }
   ],
   "source": [
    "# Step 1: Initialize the XGBoost classifier\n",
    "xgb_model = XGBClassifier(use_label_encoder = True, eval_metric='mlogloss', random_state=1)\n",
    "\n",
    "# Step 2: Train the model\n",
    "xgb_model.fit(X_train_bow, y_train)\n",
    "\n",
    "# # Step 3: Make predictions on the test set\n",
    "y_pred = xgb_model.predict(X_test_bow)\n",
    "\n",
    "# # Step 4: Evaluate the model\n",
    "print(\"Accuracy:\", accuracy_score(y_test, y_pred))\n",
    "print(\"Classification Report:\\n\", classification_report(y_test, y_pred))"
   ]
  },
  {
   "cell_type": "markdown",
   "metadata": {},
   "source": [
    "### TF-IDF"
   ]
  },
  {
   "cell_type": "code",
   "execution_count": 73,
   "metadata": {},
   "outputs": [
    {
     "name": "stdout",
     "output_type": "stream",
     "text": [
      "Accuracy: 0.9632269099201825\n",
      "Classification Report:\n",
      "               precision    recall  f1-score   support\n",
      "\n",
      "           0       0.97      0.97      0.97      2197\n",
      "           1       0.95      0.95      0.95      1311\n",
      "\n",
      "    accuracy                           0.96      3508\n",
      "   macro avg       0.96      0.96      0.96      3508\n",
      "weighted avg       0.96      0.96      0.96      3508\n",
      "\n"
     ]
    }
   ],
   "source": [
    "# Step 1: Initialize the XGBoost classifier\n",
    "xgb_model = XGBClassifier(eval_metric='mlogloss', random_state=1)\n",
    "\n",
    "# Step 2: Train the model\n",
    "xgb_model.fit(X_train_tfidf, y_train)\n",
    "\n",
    "# # Step 3: Make predictions on the test set\n",
    "y_pred = xgb_model.predict(X_test_tfidf)\n",
    "\n",
    "# # Step 4: Evaluate the model\n",
    "print(\"Accuracy:\", accuracy_score(y_test, y_pred))\n",
    "print(\"Classification Report:\\n\", classification_report(y_test, y_pred))"
   ]
  },
  {
   "cell_type": "markdown",
   "metadata": {},
   "source": [
    "### Word2Vec"
   ]
  },
  {
   "cell_type": "code",
   "execution_count": 74,
   "metadata": {},
   "outputs": [
    {
     "name": "stdout",
     "output_type": "stream",
     "text": [
      "Accuracy: 0.9692132269099202\n",
      "Classification Report:\n",
      "               precision    recall  f1-score   support\n",
      "\n",
      "           0       0.97      0.98      0.98      2197\n",
      "           1       0.96      0.96      0.96      1311\n",
      "\n",
      "    accuracy                           0.97      3508\n",
      "   macro avg       0.97      0.97      0.97      3508\n",
      "weighted avg       0.97      0.97      0.97      3508\n",
      "\n"
     ]
    }
   ],
   "source": [
    "# Step 1: Initialize the XGBoost classifier\n",
    "xgb_model = XGBClassifier(eval_metric='mlogloss', random_state=1)\n",
    "\n",
    "# Step 2: Train the model\n",
    "xgb_model.fit(X_train_word2vec, y_train)\n",
    "\n",
    "# # Step 3: Make predictions on the test set\n",
    "y_pred = xgb_model.predict(X_test_word2vec)\n",
    "\n",
    "# # Step 4: Evaluate the model\n",
    "print(\"Accuracy:\", accuracy_score(y_test, y_pred))\n",
    "print(\"Classification Report:\\n\", classification_report(y_test, y_pred))"
   ]
  },
  {
   "cell_type": "markdown",
   "metadata": {},
   "source": [
    "### Sentence Transformer"
   ]
  },
  {
   "cell_type": "code",
   "execution_count": 75,
   "metadata": {},
   "outputs": [
    {
     "name": "stdout",
     "output_type": "stream",
     "text": [
      "Accuracy: 0.9620866590649944\n",
      "Classification Report:\n",
      "               precision    recall  f1-score   support\n",
      "\n",
      "           0       0.96      0.98      0.97      2197\n",
      "           1       0.96      0.94      0.95      1311\n",
      "\n",
      "    accuracy                           0.96      3508\n",
      "   macro avg       0.96      0.96      0.96      3508\n",
      "weighted avg       0.96      0.96      0.96      3508\n",
      "\n"
     ]
    }
   ],
   "source": [
    "# Step 1: Initialize the XGBoost classifier\n",
    "xgb_model = XGBClassifier(eval_metric='mlogloss', random_state=1)\n",
    "\n",
    "# Step 2: Train the model\n",
    "xgb_model.fit(train_embeddings, y_train)\n",
    "\n",
    "# # Step 3: Make predictions on the test set\n",
    "y_pred = xgb_model.predict(test_embeddings)\n",
    "\n",
    "# # Step 4: Evaluate the model\n",
    "print(\"Accuracy:\", accuracy_score(y_test, y_pred))\n",
    "print(\"Classification Report:\\n\", classification_report(y_test, y_pred))"
   ]
  },
  {
   "cell_type": "markdown",
   "metadata": {},
   "source": [
    "## Run all (XGBoost)"
   ]
  },
  {
   "cell_type": "code",
   "execution_count": 81,
   "metadata": {},
   "outputs": [
    {
     "name": "stdout",
     "output_type": "stream",
     "text": [
      "            Feature Set  Accuracy  Phishing Email F1 Score  \\\n",
      "0          Bag of Words  0.968928                 0.958696   \n",
      "1                TF-IDF  0.963227                 0.951006   \n",
      "2              Word2Vec  0.969213                 0.958747   \n",
      "3  Sentence Transformer  0.962087                 0.948668   \n",
      "\n",
      "   Safe Email F1 Score  \n",
      "0             0.975097  \n",
      "1             0.970568  \n",
      "2             0.975443  \n",
      "3             0.969944  \n"
     ]
    }
   ],
   "source": [
    "from xgboost import XGBClassifier\n",
    "\n",
    "# Step 1: Collect results\n",
    "results = []\n",
    "\n",
    "# Step 2: Define a function to train XGBoost and evaluate\n",
    "def run_xgboost(X_train, X_test, y_train, y_test, feature_name):\n",
    "    xgb_model = XGBClassifier(eval_metric='mlogloss', random_state=1)\n",
    "    xgb_model.fit(X_train, y_train.values.ravel())\n",
    "    y_pred = xgb_model.predict(X_test)\n",
    "    \n",
    "    accuracy = accuracy_score(y_test, y_pred)\n",
    "    report = classification_report(y_test, y_pred, output_dict=True)\n",
    "    return accuracy, report['1']['f1-score'], report['0']['f1-score']  # Adjust 'Phishing Email'/'Safe Email' according to your labels\n",
    "\n",
    "# Run XGBoost for each feature set\n",
    "feature_sets = {\n",
    "    \"Bag of Words\": (X_train_bow, X_test_bow),\n",
    "    \"TF-IDF\": (X_train_tfidf, X_test_tfidf),\n",
    "    \"Word2Vec\": (X_train_word2vec, X_test_word2vec),\n",
    "    \"Sentence Transformer\": (train_embeddings, test_embeddings)\n",
    "}\n",
    "\n",
    "for feature_name, (X_train_feature, X_test_feature) in feature_sets.items():\n",
    "    accuracy, phishing_f1, safe_f1 = run_xgboost(X_train_feature, X_test_feature, y_train, y_test, feature_name)\n",
    "    results.append({\n",
    "        \"Feature Set\": feature_name,\n",
    "        \"Accuracy\": accuracy,\n",
    "        \"Phishing Email F1 Score\": phishing_f1,\n",
    "        \"Safe Email F1 Score\": safe_f1\n",
    "    })\n",
    "\n",
    "# Step 3: Create a DataFrame to represent the results\n",
    "results_df = pd.DataFrame(results)\n",
    "\n",
    "# Step 4: Display the results\n",
    "print(results_df)\n"
   ]
  },
  {
   "cell_type": "code",
   "execution_count": 82,
   "metadata": {},
   "outputs": [
    {
     "data": {
      "text/html": [
       "<div>\n",
       "<style scoped>\n",
       "    .dataframe tbody tr th:only-of-type {\n",
       "        vertical-align: middle;\n",
       "    }\n",
       "\n",
       "    .dataframe tbody tr th {\n",
       "        vertical-align: top;\n",
       "    }\n",
       "\n",
       "    .dataframe thead th {\n",
       "        text-align: right;\n",
       "    }\n",
       "</style>\n",
       "<table border=\"1\" class=\"dataframe\">\n",
       "  <thead>\n",
       "    <tr style=\"text-align: right;\">\n",
       "      <th></th>\n",
       "      <th>Feature Set</th>\n",
       "      <th>Accuracy</th>\n",
       "      <th>Phishing Email F1 Score</th>\n",
       "      <th>Safe Email F1 Score</th>\n",
       "    </tr>\n",
       "  </thead>\n",
       "  <tbody>\n",
       "    <tr>\n",
       "      <th>0</th>\n",
       "      <td>Bag of Words</td>\n",
       "      <td>0.968928</td>\n",
       "      <td>0.958696</td>\n",
       "      <td>0.975097</td>\n",
       "    </tr>\n",
       "    <tr>\n",
       "      <th>1</th>\n",
       "      <td>TF-IDF</td>\n",
       "      <td>0.963227</td>\n",
       "      <td>0.951006</td>\n",
       "      <td>0.970568</td>\n",
       "    </tr>\n",
       "    <tr>\n",
       "      <th>2</th>\n",
       "      <td>Word2Vec</td>\n",
       "      <td>0.969213</td>\n",
       "      <td>0.958747</td>\n",
       "      <td>0.975443</td>\n",
       "    </tr>\n",
       "    <tr>\n",
       "      <th>3</th>\n",
       "      <td>Sentence Transformer</td>\n",
       "      <td>0.962087</td>\n",
       "      <td>0.948668</td>\n",
       "      <td>0.969944</td>\n",
       "    </tr>\n",
       "  </tbody>\n",
       "</table>\n",
       "</div>"
      ],
      "text/plain": [
       "            Feature Set  Accuracy  Phishing Email F1 Score  \\\n",
       "0          Bag of Words  0.968928                 0.958696   \n",
       "1                TF-IDF  0.963227                 0.951006   \n",
       "2              Word2Vec  0.969213                 0.958747   \n",
       "3  Sentence Transformer  0.962087                 0.948668   \n",
       "\n",
       "   Safe Email F1 Score  \n",
       "0             0.975097  \n",
       "1             0.970568  \n",
       "2             0.975443  \n",
       "3             0.969944  "
      ]
     },
     "execution_count": 82,
     "metadata": {},
     "output_type": "execute_result"
    }
   ],
   "source": [
    "results_df"
   ]
  }
 ],
 "metadata": {
  "kernelspec": {
   "display_name": ".venv",
   "language": "python",
   "name": "python3"
  },
  "language_info": {
   "codemirror_mode": {
    "name": "ipython",
    "version": 3
   },
   "file_extension": ".py",
   "mimetype": "text/x-python",
   "name": "python",
   "nbconvert_exporter": "python",
   "pygments_lexer": "ipython3",
   "version": "3.10.11"
  }
 },
 "nbformat": 4,
 "nbformat_minor": 2
}
