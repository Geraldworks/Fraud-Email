{
 "cells": [
  {
   "cell_type": "code",
   "execution_count": 1,
   "metadata": {},
   "outputs": [
    {
     "name": "stderr",
     "output_type": "stream",
     "text": [
      "/Users/szeyinglim/Desktop/BT4012/Fraud-Email/.venv/lib/python3.11/site-packages/sentence_transformers/cross_encoder/CrossEncoder.py:13: TqdmWarning: IProgress not found. Please update jupyter and ipywidgets. See https://ipywidgets.readthedocs.io/en/stable/user_install.html\n",
      "  from tqdm.autonotebook import tqdm, trange\n"
     ]
    }
   ],
   "source": [
    "import pandas as pd\n",
    "import numpy as np\n",
    "import os\n",
    "\n",
    "# data visualisation\n",
    "import matplotlib.pyplot as plt\n",
    "import seaborn as sns\n",
    "\n",
    "# preprocessing text\n",
    "import nltk\n",
    "import re\n",
    "import ssl \n",
    "from nltk.corpus import stopwords\n",
    "from nltk.tokenize import word_tokenize\n",
    "from nltk.stem import WordNetLemmatizer\n",
    "\n",
    "# train test split\n",
    "from sklearn.model_selection import train_test_split\n",
    "\n",
    "# feature engineering\n",
    "from sklearn.feature_extraction.text import CountVectorizer, TfidfVectorizer\n",
    "from gensim.models import Word2Vec\n",
    "from sentence_transformers import SentenceTransformer\n",
    "from scipy.stats import chi2_contingency\n",
    "from sklearn.preprocessing import OneHotEncoder\n",
    "from sklearn.feature_selection import VarianceThreshold\n",
    "\n",
    "# modelling\n",
    "from sklearn.metrics import classification_report, accuracy_score\n",
    "from sklearn.feature_extraction.text import CountVectorizer\n",
    "from sklearn.svm import SVC\n",
    "from sklearn.ensemble import RandomForestClassifier"
   ]
  },
  {
   "cell_type": "markdown",
   "metadata": {},
   "source": [
    "## Reading Data"
   ]
  },
  {
   "cell_type": "code",
   "execution_count": 2,
   "metadata": {},
   "outputs": [
    {
     "data": {
      "text/plain": [
       "(39154, 7)"
      ]
     },
     "execution_count": 2,
     "metadata": {},
     "output_type": "execute_result"
    }
   ],
   "source": [
    "df = pd.read_csv(\"./data/Phish_No_More.csv\")\n",
    "df.shape"
   ]
  },
  {
   "cell_type": "code",
   "execution_count": 3,
   "metadata": {},
   "outputs": [],
   "source": [
    "SEED = 42"
   ]
  },
  {
   "cell_type": "code",
   "execution_count": 4,
   "metadata": {},
   "outputs": [
    {
     "data": {
      "text/html": [
       "<div>\n",
       "<style scoped>\n",
       "    .dataframe tbody tr th:only-of-type {\n",
       "        vertical-align: middle;\n",
       "    }\n",
       "\n",
       "    .dataframe tbody tr th {\n",
       "        vertical-align: top;\n",
       "    }\n",
       "\n",
       "    .dataframe thead th {\n",
       "        text-align: right;\n",
       "    }\n",
       "</style>\n",
       "<table border=\"1\" class=\"dataframe\">\n",
       "  <thead>\n",
       "    <tr style=\"text-align: right;\">\n",
       "      <th></th>\n",
       "      <th>sender</th>\n",
       "      <th>receiver</th>\n",
       "      <th>date</th>\n",
       "      <th>subject</th>\n",
       "      <th>body</th>\n",
       "      <th>label</th>\n",
       "      <th>urls</th>\n",
       "    </tr>\n",
       "  </thead>\n",
       "  <tbody>\n",
       "    <tr>\n",
       "      <th>0</th>\n",
       "      <td>Young Esposito &lt;Young@iworld.de&gt;</td>\n",
       "      <td>user4@gvc.ceas-challenge.cc</td>\n",
       "      <td>Tue, 05 Aug 2008 16:31:02 -0700</td>\n",
       "      <td>Never agree to be a loser</td>\n",
       "      <td>Buck up, your troubles caused by small dimensi...</td>\n",
       "      <td>1</td>\n",
       "      <td>1</td>\n",
       "    </tr>\n",
       "    <tr>\n",
       "      <th>1</th>\n",
       "      <td>Mok &lt;ipline's1983@icable.ph&gt;</td>\n",
       "      <td>user2.2@gvc.ceas-challenge.cc</td>\n",
       "      <td>Tue, 05 Aug 2008 18:31:03 -0500</td>\n",
       "      <td>Befriend Jenna Jameson</td>\n",
       "      <td>\\nUpgrade your sex and pleasures with these te...</td>\n",
       "      <td>1</td>\n",
       "      <td>1</td>\n",
       "    </tr>\n",
       "    <tr>\n",
       "      <th>2</th>\n",
       "      <td>Daily Top 10 &lt;Karmandeep-opengevl@universalnet...</td>\n",
       "      <td>user2.9@gvc.ceas-challenge.cc</td>\n",
       "      <td>Tue, 05 Aug 2008 20:28:00 -1200</td>\n",
       "      <td>CNN.com Daily Top 10</td>\n",
       "      <td>&gt;+=+=+=+=+=+=+=+=+=+=+=+=+=+=+=+=+=+=+=+=+=+=+...</td>\n",
       "      <td>1</td>\n",
       "      <td>1</td>\n",
       "    </tr>\n",
       "    <tr>\n",
       "      <th>3</th>\n",
       "      <td>Michael Parker &lt;ivqrnai@pobox.com&gt;</td>\n",
       "      <td>SpamAssassin Dev &lt;xrh@spamassassin.apache.org&gt;</td>\n",
       "      <td>Tue, 05 Aug 2008 17:31:20 -0600</td>\n",
       "      <td>Re: svn commit: r619753 - in /spamassassin/tru...</td>\n",
       "      <td>Would anyone object to removing .so from this ...</td>\n",
       "      <td>0</td>\n",
       "      <td>1</td>\n",
       "    </tr>\n",
       "    <tr>\n",
       "      <th>4</th>\n",
       "      <td>Gretchen Suggs &lt;externalsep1@loanofficertool.com&gt;</td>\n",
       "      <td>user2.2@gvc.ceas-challenge.cc</td>\n",
       "      <td>Tue, 05 Aug 2008 19:31:21 -0400</td>\n",
       "      <td>SpecialPricesPharmMoreinfo</td>\n",
       "      <td>\\nWelcomeFastShippingCustomerSupport\\nhttp://7...</td>\n",
       "      <td>1</td>\n",
       "      <td>1</td>\n",
       "    </tr>\n",
       "  </tbody>\n",
       "</table>\n",
       "</div>"
      ],
      "text/plain": [
       "                                              sender  \\\n",
       "0                   Young Esposito <Young@iworld.de>   \n",
       "1                       Mok <ipline's1983@icable.ph>   \n",
       "2  Daily Top 10 <Karmandeep-opengevl@universalnet...   \n",
       "3                 Michael Parker <ivqrnai@pobox.com>   \n",
       "4  Gretchen Suggs <externalsep1@loanofficertool.com>   \n",
       "\n",
       "                                         receiver  \\\n",
       "0                     user4@gvc.ceas-challenge.cc   \n",
       "1                   user2.2@gvc.ceas-challenge.cc   \n",
       "2                   user2.9@gvc.ceas-challenge.cc   \n",
       "3  SpamAssassin Dev <xrh@spamassassin.apache.org>   \n",
       "4                   user2.2@gvc.ceas-challenge.cc   \n",
       "\n",
       "                              date  \\\n",
       "0  Tue, 05 Aug 2008 16:31:02 -0700   \n",
       "1  Tue, 05 Aug 2008 18:31:03 -0500   \n",
       "2  Tue, 05 Aug 2008 20:28:00 -1200   \n",
       "3  Tue, 05 Aug 2008 17:31:20 -0600   \n",
       "4  Tue, 05 Aug 2008 19:31:21 -0400   \n",
       "\n",
       "                                             subject  \\\n",
       "0                          Never agree to be a loser   \n",
       "1                             Befriend Jenna Jameson   \n",
       "2                               CNN.com Daily Top 10   \n",
       "3  Re: svn commit: r619753 - in /spamassassin/tru...   \n",
       "4                         SpecialPricesPharmMoreinfo   \n",
       "\n",
       "                                                body  label  urls  \n",
       "0  Buck up, your troubles caused by small dimensi...      1     1  \n",
       "1  \\nUpgrade your sex and pleasures with these te...      1     1  \n",
       "2  >+=+=+=+=+=+=+=+=+=+=+=+=+=+=+=+=+=+=+=+=+=+=+...      1     1  \n",
       "3  Would anyone object to removing .so from this ...      0     1  \n",
       "4  \\nWelcomeFastShippingCustomerSupport\\nhttp://7...      1     1  "
      ]
     },
     "execution_count": 4,
     "metadata": {},
     "output_type": "execute_result"
    }
   ],
   "source": [
    "df.head()"
   ]
  },
  {
   "cell_type": "markdown",
   "metadata": {},
   "source": [
    "## Cleaning the Data"
   ]
  },
  {
   "cell_type": "code",
   "execution_count": 5,
   "metadata": {},
   "outputs": [],
   "source": [
    "# Splitting 'sender' into 'name' and 'email'\n",
    "df[['sender_name', 'sender_email']] = df['sender'].str.extract(r'(?P<name>.+?)\\s*<(?P<email>.+?)>')\n",
    "\n",
    "# Use the 'str.extract' method to create two new columns based on the pattern\n",
    "df[['receiver_name', 'receiver_email']] = df['receiver'].str.extract(r'(?:(?P<receiver_name>.*)\\s<)?(?P<receiver_email>[^<>]+)>?')\n",
    "\n",
    "# Extracting the domain from 'sender_email'\n",
    "df['sender_domain'] = df['sender_email'].str.extract(r'@(.+)', expand=False)\n",
    "\n",
    "# Extracting the domain from 'receiver_email'\n",
    "df['receiver_domain'] = df['receiver_email'].str.extract(r'@(.+)', expand=False)\n"
   ]
  },
  {
   "cell_type": "code",
   "execution_count": 6,
   "metadata": {},
   "outputs": [],
   "source": [
    "# Converting 'date' to datetime format and forcing invalid formats to NaT\n",
    "df['date'] = pd.to_datetime(df['date'], errors='coerce', utc=True)\n",
    "\n",
    "# Dropping rows where 'date' is NaT (i.e., invalid datetime entries)\n",
    "df = df.dropna(subset=['date'])\n",
    "\n",
    "# Extracting year, month, day, hour from the 'date' column\n",
    "df['year'] = df['date'].dt.year\n",
    "df['month'] = df['date'].dt.month\n",
    "df['day'] = df['date'].dt.day\n",
    "df['hour'] = df['date'].dt.hour"
   ]
  },
  {
   "cell_type": "code",
   "execution_count": 7,
   "metadata": {},
   "outputs": [],
   "source": [
    "# Renaming 'urls' column to 'body_contains_url'\n",
    "df.rename(columns={'urls': 'body_contains_url'}, inplace=True)\n",
    "\n",
    "# Renaming 'label' column to 'is_fraud_email'\n",
    "df.rename(columns={'label': 'is_fraud_email'}, inplace=True)"
   ]
  },
  {
   "cell_type": "code",
   "execution_count": 8,
   "metadata": {},
   "outputs": [
    {
     "name": "stdout",
     "output_type": "stream",
     "text": [
      "Columns with null values:\n",
      " receiver             462\n",
      "subject               28\n",
      "sender_name         3454\n",
      "sender_email        3454\n",
      "receiver_name      32048\n",
      "receiver_email       462\n",
      "sender_domain       3456\n",
      "receiver_domain      558\n",
      "dtype: int64\n"
     ]
    }
   ],
   "source": [
    "# Check for null values in the DataFrame\n",
    "null_summary = df.isnull().sum()\n",
    "\n",
    "# Display the columns with null values\n",
    "print(\"Columns with null values:\\n\", null_summary[null_summary > 0])"
   ]
  },
  {
   "cell_type": "code",
   "execution_count": 9,
   "metadata": {},
   "outputs": [],
   "source": [
    "# Drop rows where 'receiver', 'subject', or 'receiver_email' are null\n",
    "df = df.dropna(subset=['receiver', 'subject', 'receiver_email'])\n",
    "\n",
    "# Drop the 'receiver_name' column entirely due to high percentage of missing values\n",
    "df = df.drop(columns=['receiver_name'])\n",
    "\n",
    "# Drop rows where both 'sender_name' and 'sender_email' are null\n",
    "df = df.dropna(subset=['sender_name', 'sender_email'], how='all')\n",
    "\n",
    "# Optionally, drop rows where 'sender_domain' and 'receiver_domain' are null if domain analysis is important\n",
    "df = df.dropna(subset=['sender_domain', 'receiver_domain'], how='any')"
   ]
  },
  {
   "cell_type": "code",
   "execution_count": 10,
   "metadata": {},
   "outputs": [],
   "source": [
    "# Drop the specified columns\n",
    "df = df.drop(columns=['sender', 'receiver'])"
   ]
  },
  {
   "cell_type": "code",
   "execution_count": 11,
   "metadata": {},
   "outputs": [
    {
     "data": {
      "text/plain": [
       "(35286, 14)"
      ]
     },
     "execution_count": 11,
     "metadata": {},
     "output_type": "execute_result"
    }
   ],
   "source": [
    "# Final df shape\n",
    "df.shape"
   ]
  },
  {
   "cell_type": "code",
   "execution_count": 12,
   "metadata": {},
   "outputs": [
    {
     "data": {
      "text/html": [
       "<div>\n",
       "<style scoped>\n",
       "    .dataframe tbody tr th:only-of-type {\n",
       "        vertical-align: middle;\n",
       "    }\n",
       "\n",
       "    .dataframe tbody tr th {\n",
       "        vertical-align: top;\n",
       "    }\n",
       "\n",
       "    .dataframe thead th {\n",
       "        text-align: right;\n",
       "    }\n",
       "</style>\n",
       "<table border=\"1\" class=\"dataframe\">\n",
       "  <thead>\n",
       "    <tr style=\"text-align: right;\">\n",
       "      <th></th>\n",
       "      <th>date</th>\n",
       "      <th>subject</th>\n",
       "      <th>body</th>\n",
       "      <th>is_fraud_email</th>\n",
       "      <th>body_contains_url</th>\n",
       "      <th>sender_name</th>\n",
       "      <th>sender_email</th>\n",
       "      <th>receiver_email</th>\n",
       "      <th>sender_domain</th>\n",
       "      <th>receiver_domain</th>\n",
       "      <th>year</th>\n",
       "      <th>month</th>\n",
       "      <th>day</th>\n",
       "      <th>hour</th>\n",
       "    </tr>\n",
       "  </thead>\n",
       "  <tbody>\n",
       "    <tr>\n",
       "      <th>0</th>\n",
       "      <td>2008-08-05 23:31:02+00:00</td>\n",
       "      <td>Never agree to be a loser</td>\n",
       "      <td>Buck up, your troubles caused by small dimensi...</td>\n",
       "      <td>1</td>\n",
       "      <td>1</td>\n",
       "      <td>Young Esposito</td>\n",
       "      <td>Young@iworld.de</td>\n",
       "      <td>user4@gvc.ceas-challenge.cc</td>\n",
       "      <td>iworld.de</td>\n",
       "      <td>gvc.ceas-challenge.cc</td>\n",
       "      <td>2008</td>\n",
       "      <td>8</td>\n",
       "      <td>5</td>\n",
       "      <td>23</td>\n",
       "    </tr>\n",
       "    <tr>\n",
       "      <th>1</th>\n",
       "      <td>2008-08-05 23:31:03+00:00</td>\n",
       "      <td>Befriend Jenna Jameson</td>\n",
       "      <td>\\nUpgrade your sex and pleasures with these te...</td>\n",
       "      <td>1</td>\n",
       "      <td>1</td>\n",
       "      <td>Mok</td>\n",
       "      <td>ipline's1983@icable.ph</td>\n",
       "      <td>user2.2@gvc.ceas-challenge.cc</td>\n",
       "      <td>icable.ph</td>\n",
       "      <td>gvc.ceas-challenge.cc</td>\n",
       "      <td>2008</td>\n",
       "      <td>8</td>\n",
       "      <td>5</td>\n",
       "      <td>23</td>\n",
       "    </tr>\n",
       "    <tr>\n",
       "      <th>2</th>\n",
       "      <td>2008-08-06 08:28:00+00:00</td>\n",
       "      <td>CNN.com Daily Top 10</td>\n",
       "      <td>&gt;+=+=+=+=+=+=+=+=+=+=+=+=+=+=+=+=+=+=+=+=+=+=+...</td>\n",
       "      <td>1</td>\n",
       "      <td>1</td>\n",
       "      <td>Daily Top 10</td>\n",
       "      <td>Karmandeep-opengevl@universalnet.psi.br</td>\n",
       "      <td>user2.9@gvc.ceas-challenge.cc</td>\n",
       "      <td>universalnet.psi.br</td>\n",
       "      <td>gvc.ceas-challenge.cc</td>\n",
       "      <td>2008</td>\n",
       "      <td>8</td>\n",
       "      <td>6</td>\n",
       "      <td>8</td>\n",
       "    </tr>\n",
       "    <tr>\n",
       "      <th>3</th>\n",
       "      <td>2008-08-05 23:31:20+00:00</td>\n",
       "      <td>Re: svn commit: r619753 - in /spamassassin/tru...</td>\n",
       "      <td>Would anyone object to removing .so from this ...</td>\n",
       "      <td>0</td>\n",
       "      <td>1</td>\n",
       "      <td>Michael Parker</td>\n",
       "      <td>ivqrnai@pobox.com</td>\n",
       "      <td>xrh@spamassassin.apache.org</td>\n",
       "      <td>pobox.com</td>\n",
       "      <td>spamassassin.apache.org</td>\n",
       "      <td>2008</td>\n",
       "      <td>8</td>\n",
       "      <td>5</td>\n",
       "      <td>23</td>\n",
       "    </tr>\n",
       "    <tr>\n",
       "      <th>4</th>\n",
       "      <td>2008-08-05 23:31:21+00:00</td>\n",
       "      <td>SpecialPricesPharmMoreinfo</td>\n",
       "      <td>\\nWelcomeFastShippingCustomerSupport\\nhttp://7...</td>\n",
       "      <td>1</td>\n",
       "      <td>1</td>\n",
       "      <td>Gretchen Suggs</td>\n",
       "      <td>externalsep1@loanofficertool.com</td>\n",
       "      <td>user2.2@gvc.ceas-challenge.cc</td>\n",
       "      <td>loanofficertool.com</td>\n",
       "      <td>gvc.ceas-challenge.cc</td>\n",
       "      <td>2008</td>\n",
       "      <td>8</td>\n",
       "      <td>5</td>\n",
       "      <td>23</td>\n",
       "    </tr>\n",
       "  </tbody>\n",
       "</table>\n",
       "</div>"
      ],
      "text/plain": [
       "                       date  \\\n",
       "0 2008-08-05 23:31:02+00:00   \n",
       "1 2008-08-05 23:31:03+00:00   \n",
       "2 2008-08-06 08:28:00+00:00   \n",
       "3 2008-08-05 23:31:20+00:00   \n",
       "4 2008-08-05 23:31:21+00:00   \n",
       "\n",
       "                                             subject  \\\n",
       "0                          Never agree to be a loser   \n",
       "1                             Befriend Jenna Jameson   \n",
       "2                               CNN.com Daily Top 10   \n",
       "3  Re: svn commit: r619753 - in /spamassassin/tru...   \n",
       "4                         SpecialPricesPharmMoreinfo   \n",
       "\n",
       "                                                body  is_fraud_email  \\\n",
       "0  Buck up, your troubles caused by small dimensi...               1   \n",
       "1  \\nUpgrade your sex and pleasures with these te...               1   \n",
       "2  >+=+=+=+=+=+=+=+=+=+=+=+=+=+=+=+=+=+=+=+=+=+=+...               1   \n",
       "3  Would anyone object to removing .so from this ...               0   \n",
       "4  \\nWelcomeFastShippingCustomerSupport\\nhttp://7...               1   \n",
       "\n",
       "   body_contains_url     sender_name                             sender_email  \\\n",
       "0                  1  Young Esposito                          Young@iworld.de   \n",
       "1                  1             Mok                   ipline's1983@icable.ph   \n",
       "2                  1    Daily Top 10  Karmandeep-opengevl@universalnet.psi.br   \n",
       "3                  1  Michael Parker                        ivqrnai@pobox.com   \n",
       "4                  1  Gretchen Suggs         externalsep1@loanofficertool.com   \n",
       "\n",
       "                  receiver_email        sender_domain  \\\n",
       "0    user4@gvc.ceas-challenge.cc            iworld.de   \n",
       "1  user2.2@gvc.ceas-challenge.cc            icable.ph   \n",
       "2  user2.9@gvc.ceas-challenge.cc  universalnet.psi.br   \n",
       "3    xrh@spamassassin.apache.org            pobox.com   \n",
       "4  user2.2@gvc.ceas-challenge.cc  loanofficertool.com   \n",
       "\n",
       "           receiver_domain  year  month  day  hour  \n",
       "0    gvc.ceas-challenge.cc  2008      8    5    23  \n",
       "1    gvc.ceas-challenge.cc  2008      8    5    23  \n",
       "2    gvc.ceas-challenge.cc  2008      8    6     8  \n",
       "3  spamassassin.apache.org  2008      8    5    23  \n",
       "4    gvc.ceas-challenge.cc  2008      8    5    23  "
      ]
     },
     "execution_count": 12,
     "metadata": {},
     "output_type": "execute_result"
    }
   ],
   "source": [
    "df.head()"
   ]
  },
  {
   "cell_type": "code",
   "execution_count": 13,
   "metadata": {},
   "outputs": [
    {
     "data": {
      "text/plain": [
       "date                 0\n",
       "subject              0\n",
       "body                 0\n",
       "is_fraud_email       0\n",
       "body_contains_url    0\n",
       "sender_name          0\n",
       "sender_email         0\n",
       "receiver_email       0\n",
       "sender_domain        0\n",
       "receiver_domain      0\n",
       "year                 0\n",
       "month                0\n",
       "day                  0\n",
       "hour                 0\n",
       "dtype: int64"
      ]
     },
     "execution_count": 13,
     "metadata": {},
     "output_type": "execute_result"
    }
   ],
   "source": [
    "df.isnull().sum()"
   ]
  },
  {
   "cell_type": "markdown",
   "metadata": {},
   "source": [
    "## Pre-Preprocessing Data Visualisation"
   ]
  },
  {
   "cell_type": "code",
   "execution_count": 14,
   "metadata": {},
   "outputs": [
    {
     "data": {
      "text/html": [
       "<div>\n",
       "<style scoped>\n",
       "    .dataframe tbody tr th:only-of-type {\n",
       "        vertical-align: middle;\n",
       "    }\n",
       "\n",
       "    .dataframe tbody tr th {\n",
       "        vertical-align: top;\n",
       "    }\n",
       "\n",
       "    .dataframe thead th {\n",
       "        text-align: right;\n",
       "    }\n",
       "</style>\n",
       "<table border=\"1\" class=\"dataframe\">\n",
       "  <thead>\n",
       "    <tr style=\"text-align: right;\">\n",
       "      <th></th>\n",
       "      <th>Email Type</th>\n",
       "      <th>Count</th>\n",
       "      <th>Percentage</th>\n",
       "    </tr>\n",
       "  </thead>\n",
       "  <tbody>\n",
       "    <tr>\n",
       "      <th>0</th>\n",
       "      <td>1</td>\n",
       "      <td>20354</td>\n",
       "      <td>57.7%</td>\n",
       "    </tr>\n",
       "    <tr>\n",
       "      <th>1</th>\n",
       "      <td>0</td>\n",
       "      <td>14932</td>\n",
       "      <td>42.3%</td>\n",
       "    </tr>\n",
       "  </tbody>\n",
       "</table>\n",
       "</div>"
      ],
      "text/plain": [
       "   Email Type  Count Percentage\n",
       "0           1  20354      57.7%\n",
       "1           0  14932      42.3%"
      ]
     },
     "execution_count": 14,
     "metadata": {},
     "output_type": "execute_result"
    }
   ],
   "source": [
    "# Get counts of each 'Email Type'\n",
    "email_type_counts = df[\"is_fraud_email\"].value_counts().reset_index()\n",
    "\n",
    "# Rename columns for clarity\n",
    "email_type_counts.columns = [\"Email Type\", \"Count\"]\n",
    "\n",
    "# Calculate total count of emails\n",
    "total_count = email_type_counts[\"Count\"].sum()\n",
    "\n",
    "# Calculate percentages and round off to 1 decimal place\n",
    "email_type_counts[\"Percentage\"] = ((email_type_counts[\"Count\"] / total_count) * 100).round(1)\n",
    "\n",
    "# Display percentages as numeric with '%' symbol attached\n",
    "email_type_counts[\"Percentage\"] = email_type_counts[\"Percentage\"].astype(str) + '%'\n",
    "\n",
    "email_type_counts"
   ]
  },
  {
   "cell_type": "code",
   "execution_count": 15,
   "metadata": {},
   "outputs": [
    {
     "data": {
      "image/png": "[encoded data removed]",
      "text/plain": [
       "<Figure size 800x600 with 1 Axes>"
      ]
     },
     "metadata": {},
     "output_type": "display_data"
    }
   ],
   "source": [
    "# Count the occurrences of each category in 'is_fraud_email'\n",
    "fraud_counts = df['is_fraud_email'].value_counts()\n",
    "\n",
    "# Create a bar plot\n",
    "plt.figure(figsize=(8, 6))\n",
    "ax = fraud_counts.plot(kind='bar', color=['green', 'red'])\n",
    "\n",
    "# Adding title and labels\n",
    "plt.title('Fraud vs Safe Emails')\n",
    "plt.xlabel('Email Type')\n",
    "plt.ylabel('Count')\n",
    "\n",
    "# Add the count values on top of each bar\n",
    "for p in ax.patches:\n",
    "    ax.annotate(f'{p.get_height()}', (p.get_x() + p.get_width() / 2., p.get_height()), \n",
    "                ha='center', va='center', xytext=(0, 10), textcoords='offset points')\n",
    "\n",
    "# Show the plot\n",
    "plt.xticks(ticks=[0, 1], labels=['Fraud', 'Safe'], rotation=0)\n",
    "plt.show()\n"
   ]
  },
  {
   "cell_type": "markdown",
   "metadata": {},
   "source": [
    "## Pre-Processing Email Text"
   ]
  },
  {
   "cell_type": "code",
   "execution_count": 16,
   "metadata": {},
   "outputs": [
    {
     "name": "stderr",
     "output_type": "stream",
     "text": [
      "[nltk_data] Downloading package punkt to\n",
      "[nltk_data]     /Users/szeyinglim/nltk_data...\n",
      "[nltk_data]   Package punkt is already up-to-date!\n",
      "[nltk_data] Downloading package punkt_tab to\n",
      "[nltk_data]     /Users/szeyinglim/nltk_data...\n",
      "[nltk_data]   Package punkt_tab is already up-to-date!\n",
      "[nltk_data] Downloading package stopwords to\n",
      "[nltk_data]     /Users/szeyinglim/nltk_data...\n",
      "[nltk_data]   Package stopwords is already up-to-date!\n",
      "[nltk_data] Downloading package wordnet to\n",
      "[nltk_data]     /Users/szeyinglim/nltk_data...\n",
      "[nltk_data]   Package wordnet is already up-to-date!\n"
     ]
    },
    {
     "data": {
      "text/plain": [
       "True"
      ]
     },
     "execution_count": 16,
     "metadata": {},
     "output_type": "execute_result"
    }
   ],
   "source": [
    "# Download nltk datasets\n",
    "\n",
    "try:\n",
    "    _create_unverified_https_context = ssl._create_unverified_context\n",
    "except AttributeError:\n",
    "    pass\n",
    "else:\n",
    "    ssl._create_default_https_context = _create_unverified_https_context\n",
    "\n",
    "nltk.download('punkt')\n",
    "nltk.download('punkt_tab')\n",
    "nltk.download('stopwords')\n",
    "nltk.download('wordnet')"
   ]
  },
  {
   "cell_type": "markdown",
   "metadata": {},
   "source": [
    "#### Preprocess without lemmatization\n",
    "Maintains contextual semantics and meaning"
   ]
  },
  {
   "cell_type": "code",
   "execution_count": 17,
   "metadata": {},
   "outputs": [
    {
     "data": {
      "text/plain": [
       "0        buck troubles caused small dimension soon beco...\n",
       "1        upgrade sex pleasures techniques httpwwwbright...\n",
       "2        daily top cnncom top videos stories aug pm edt...\n",
       "3        would anyone object removing list tld basicall...\n",
       "4        welcomefastshippingcustomersupport httpiwfnabl...\n",
       "                               ...                        \n",
       "39149    cnn alerts custom alert alert name custom aler...\n",
       "39150    cnn alerts custom alert alert name custom aler...\n",
       "39151    hello great work slide show viewer application...\n",
       "39152    mail sender coming intuitcom servers subject t...\n",
       "39153    dear fellow pythonistas guido accepted user si...\n",
       "Name: processed_text, Length: 35286, dtype: object"
      ]
     },
     "execution_count": 17,
     "metadata": {},
     "output_type": "execute_result"
    }
   ],
   "source": [
    "def preprocess_text(text: str) -> str:\n",
    "    # Lowercase the text\n",
    "    text = str(text).lower()\n",
    "    \n",
    "    # Remove punctuation, numbers, and special characters\n",
    "    text = re.sub(r'[^a-z\\s]', '', text)\n",
    "    \n",
    "    # Tokenize the text\n",
    "    words = word_tokenize(text)\n",
    "    \n",
    "    # Remove stopwords\n",
    "    stop_words = set(stopwords.words('english'))\n",
    "    words = [word for word in words if word not in stop_words]\n",
    "    \n",
    "    # Join the words back into a single string\n",
    "    return ' '.join(words)\n",
    "\n",
    "df['processed_text'] = df['body'].apply(preprocess_text)\n",
    "df['processed_text']"
   ]
  },
  {
   "cell_type": "markdown",
   "metadata": {},
   "source": [
    "#### Preprocessing with lemmatization \n",
    "Simplifies text"
   ]
  },
  {
   "cell_type": "code",
   "execution_count": 18,
   "metadata": {},
   "outputs": [
    {
     "data": {
      "text/plain": [
       "0        buck trouble caused small dimension soon becom...\n",
       "1        upgrade sex pleasure technique httpwwwbrightma...\n",
       "2        daily top cnncom top video story aug pm edt to...\n",
       "3        would anyone object removing list tld basicall...\n",
       "4        welcomefastshippingcustomersupport httpiwfnabl...\n",
       "                               ...                        \n",
       "39149    cnn alert custom alert alert name custom alert...\n",
       "39150    cnn alert custom alert alert name custom alert...\n",
       "39151    hello great work slide show viewer application...\n",
       "39152    mail sender coming intuitcom server subject tu...\n",
       "39153    dear fellow pythonistas guido accepted user si...\n",
       "Name: processed_lemmatized_text, Length: 35286, dtype: object"
      ]
     },
     "execution_count": 18,
     "metadata": {},
     "output_type": "execute_result"
    }
   ],
   "source": [
    "def apply_lemmatization(text: str) -> str:\n",
    "    words = text.split()\n",
    "    \n",
    "    # Lemmatize words\n",
    "    lemmatizer = WordNetLemmatizer()\n",
    "    words = [lemmatizer.lemmatize(word) for word in words]\n",
    "    \n",
    "    # Join the words back into a single string\n",
    "    return ' '.join(words)\n",
    "\n",
    "df['processed_lemmatized_text'] = df['processed_text'].apply(apply_lemmatization)\n",
    "df['processed_lemmatized_text']"
   ]
  },
  {
   "cell_type": "markdown",
   "metadata": {},
   "source": [
    "## Train Test Split"
   ]
  },
  {
   "cell_type": "code",
   "execution_count": 19,
   "metadata": {},
   "outputs": [],
   "source": [
    "X = df.drop(\"is_fraud_email\", axis=1)\n",
    "y = df[[\"is_fraud_email\"]]\n",
    "\n",
    "X_train, X_test, y_train, y_test = train_test_split(X, y, test_size=0.2, random_state=SEED)"
   ]
  },
  {
   "cell_type": "markdown",
   "metadata": {},
   "source": [
    "## Feature Engineering"
   ]
  },
  {
   "cell_type": "markdown",
   "metadata": {},
   "source": [
    "### Categorical Features"
   ]
  },
  {
   "cell_type": "code",
   "execution_count": 20,
   "metadata": {},
   "outputs": [
    {
     "name": "stdout",
     "output_type": "stream",
     "text": [
      "Chi-Square Statistic: 14.148197538444673\n",
      "P-value: 0.00016895890302124768\n"
     ]
    }
   ],
   "source": [
    "contingency_table = pd.crosstab(X_train['body_contains_url'], y_train[\"is_fraud_email\"])\n",
    "chi2, p, dof, expected = chi2_contingency(contingency_table)\n",
    "\n",
    "print(f\"Chi-Square Statistic: {chi2}\")\n",
    "print(f\"P-value: {p}\")"
   ]
  },
  {
   "cell_type": "markdown",
   "metadata": {},
   "source": [
    "As p-value < 0.05, there is sufficient evidence to reject the null hypothesis and conclude that there is a statistically significant association between `body_contain_url` and `is_fraud_email`. As such, we will include this feature in subsequent analysis. "
   ]
  },
  {
   "cell_type": "code",
   "execution_count": 21,
   "metadata": {},
   "outputs": [
    {
     "name": "stdout",
     "output_type": "stream",
     "text": [
      "Chi-Square Statistic: 27233.60299430438\n",
      "P-value: 0.0\n"
     ]
    }
   ],
   "source": [
    "contingency_table = pd.crosstab(df['sender_domain'], y_train[\"is_fraud_email\"])\n",
    "chi2, p, dof, expected = chi2_contingency(contingency_table)\n",
    "\n",
    "print(f\"Chi-Square Statistic: {chi2}\")\n",
    "print(f\"P-value: {p}\")"
   ]
  },
  {
   "cell_type": "markdown",
   "metadata": {},
   "source": [
    "As p-value < 0.05, there is sufficient evidence to reject the null hypothesis and conclude that there is a statistically significant association between `sender_domain` and `is_fraud_email`. We will perform one-hot encoding for this variable so as to include it in subsequent analysis. "
   ]
  },
  {
   "cell_type": "code",
   "execution_count": 22,
   "metadata": {},
   "outputs": [],
   "source": [
    "encoder = OneHotEncoder(handle_unknown='ignore')\n",
    "\n",
    "X_train_encoded = encoder.fit_transform(X_train[['sender_domain']])\n",
    "X_test_encoded = encoder.transform(X_test[['sender_domain']])\n",
    "\n",
    "# Convert the encoded arrays back to DataFrames for better readability (optional)\n",
    "X_train_sender_domain_df = pd.DataFrame(X_train_encoded.toarray(), columns=encoder.get_feature_names_out())\n",
    "X_test_sender_domain_df = pd.DataFrame(X_test_encoded.toarray(), columns=encoder.get_feature_names_out(['sender_domain']))"
   ]
  },
  {
   "cell_type": "markdown",
   "metadata": {},
   "source": [
    "### Text Features"
   ]
  },
  {
   "cell_type": "markdown",
   "metadata": {},
   "source": [
    "#### Using the Processed Lemmatized Text"
   ]
  },
  {
   "cell_type": "markdown",
   "metadata": {},
   "source": [
    "##### Bag of Words"
   ]
  },
  {
   "cell_type": "code",
   "execution_count": 23,
   "metadata": {},
   "outputs": [
    {
     "data": {
      "text/plain": [
       "<28228x128337 sparse matrix of type '<class 'numpy.int64'>'\n",
       "\twith 2073838 stored elements in Compressed Sparse Row format>"
      ]
     },
     "execution_count": 23,
     "metadata": {},
     "output_type": "execute_result"
    }
   ],
   "source": [
    "count_vectorizer = CountVectorizer()\n",
    "\n",
    "X_train_bow = count_vectorizer.fit_transform(X_train['processed_lemmatized_text'])\n",
    "X_test_bow = count_vectorizer.transform(X_test['processed_lemmatized_text'])\n",
    "\n",
    "X_train_bow"
   ]
  },
  {
   "cell_type": "markdown",
   "metadata": {},
   "source": [
    "The value 128273 illustrates the number of dimensions the bag of words contain. As the number if rather large, we will be reducing the number of features by removing low-variance features (i.e., words that hardly appear). "
   ]
  },
  {
   "cell_type": "code",
   "execution_count": 24,
   "metadata": {},
   "outputs": [
    {
     "data": {
      "text/plain": [
       "1094"
      ]
     },
     "execution_count": 24,
     "metadata": {},
     "output_type": "execute_result"
    }
   ],
   "source": [
    "selector = VarianceThreshold(threshold=0.05)\n",
    "\n",
    "X_train_bow = selector.fit_transform(X_train_bow)\n",
    "X_test_bow = selector.transform(X_test_bow)\n",
    "feature_mask = selector.get_support()  \n",
    "feature_names = count_vectorizer.get_feature_names_out()\n",
    "reduced_feature_names = feature_names[feature_mask]\n",
    "\n",
    "X_train_bow_df = pd.DataFrame(X_train_bow.toarray(), columns=reduced_feature_names)\n",
    "X_test_bow_df = pd.DataFrame(X_test_bow.toarray(), columns=reduced_feature_names)\n",
    "\n",
    "X_train_bow_df.shape[1]"
   ]
  },
  {
   "cell_type": "markdown",
   "metadata": {},
   "source": [
    "##### TF-IDF"
   ]
  },
  {
   "cell_type": "code",
   "execution_count": 25,
   "metadata": {},
   "outputs": [
    {
     "data": {
      "text/plain": [
       "<28228x128337 sparse matrix of type '<class 'numpy.float64'>'\n",
       "\twith 2073838 stored elements in Compressed Sparse Row format>"
      ]
     },
     "execution_count": 25,
     "metadata": {},
     "output_type": "execute_result"
    }
   ],
   "source": [
    "tfidf_vectorizer = TfidfVectorizer()\n",
    "\n",
    "X_train_tfidf = tfidf_vectorizer.fit_transform(X_train['processed_lemmatized_text'])\n",
    "X_test_tfidf = tfidf_vectorizer.transform(X_test['processed_lemmatized_text'])\n",
    "\n",
    "X_train_tfidf"
   ]
  },
  {
   "cell_type": "markdown",
   "metadata": {},
   "source": [
    "The value 128273 illustrates the number of dimensions the bag of words contain. As the number if rather large, we will be reducing the number of features by removing low-variance features (i.e., words that hardly appear). "
   ]
  },
  {
   "cell_type": "code",
   "execution_count": 26,
   "metadata": {},
   "outputs": [
    {
     "data": {
      "text/plain": [
       "1757"
      ]
     },
     "execution_count": 26,
     "metadata": {},
     "output_type": "execute_result"
    }
   ],
   "source": [
    "selector = VarianceThreshold(threshold=0.0001)\n",
    "\n",
    "X_train_tfidf = selector.fit_transform(X_train_tfidf)\n",
    "X_test_tfidf = selector.transform(X_test_tfidf)\n",
    "feature_mask = selector.get_support()  \n",
    "feature_names = count_vectorizer.get_feature_names_out()\n",
    "reduced_feature_names = feature_names[feature_mask]\n",
    "\n",
    "X_train_tfidf_df = pd.DataFrame(X_train_tfidf.toarray(), columns=reduced_feature_names)\n",
    "X_test_tfidf_df =pd.DataFrame(X_test_tfidf.toarray(), columns=reduced_feature_names)\n",
    "\n",
    "X_train_tfidf_df.shape[1]"
   ]
  },
  {
   "cell_type": "markdown",
   "metadata": {},
   "source": [
    "#### Using the Processed Text without Lemmatization"
   ]
  },
  {
   "cell_type": "markdown",
   "metadata": {},
   "source": [
    "##### Word2Vec"
   ]
  },
  {
   "cell_type": "code",
   "execution_count": 27,
   "metadata": {},
   "outputs": [],
   "source": [
    "def get_average_vector(words, model):\n",
    "    word_vectors = [model.wv[word] for word in words if word in model.wv]\n",
    "    if not word_vectors:  # If no words are in the model's vocabulary\n",
    "        return np.zeros(model.vector_size)\n",
    "    return np.mean(word_vectors, axis=0)"
   ]
  },
  {
   "cell_type": "code",
   "execution_count": 28,
   "metadata": {},
   "outputs": [],
   "source": [
    "X_train['split_processed_text'] = X_train['processed_text'].apply(lambda x: x.split())\n",
    "X_test['split_processed_text'] = X_test['processed_text'].apply(lambda x: x.split())\n",
    "\n",
    "file_path = \"./models/word2vec/word2vec.model\"\n",
    "\n",
    "if os.path.exists(file_path):\n",
    "    word2vec_model = Word2Vec.load(file_path)\n",
    "else:\n",
    "    word2vec_model = Word2Vec(sentences=X_train[\"split_processed_text\"].tolist(), vector_size=100, window=5, min_count=1, workers=4)\n",
    "    word2vec_model.save(file_path)\n",
    "\n",
    "X_train_word2vec_embedding = X_train['split_processed_text'].apply(lambda x: get_average_vector(x, word2vec_model))\n",
    "X_test_word2vec_embedding = X_test['split_processed_text'].apply(lambda x: get_average_vector(x, word2vec_model))\n",
    "\n",
    "pd.DataFrame(X_train_word2vec_embedding)\n",
    "\n",
    "X_train_word2vec_df = pd.DataFrame(np.array(X_train_word2vec_embedding.tolist()))\n",
    "X_test_word2vec_df = pd.DataFrame(np.array(X_test_word2vec_embedding.tolist()))"
   ]
  },
  {
   "cell_type": "markdown",
   "metadata": {},
   "source": [
    "##### Sentence Transformers - MPNet"
   ]
  },
  {
   "cell_type": "code",
   "execution_count": 29,
   "metadata": {},
   "outputs": [],
   "source": [
    "file_path_train = \"./models/sentence_transformer/train_embeddings.npy\"\n",
    "file_path_test = \"./models/sentence_transformer/test_embeddings.npy\"\n",
    "\n",
    "# Check if the file exists\n",
    "if (os.path.exists(file_path_train) and os.path.exists(file_path_test)):\n",
    "    train_embeddings = np.load(file_path_train)\n",
    "    test_embeddings = np.load(file_path_test)\n",
    "else:\n",
    "    # Load the MPNet model\n",
    "    sentence_transformer_model = SentenceTransformer('all-mpnet-base-v2')\n",
    "\n",
    "    # Encode the texts\n",
    "    train_embeddings = sentence_transformer_model.encode(X_train[\"processed_text\"].tolist())\n",
    "    test_embeddings = sentence_transformer_model.encode(X_test[\"processed_text\"].tolist())\n",
    "\n",
    "    np.save(file_path_train, train_embeddings)\n",
    "    np.save(file_path_test, test_embeddings)\n",
    "\n",
    "X_train_st_df = pd.DataFrame(train_embeddings)\n",
    "X_test_st_df = pd.DataFrame(test_embeddings)"
   ]
  },
  {
   "cell_type": "markdown",
   "metadata": {},
   "source": [
    "## Post Processing Data Visualisation"
   ]
  },
  {
   "cell_type": "code",
   "execution_count": 30,
   "metadata": {},
   "outputs": [
    {
     "data": {
      "image/png": "[encoded data removed]",
      "text/plain": [
       "<Figure size 1800x1000 with 4 Axes>"
      ]
     },
     "metadata": {},
     "output_type": "display_data"
    }
   ],
   "source": [
    "X_train_combined = X_train.copy()\n",
    "X_train_combined['is_fraud_email'] = y_train\n",
    "\n",
    "year_fraud_counts = X_train_combined.groupby(['year', 'is_fraud_email']).size().reset_index(name='count')\n",
    "month_fraud_counts = X_train_combined.groupby(['month', 'is_fraud_email']).size().reset_index(name='count')\n",
    "day_fraud_counts = X_train_combined.groupby(['day', 'is_fraud_email']).size().reset_index(name='count')\n",
    "hour_fraud_counts = X_train_combined.groupby(['hour', 'is_fraud_email']).size().reset_index(name='count')\n",
    "\n",
    "fig, axs = plt.subplots(2, 2, figsize=(18, 10))\n",
    "\n",
    "sns.barplot(x='year', y='count', hue='is_fraud_email', data=year_fraud_counts, ax=axs[0, 0])\n",
    "axs[0, 0].set_title('Year vs Fraud Email Count')\n",
    "\n",
    "sns.barplot(x='month', y='count', hue='is_fraud_email', data=month_fraud_counts, ax=axs[0, 1])\n",
    "axs[0, 1].set_title('Month vs Fraud Email Count')\n",
    "\n",
    "sns.barplot(x='day', y='count', hue='is_fraud_email', data=day_fraud_counts, ax=axs[1, 0])\n",
    "axs[1, 0].set_title('Day vs Fraud Email Count')\n",
    "\n",
    "sns.barplot(x='hour', y='count', hue='is_fraud_email', data=hour_fraud_counts, ax=axs[1, 1])\n",
    "axs[1, 1].set_title('Hour vs Fraud Email Count')\n",
    "\n",
    "plt.tight_layout()\n",
    "plt.show()"
   ]
  },
  {
   "cell_type": "markdown",
   "metadata": {},
   "source": [
    "From the graphs above, we can see that there is a distinct difference in the distribution of `is_fraud_email` for `hour`, whereas the rest does not vary significantly in the distribution. Notably, there is a surge of emails in the year 2008, month of August and across the 5th to 8th of the month. "
   ]
  },
  {
   "cell_type": "markdown",
   "metadata": {},
   "source": [
    "## Feature Selection"
   ]
  },
  {
   "cell_type": "code",
   "execution_count": 31,
   "metadata": {},
   "outputs": [
    {
     "name": "stdout",
     "output_type": "stream",
     "text": [
      "<class 'pandas.core.frame.DataFrame'>\n",
      "Index: 28228 entries, 8651 to 17799\n",
      "Data columns (total 16 columns):\n",
      " #   Column                     Non-Null Count  Dtype              \n",
      "---  ------                     --------------  -----              \n",
      " 0   date                       28228 non-null  datetime64[ns, UTC]\n",
      " 1   subject                    28228 non-null  object             \n",
      " 2   body                       28228 non-null  object             \n",
      " 3   body_contains_url          28228 non-null  int64              \n",
      " 4   sender_name                28228 non-null  object             \n",
      " 5   sender_email               28228 non-null  object             \n",
      " 6   receiver_email             28228 non-null  object             \n",
      " 7   sender_domain              28228 non-null  object             \n",
      " 8   receiver_domain            28228 non-null  object             \n",
      " 9   year                       28228 non-null  int32              \n",
      " 10  month                      28228 non-null  int32              \n",
      " 11  day                        28228 non-null  int32              \n",
      " 12  hour                       28228 non-null  int32              \n",
      " 13  processed_text             28228 non-null  object             \n",
      " 14  processed_lemmatized_text  28228 non-null  object             \n",
      " 15  split_processed_text       28228 non-null  object             \n",
      "dtypes: datetime64[ns, UTC](1), int32(4), int64(1), object(10)\n",
      "memory usage: 4.2+ MB\n"
     ]
    }
   ],
   "source": [
    "X_train.info()"
   ]
  },
  {
   "cell_type": "code",
   "execution_count": 32,
   "metadata": {},
   "outputs": [],
   "source": [
    "# following our analysis, we will be keeping: \n",
    "#   body_contains_url, sender_domain (one-hot encoded), hour, body (the embedded text)\n",
    "# dropped receiver_domain as anyone could receive fraudulent emails?\n",
    "# TODO: Decide on what to do about subject\n",
    "X_train = X_train[[\"body_contains_url\", \"hour\"]]\n",
    "X_test = X_test[[\"body_contains_url\", \"hour\"]]\n",
    "\n",
    "X_train = X_train.reset_index(drop=True)\n",
    "X_train_sender_domain_df = X_train_sender_domain_df.reset_index(drop=True)\n",
    "X_test = X_test.reset_index(drop=True)\n",
    "X_test_sender_domain_df = X_test_sender_domain_df.reset_index(drop=True)\n",
    "\n",
    "# concatenate one-hot encoded sender_domain\n",
    "X_train = pd.concat([X_train, X_train_sender_domain_df], axis=1)\n",
    "X_test = pd.concat([X_test, X_test_sender_domain_df], axis=1)"
   ]
  },
  {
   "cell_type": "code",
   "execution_count": 33,
   "metadata": {},
   "outputs": [],
   "source": [
    "# concatenate body: bag of words\n",
    "X_train_bow_df = X_train_bow_df.reset_index(drop=True)\n",
    "X_test_bow_df = X_test_bow_df.reset_index(drop=True)\n",
    "\n",
    "X_train_body_bow = pd.concat([X_train, X_train_bow_df], axis=1)\n",
    "X_test_body_bow = pd.concat([X_test, X_test_bow_df], axis=1)"
   ]
  },
  {
   "cell_type": "code",
   "execution_count": 34,
   "metadata": {},
   "outputs": [],
   "source": [
    "# concatenate body: tfidf\n",
    "X_train_tfidf_df = X_train_tfidf_df.reset_index(drop=True)\n",
    "X_test_tfidf_df = X_test_tfidf_df.reset_index(drop=True)\n",
    "\n",
    "X_train_body_tfidf = pd.concat([X_train, X_train_tfidf_df], axis=1)\n",
    "X_test_body_tfidf = pd.concat([X_test, X_test_tfidf_df], axis=1)"
   ]
  },
  {
   "cell_type": "code",
   "execution_count": 35,
   "metadata": {},
   "outputs": [],
   "source": [
    "# concatenate body: word2vec\n",
    "X_train_word2vec_df = X_train_word2vec_df.reset_index(drop=True)\n",
    "X_test_word2vec_df = X_test_word2vec_df.reset_index(drop=True)\n",
    "\n",
    "X_train_body_word2vec = pd.concat([X_train, X_train_word2vec_df], axis=1)\n",
    "X_test_body_word2vec = pd.concat([X_test, X_test_word2vec_df], axis=1)"
   ]
  },
  {
   "cell_type": "code",
   "execution_count": 36,
   "metadata": {},
   "outputs": [],
   "source": [
    "# concatenate body: sentence transformers\n",
    "X_train_st_df = X_train_st_df.reset_index(drop=True)\n",
    "X_test_st_df = X_test_st_df.reset_index(drop=True)\n",
    "\n",
    "X_train_body_st = pd.concat([X_train, X_train_st_df], axis=1)\n",
    "X_test_body_st = pd.concat([X_test, X_test_st_df], axis=1)"
   ]
  },
  {
   "cell_type": "markdown",
   "metadata": {},
   "source": [
    "## Modelling"
   ]
  },
  {
   "cell_type": "code",
   "execution_count": 37,
   "metadata": {},
   "outputs": [],
   "source": [
    "def run_set(model_class, params=None):\n",
    "    def run_model(X_train, X_test):\n",
    "        model_params = params if params is not None else {}\n",
    "        model = model_class(**model_params)  # Pass any necessary parameters here\n",
    "        model.fit(X_train, y_train)\n",
    "        y_pred = model.predict(X_test)\n",
    "        accuracy = accuracy_score(y_test, y_pred)\n",
    "        report = classification_report(y_test, y_pred, output_dict=True)\n",
    "        return accuracy, report['Phishing Email']['f1-score'], report['Safe Email']['f1-score'] \n",
    "\n",
    "    results = []\n",
    "    \n",
    "    feature_sets = {\n",
    "        \"Bag of Words\": (X_train_body_bow, X_test_body_bow),\n",
    "        \"TF-IDF\": (X_train_body_tfidf, X_test_body_tfidf),\n",
    "        \"Word2Vec\": (X_train_body_word2vec, X_test_body_word2vec),\n",
    "        \"Sentence Transformer\": (X_train_body_st, X_test_body_st)\n",
    "    }\n",
    "\n",
    "    for feature_name, (X_train_feature, X_test_feature) in feature_sets.items():\n",
    "        accuracy, spam_f1, non_spam_f1 = run_model(X_train_feature, X_test_feature)\n",
    "        results.append({\n",
    "            \"Feature Set\": feature_name,\n",
    "            \"Accuracy\": accuracy,\n",
    "            \"Phishing Email F1 Score\": spam_f1,\n",
    "            \"Safe Email F1 Score\": non_spam_f1\n",
    "        })\n",
    "\n",
    "    return pd.DataFrame(results)"
   ]
  },
  {
   "cell_type": "markdown",
   "metadata": {},
   "source": [
    "# Support Vector Machine"
   ]
  },
  {
   "cell_type": "markdown",
   "metadata": {},
   "source": [
    "## Run Models Individually (SVM)"
   ]
  },
  {
   "cell_type": "markdown",
   "metadata": {},
   "source": [
    "### Bag of Words"
   ]
  },
  {
   "cell_type": "code",
   "execution_count": 38,
   "metadata": {},
   "outputs": [],
   "source": [
    "# # Step 1: Initialize the SVM classifier\n",
    "# svm_model = SVC(kernel='linear', random_state=1)\n",
    "\n",
    "# # Step 2: Train the SVM model\n",
    "# svm_model.fit(X_train_bow, y_train)\n",
    "\n",
    "# # Step 3: Make predictions on the test set\n",
    "# y_pred = svm_model.predict(X_test_bow)\n",
    "\n",
    "# # Step 4: Evaluate the model\n",
    "# print(\"Accuracy:\", accuracy_score(y_test, y_pred))\n",
    "# print(\"Classification Report:\\n\", classification_report(y_test, y_pred))\n"
   ]
  },
  {
   "cell_type": "markdown",
   "metadata": {},
   "source": [
    "### TF-IDF"
   ]
  },
  {
   "cell_type": "code",
   "execution_count": 39,
   "metadata": {},
   "outputs": [],
   "source": [
    "# # Step 1: Initialize the SVM classifier\n",
    "# svm_model = SVC(kernel='linear', random_state=1)\n",
    "\n",
    "# # Step 2: Train the SVM model\n",
    "# svm_model.fit(X_train_tfidf, y_train.values.ravel())  # Use ravel() to avoid issues with shape\n",
    "\n",
    "# # Step 3: Make predictions on the test set\n",
    "# y_pred = svm_model.predict(X_test_tfidf)\n",
    "\n",
    "# # Step 4: Evaluate the model\n",
    "# print(\"Accuracy:\", accuracy_score(y_test, y_pred))\n",
    "# print(\"Classification Report:\\n\", classification_report(y_test, y_pred))"
   ]
  },
  {
   "cell_type": "markdown",
   "metadata": {},
   "source": [
    "### Word2Vec"
   ]
  },
  {
   "cell_type": "code",
   "execution_count": 40,
   "metadata": {},
   "outputs": [],
   "source": [
    "# # Step 1: Convert the lists of embeddings to numpy arrays\n",
    "# X_train_word2vec = np.array(X_train_word2vec_embedding.tolist())\n",
    "# X_test_word2vec = np.array(X_test_word2vec_embedding.tolist())\n",
    "\n",
    "# # Step 2: Initialize the SVM classifier\n",
    "# svm_model = SVC(kernel='linear', random_state=1)\n",
    "\n",
    "# # Step 3: Train the SVM model\n",
    "# svm_model.fit(X_train_word2vec, y_train)\n",
    "\n",
    "# # Step 4: Make predictions on the test set\n",
    "# y_pred = svm_model.predict(X_test_word2vec)\n",
    "\n",
    "# # Step 7: Evaluate the model\n",
    "# print(\"Accuracy:\", accuracy_score(y_test, y_pred))\n",
    "# print(\"Classification Report:\\n\", classification_report(y_test, y_pred))\n"
   ]
  },
  {
   "cell_type": "markdown",
   "metadata": {},
   "source": [
    "### Sentence Transformer"
   ]
  },
  {
   "cell_type": "code",
   "execution_count": 41,
   "metadata": {},
   "outputs": [],
   "source": [
    "# # Step 1: Initialize the SVM classifier\n",
    "# svm_model = SVC(kernel='linear', random_state=1)\n",
    "\n",
    "# # Step 2: Train the SVM model\n",
    "# svm_model.fit(train_embeddings, y_train.values.ravel())  # Use ravel() to avoid issues with shape\n",
    "\n",
    "# # Step 3: Make predictions on the test set\n",
    "# y_pred = svm_model.predict(test_embeddings)\n",
    "\n",
    "# # Step 4: Evaluate the model\n",
    "# print(\"Accuracy:\", accuracy_score(y_test, y_pred))\n",
    "# print(\"Classification Report:\\n\", classification_report(y_test, y_pred))\n"
   ]
  },
  {
   "cell_type": "markdown",
   "metadata": {},
   "source": [
    "## Support Vector Machine (SVM)"
   ]
  },
  {
   "cell_type": "code",
   "execution_count": null,
   "metadata": {},
   "outputs": [
    {
     "name": "stderr",
     "output_type": "stream",
     "text": [
      "/Users/szeyinglim/Desktop/BT4012/Fraud-Email/.venv/lib/python3.11/site-packages/sklearn/utils/validation.py:1339: DataConversionWarning: A column-vector y was passed when a 1d array was expected. Please change the shape of y to (n_samples, ), for example using ravel().\n",
      "  y = column_or_1d(y, warn=True)\n"
     ]
    }
   ],
   "source": [
    "svc_params = {'random_state': SEED}\n",
    "svm = run_set(SVC, svc_params)\n",
    "svm"
   ]
  },
  {
   "cell_type": "markdown",
   "metadata": {},
   "source": [
    "# Random Forest"
   ]
  },
  {
   "cell_type": "markdown",
   "metadata": {},
   "source": [
    "## Run Models Individually (SVM)"
   ]
  },
  {
   "cell_type": "markdown",
   "metadata": {},
   "source": [
    "### Bag of Words"
   ]
  },
  {
   "cell_type": "code",
   "execution_count": 37,
   "metadata": {},
   "outputs": [
    {
     "name": "stderr",
     "output_type": "stream",
     "text": [
      "c:\\Users\\jinge\\Desktop\\BT4012\\Fraud-Email\\.venv\\lib\\site-packages\\sklearn\\base.py:1473: DataConversionWarning: A column-vector y was passed when a 1d array was expected. Please change the shape of y to (n_samples,), for example using ravel().\n",
      "  return fit_method(estimator, *args, **kwargs)\n"
     ]
    },
    {
     "name": "stdout",
     "output_type": "stream",
     "text": [
      "Accuracy: 0.9718\n",
      "Classification Report:\n",
      "                 precision    recall  f1-score   support\n",
      "\n",
      "Phishing Email       0.97      0.96      0.96      1311\n",
      "    Safe Email       0.97      0.98      0.98      2197\n",
      "\n",
      "      accuracy                           0.97      3508\n",
      "     macro avg       0.97      0.97      0.97      3508\n",
      "  weighted avg       0.97      0.97      0.97      3508\n",
      "\n"
     ]
    }
   ],
   "source": [
    "# # Step 1: Train the Random Forest model\n",
    "# rf_model = RandomForestClassifier(random_state=1)  # You can adjust hyperparameters as needed\n",
    "# rf_model.fit(X_train_bow, y_train)\n",
    "\n",
    "# # Step 2: Make predictions\n",
    "# y_pred = rf_model.predict(X_test_bow)\n",
    "\n",
    "# # Step 3: Evaluate the model\n",
    "# accuracy = accuracy_score(y_test, y_pred)\n",
    "# report = classification_report(y_test, y_pred)\n",
    "\n",
    "# # Print results\n",
    "# print(f\"Accuracy: {accuracy:.4f}\")\n",
    "# print(\"Classification Report:\\n\", report)"
   ]
  },
  {
   "cell_type": "markdown",
   "metadata": {},
   "source": [
    "### TF-IDF"
   ]
  },
  {
   "cell_type": "code",
   "execution_count": 38,
   "metadata": {},
   "outputs": [
    {
     "name": "stderr",
     "output_type": "stream",
     "text": [
      "c:\\Users\\jinge\\Desktop\\BT4012\\Fraud-Email\\.venv\\lib\\site-packages\\sklearn\\base.py:1473: DataConversionWarning: A column-vector y was passed when a 1d array was expected. Please change the shape of y to (n_samples,), for example using ravel().\n",
      "  return fit_method(estimator, *args, **kwargs)\n"
     ]
    },
    {
     "name": "stdout",
     "output_type": "stream",
     "text": [
      "Accuracy: 0.9729\n",
      "Classification Report:\n",
      "                 precision    recall  f1-score   support\n",
      "\n",
      "Phishing Email       0.97      0.95      0.96      1311\n",
      "    Safe Email       0.97      0.98      0.98      2197\n",
      "\n",
      "      accuracy                           0.97      3508\n",
      "     macro avg       0.97      0.97      0.97      3508\n",
      "  weighted avg       0.97      0.97      0.97      3508\n",
      "\n"
     ]
    }
   ],
   "source": [
    "# # Step 1: Train the Random Forest model\n",
    "# rf_model = RandomForestClassifier(random_state=1)  # You can adjust hyperparameters as needed\n",
    "# rf_model.fit(X_train_tfidf, y_train)\n",
    "\n",
    "# # Step 2: Make predictions\n",
    "# y_pred = rf_model.predict(X_test_tfidf)\n",
    "\n",
    "# # Step 3: Evaluate the model\n",
    "# accuracy = accuracy_score(y_test, y_pred)\n",
    "# report = classification_report(y_test, y_pred)\n",
    "\n",
    "# # Print results\n",
    "# print(f\"Accuracy: {accuracy:.4f}\")\n",
    "# print(\"Classification Report:\\n\", report)"
   ]
  },
  {
   "cell_type": "markdown",
   "metadata": {},
   "source": [
    "### Word2Vec"
   ]
  },
  {
   "cell_type": "code",
   "execution_count": 39,
   "metadata": {},
   "outputs": [
    {
     "name": "stderr",
     "output_type": "stream",
     "text": [
      "c:\\Users\\jinge\\Desktop\\BT4012\\Fraud-Email\\.venv\\lib\\site-packages\\sklearn\\base.py:1473: DataConversionWarning: A column-vector y was passed when a 1d array was expected. Please change the shape of y to (n_samples,), for example using ravel().\n",
      "  return fit_method(estimator, *args, **kwargs)\n"
     ]
    },
    {
     "name": "stdout",
     "output_type": "stream",
     "text": [
      "Accuracy: 0.9624\n",
      "Classification Report:\n",
      "                 precision    recall  f1-score   support\n",
      "\n",
      "Phishing Email       0.96      0.94      0.95      1311\n",
      "    Safe Email       0.97      0.97      0.97      2197\n",
      "\n",
      "      accuracy                           0.96      3508\n",
      "     macro avg       0.96      0.96      0.96      3508\n",
      "  weighted avg       0.96      0.96      0.96      3508\n",
      "\n"
     ]
    }
   ],
   "source": [
    "# # Step 1: Train the Random Forest model\n",
    "# rf_model = RandomForestClassifier(random_state=1)  # You can adjust hyperparameters as needed\n",
    "# rf_model.fit(X_train_word2vec, y_train)\n",
    "\n",
    "# # Step 2: Make predictions\n",
    "# y_pred = rf_model.predict(X_test_word2vec)\n",
    "\n",
    "# # Step 3: Evaluate the model\n",
    "# accuracy = accuracy_score(y_test, y_pred)\n",
    "# report = classification_report(y_test, y_pred)\n",
    "\n",
    "# # Print results\n",
    "# print(f\"Accuracy: {accuracy:.4f}\")\n",
    "# print(\"Classification Report:\\n\", report)"
   ]
  },
  {
   "cell_type": "markdown",
   "metadata": {},
   "source": [
    "### Sentence Transformer"
   ]
  },
  {
   "cell_type": "code",
   "execution_count": 40,
   "metadata": {},
   "outputs": [
    {
     "name": "stderr",
     "output_type": "stream",
     "text": [
      "c:\\Users\\jinge\\Desktop\\BT4012\\Fraud-Email\\.venv\\lib\\site-packages\\sklearn\\base.py:1473: DataConversionWarning: A column-vector y was passed when a 1d array was expected. Please change the shape of y to (n_samples,), for example using ravel().\n",
      "  return fit_method(estimator, *args, **kwargs)\n"
     ]
    },
    {
     "name": "stdout",
     "output_type": "stream",
     "text": [
      "Accuracy: 0.9438\n",
      "Classification Report:\n",
      "                 precision    recall  f1-score   support\n",
      "\n",
      "Phishing Email       0.97      0.88      0.92      1311\n",
      "    Safe Email       0.93      0.98      0.96      2197\n",
      "\n",
      "      accuracy                           0.94      3508\n",
      "     macro avg       0.95      0.93      0.94      3508\n",
      "  weighted avg       0.95      0.94      0.94      3508\n",
      "\n"
     ]
    }
   ],
   "source": [
    "# # Step 1: Train the Random Forest model\n",
    "# rf_model = RandomForestClassifier(random_state=1)  # You can adjust hyperparameters as needed\n",
    "# rf_model.fit(train_embeddings, y_train)\n",
    "\n",
    "# # Step 2: Make predictions\n",
    "# y_pred = rf_model.predict(test_embeddings)\n",
    "\n",
    "# # Step 3: Evaluate the model\n",
    "# accuracy = accuracy_score(y_test, y_pred)\n",
    "# report = classification_report(y_test, y_pred)\n",
    "\n",
    "# # Print results\n",
    "# print(f\"Accuracy: {accuracy:.4f}\")\n",
    "# print(\"Classification Report:\\n\", report)"
   ]
  },
  {
   "cell_type": "markdown",
   "metadata": {},
   "source": [
    "## Run all (Random Forest)"
   ]
  },
  {
   "cell_type": "code",
   "execution_count": 84,
   "metadata": {},
   "outputs": [
    {
     "name": "stdout",
     "output_type": "stream",
     "text": [
      "            Feature Set  Accuracy  Phishing Email F1 Score  \\\n",
      "0          Bag of Words  0.970353                 0.959969   \n",
      "1                TF-IDF  0.972064                 0.962074   \n",
      "2              Word2Vec  0.962942                 0.950038   \n",
      "3  Sentence Transformer  0.941277                 0.917069   \n",
      "\n",
      "   Safe Email F1 Score  \n",
      "0             0.976460  \n",
      "1             0.977888  \n",
      "2             0.970548  \n",
      "3             0.954545  \n"
     ]
    }
   ],
   "source": [
    "from sklearn.ensemble import RandomForestClassifier\n",
    "\n",
    "# Step 1: Collect results\n",
    "results = []\n",
    "\n",
    "# Step 2: Define a function to train Random Forest and evaluate\n",
    "def run_random_forest(X_train, X_test, y_train, y_test, feature_name):\n",
    "    rf_model = RandomForestClassifier(random_state=1)  # You can adjust hyperparameters as needed\n",
    "    rf_model.fit(X_train, y_train.values.ravel())\n",
    "    y_pred = rf_model.predict(X_test)\n",
    "    \n",
    "    accuracy = accuracy_score(y_test, y_pred)\n",
    "    report = classification_report(y_test, y_pred, output_dict=True)\n",
    "    return accuracy, report['1']['f1-score'], report['0']['f1-score']  # Adjust 'Phishing Email'/'Safe Email' according to your labels\n",
    "\n",
    "# Run Random Forest for each feature set\n",
    "feature_sets = {\n",
    "    \"Bag of Words\": (X_train_bow, X_test_bow),\n",
    "    \"TF-IDF\": (X_train_tfidf, X_test_tfidf),\n",
    "    \"Word2Vec\": (X_train_word2vec, X_test_word2vec),\n",
    "    \"Sentence Transformer\": (train_embeddings, test_embeddings)\n",
    "}\n",
    "\n",
    "for feature_name, (X_train_feature, X_test_feature) in feature_sets.items():\n",
    "    accuracy, phishing_f1, safe_f1 = run_random_forest(X_train_feature, X_test_feature, y_train, y_test, feature_name)\n",
    "    results.append({\n",
    "        \"Feature Set\": feature_name,\n",
    "        \"Accuracy\": accuracy,\n",
    "        \"Phishing Email F1 Score\": phishing_f1,\n",
    "        \"Safe Email F1 Score\": safe_f1\n",
    "    })\n",
    "\n",
    "# Step 3: Create a DataFrame to represent the results\n",
    "results_df = pd.DataFrame(results)\n",
    "\n",
    "# Step 4: Display the results\n",
    "print(results_df)\n"
   ]
  },
  {
   "cell_type": "code",
   "execution_count": 85,
   "metadata": {},
   "outputs": [
    {
     "data": {
      "text/html": [
       "<div>\n",
       "<style scoped>\n",
       "    .dataframe tbody tr th:only-of-type {\n",
       "        vertical-align: middle;\n",
       "    }\n",
       "\n",
       "    .dataframe tbody tr th {\n",
       "        vertical-align: top;\n",
       "    }\n",
       "\n",
       "    .dataframe thead th {\n",
       "        text-align: right;\n",
       "    }\n",
       "</style>\n",
       "<table border=\"1\" class=\"dataframe\">\n",
       "  <thead>\n",
       "    <tr style=\"text-align: right;\">\n",
       "      <th></th>\n",
       "      <th>Feature Set</th>\n",
       "      <th>Accuracy</th>\n",
       "      <th>Phishing Email F1 Score</th>\n",
       "      <th>Safe Email F1 Score</th>\n",
       "    </tr>\n",
       "  </thead>\n",
       "  <tbody>\n",
       "    <tr>\n",
       "      <th>0</th>\n",
       "      <td>Bag of Words</td>\n",
       "      <td>0.970353</td>\n",
       "      <td>0.959969</td>\n",
       "      <td>0.976460</td>\n",
       "    </tr>\n",
       "    <tr>\n",
       "      <th>1</th>\n",
       "      <td>TF-IDF</td>\n",
       "      <td>0.972064</td>\n",
       "      <td>0.962074</td>\n",
       "      <td>0.977888</td>\n",
       "    </tr>\n",
       "    <tr>\n",
       "      <th>2</th>\n",
       "      <td>Word2Vec</td>\n",
       "      <td>0.962942</td>\n",
       "      <td>0.950038</td>\n",
       "      <td>0.970548</td>\n",
       "    </tr>\n",
       "    <tr>\n",
       "      <th>3</th>\n",
       "      <td>Sentence Transformer</td>\n",
       "      <td>0.941277</td>\n",
       "      <td>0.917069</td>\n",
       "      <td>0.954545</td>\n",
       "    </tr>\n",
       "  </tbody>\n",
       "</table>\n",
       "</div>"
      ],
      "text/plain": [
       "            Feature Set  Accuracy  Phishing Email F1 Score  \\\n",
       "0          Bag of Words  0.970353                 0.959969   \n",
       "1                TF-IDF  0.972064                 0.962074   \n",
       "2              Word2Vec  0.962942                 0.950038   \n",
       "3  Sentence Transformer  0.941277                 0.917069   \n",
       "\n",
       "   Safe Email F1 Score  \n",
       "0             0.976460  \n",
       "1             0.977888  \n",
       "2             0.970548  \n",
       "3             0.954545  "
      ]
     },
     "execution_count": 85,
     "metadata": {},
     "output_type": "execute_result"
    }
   ],
   "source": [
    "results_df"
   ]
  },
  {
   "cell_type": "markdown",
   "metadata": {},
   "source": [
    "# XGBoost"
   ]
  },
  {
   "cell_type": "markdown",
   "metadata": {},
   "source": [
    "## Run Models Individually (XGBoost)"
   ]
  },
  {
   "cell_type": "code",
   "execution_count": 72,
   "metadata": {},
   "outputs": [],
   "source": [
    "from xgboost import XGBClassifier"
   ]
  },
  {
   "cell_type": "markdown",
   "metadata": {},
   "source": [
    "### Bag of Words"
   ]
  },
  {
   "cell_type": "code",
   "execution_count": 78,
   "metadata": {},
   "outputs": [
    {
     "ename": "ValueError",
     "evalue": "Invalid classes inferred from unique values of `y`.  Expected: [0 1], got ['Phishing Email' 'Safe Email']",
     "output_type": "error",
     "traceback": [
      "\u001b[1;31m---------------------------------------------------------------------------\u001b[0m",
      "\u001b[1;31mValueError\u001b[0m                                Traceback (most recent call last)",
      "Cell \u001b[1;32mIn[78], line 5\u001b[0m\n\u001b[0;32m      2\u001b[0m xgb_model \u001b[38;5;241m=\u001b[39m XGBClassifier(use_label_encoder \u001b[38;5;241m=\u001b[39m \u001b[38;5;28;01mTrue\u001b[39;00m, eval_metric\u001b[38;5;241m=\u001b[39m\u001b[38;5;124m'\u001b[39m\u001b[38;5;124mmlogloss\u001b[39m\u001b[38;5;124m'\u001b[39m, random_state\u001b[38;5;241m=\u001b[39m\u001b[38;5;241m1\u001b[39m)\n\u001b[0;32m      4\u001b[0m \u001b[38;5;66;03m# Step 2: Train the model\u001b[39;00m\n\u001b[1;32m----> 5\u001b[0m \u001b[43mxgb_model\u001b[49m\u001b[38;5;241;43m.\u001b[39;49m\u001b[43mfit\u001b[49m\u001b[43m(\u001b[49m\u001b[43mX_train_bow\u001b[49m\u001b[43m,\u001b[49m\u001b[43m \u001b[49m\u001b[43my_train\u001b[49m\u001b[43m)\u001b[49m\n\u001b[0;32m      7\u001b[0m \u001b[38;5;66;03m# # Step 3: Make predictions on the test set\u001b[39;00m\n\u001b[0;32m      8\u001b[0m y_pred \u001b[38;5;241m=\u001b[39m xgb_model\u001b[38;5;241m.\u001b[39mpredict(X_test_bow)\n",
      "File \u001b[1;32mc:\\Users\\jinge\\Desktop\\BT4012\\Fraud-Email\\.venv\\lib\\site-packages\\xgboost\\core.py:726\u001b[0m, in \u001b[0;36mrequire_keyword_args.<locals>.throw_if.<locals>.inner_f\u001b[1;34m(*args, **kwargs)\u001b[0m\n\u001b[0;32m    724\u001b[0m \u001b[38;5;28;01mfor\u001b[39;00m k, arg \u001b[38;5;129;01min\u001b[39;00m \u001b[38;5;28mzip\u001b[39m(sig\u001b[38;5;241m.\u001b[39mparameters, args):\n\u001b[0;32m    725\u001b[0m     kwargs[k] \u001b[38;5;241m=\u001b[39m arg\n\u001b[1;32m--> 726\u001b[0m \u001b[38;5;28;01mreturn\u001b[39;00m func(\u001b[38;5;241m*\u001b[39m\u001b[38;5;241m*\u001b[39mkwargs)\n",
      "File \u001b[1;32mc:\\Users\\jinge\\Desktop\\BT4012\\Fraud-Email\\.venv\\lib\\site-packages\\xgboost\\sklearn.py:1491\u001b[0m, in \u001b[0;36mXGBClassifier.fit\u001b[1;34m(self, X, y, sample_weight, base_margin, eval_set, verbose, xgb_model, sample_weight_eval_set, base_margin_eval_set, feature_weights)\u001b[0m\n\u001b[0;32m   1486\u001b[0m     expected_classes \u001b[38;5;241m=\u001b[39m \u001b[38;5;28mself\u001b[39m\u001b[38;5;241m.\u001b[39mclasses_\n\u001b[0;32m   1487\u001b[0m \u001b[38;5;28;01mif\u001b[39;00m (\n\u001b[0;32m   1488\u001b[0m     classes\u001b[38;5;241m.\u001b[39mshape \u001b[38;5;241m!=\u001b[39m expected_classes\u001b[38;5;241m.\u001b[39mshape\n\u001b[0;32m   1489\u001b[0m     \u001b[38;5;129;01mor\u001b[39;00m \u001b[38;5;129;01mnot\u001b[39;00m (classes \u001b[38;5;241m==\u001b[39m expected_classes)\u001b[38;5;241m.\u001b[39mall()\n\u001b[0;32m   1490\u001b[0m ):\n\u001b[1;32m-> 1491\u001b[0m     \u001b[38;5;28;01mraise\u001b[39;00m \u001b[38;5;167;01mValueError\u001b[39;00m(\n\u001b[0;32m   1492\u001b[0m         \u001b[38;5;124mf\u001b[39m\u001b[38;5;124m\"\u001b[39m\u001b[38;5;124mInvalid classes inferred from unique values of `y`.  \u001b[39m\u001b[38;5;124m\"\u001b[39m\n\u001b[0;32m   1493\u001b[0m         \u001b[38;5;124mf\u001b[39m\u001b[38;5;124m\"\u001b[39m\u001b[38;5;124mExpected: \u001b[39m\u001b[38;5;132;01m{\u001b[39;00mexpected_classes\u001b[38;5;132;01m}\u001b[39;00m\u001b[38;5;124m, got \u001b[39m\u001b[38;5;132;01m{\u001b[39;00mclasses\u001b[38;5;132;01m}\u001b[39;00m\u001b[38;5;124m\"\u001b[39m\n\u001b[0;32m   1494\u001b[0m     )\n\u001b[0;32m   1496\u001b[0m params \u001b[38;5;241m=\u001b[39m \u001b[38;5;28mself\u001b[39m\u001b[38;5;241m.\u001b[39mget_xgb_params()\n\u001b[0;32m   1498\u001b[0m \u001b[38;5;28;01mif\u001b[39;00m \u001b[38;5;28mcallable\u001b[39m(\u001b[38;5;28mself\u001b[39m\u001b[38;5;241m.\u001b[39mobjective):\n",
      "\u001b[1;31mValueError\u001b[0m: Invalid classes inferred from unique values of `y`.  Expected: [0 1], got ['Phishing Email' 'Safe Email']"
     ]
    }
   ],
   "source": [
    "# Step 1: Initialize the XGBoost classifier\n",
    "xgb_model = XGBClassifier(use_label_encoder = True, eval_metric='mlogloss', random_state=1)\n",
    "\n",
    "# Step 2: Train the model\n",
    "xgb_model.fit(X_train_bow, y_train)\n",
    "\n",
    "# # Step 3: Make predictions on the test set\n",
    "y_pred = xgb_model.predict(X_test_bow)\n",
    "\n",
    "# # Step 4: Evaluate the model\n",
    "print(\"Accuracy:\", accuracy_score(y_test, y_pred))\n",
    "print(\"Classification Report:\\n\", classification_report(y_test, y_pred))"
   ]
  },
  {
   "cell_type": "markdown",
   "metadata": {},
   "source": [
    "### TF-IDF"
   ]
  },
  {
   "cell_type": "code",
   "execution_count": 73,
   "metadata": {},
   "outputs": [
    {
     "name": "stdout",
     "output_type": "stream",
     "text": [
      "Accuracy: 0.9632269099201825\n",
      "Classification Report:\n",
      "               precision    recall  f1-score   support\n",
      "\n",
      "           0       0.97      0.97      0.97      2197\n",
      "           1       0.95      0.95      0.95      1311\n",
      "\n",
      "    accuracy                           0.96      3508\n",
      "   macro avg       0.96      0.96      0.96      3508\n",
      "weighted avg       0.96      0.96      0.96      3508\n",
      "\n"
     ]
    }
   ],
   "source": [
    "# Step 1: Initialize the XGBoost classifier\n",
    "xgb_model = XGBClassifier(eval_metric='mlogloss', random_state=1)\n",
    "\n",
    "# Step 2: Train the model\n",
    "xgb_model.fit(X_train_tfidf, y_train)\n",
    "\n",
    "# # Step 3: Make predictions on the test set\n",
    "y_pred = xgb_model.predict(X_test_tfidf)\n",
    "\n",
    "# # Step 4: Evaluate the model\n",
    "print(\"Accuracy:\", accuracy_score(y_test, y_pred))\n",
    "print(\"Classification Report:\\n\", classification_report(y_test, y_pred))"
   ]
  },
  {
   "cell_type": "markdown",
   "metadata": {},
   "source": [
    "### Word2Vec"
   ]
  },
  {
   "cell_type": "code",
   "execution_count": 74,
   "metadata": {},
   "outputs": [
    {
     "name": "stdout",
     "output_type": "stream",
     "text": [
      "Accuracy: 0.9692132269099202\n",
      "Classification Report:\n",
      "               precision    recall  f1-score   support\n",
      "\n",
      "           0       0.97      0.98      0.98      2197\n",
      "           1       0.96      0.96      0.96      1311\n",
      "\n",
      "    accuracy                           0.97      3508\n",
      "   macro avg       0.97      0.97      0.97      3508\n",
      "weighted avg       0.97      0.97      0.97      3508\n",
      "\n"
     ]
    }
   ],
   "source": [
    "# Step 1: Initialize the XGBoost classifier\n",
    "xgb_model = XGBClassifier(eval_metric='mlogloss', random_state=1)\n",
    "\n",
    "# Step 2: Train the model\n",
    "xgb_model.fit(X_train_word2vec, y_train)\n",
    "\n",
    "# # Step 3: Make predictions on the test set\n",
    "y_pred = xgb_model.predict(X_test_word2vec)\n",
    "\n",
    "# # Step 4: Evaluate the model\n",
    "print(\"Accuracy:\", accuracy_score(y_test, y_pred))\n",
    "print(\"Classification Report:\\n\", classification_report(y_test, y_pred))"
   ]
  },
  {
   "cell_type": "markdown",
   "metadata": {},
   "source": [
    "### Sentence Transformer"
   ]
  },
  {
   "cell_type": "code",
   "execution_count": 75,
   "metadata": {},
   "outputs": [
    {
     "name": "stdout",
     "output_type": "stream",
     "text": [
      "Accuracy: 0.9620866590649944\n",
      "Classification Report:\n",
      "               precision    recall  f1-score   support\n",
      "\n",
      "           0       0.96      0.98      0.97      2197\n",
      "           1       0.96      0.94      0.95      1311\n",
      "\n",
      "    accuracy                           0.96      3508\n",
      "   macro avg       0.96      0.96      0.96      3508\n",
      "weighted avg       0.96      0.96      0.96      3508\n",
      "\n"
     ]
    }
   ],
   "source": [
    "# Step 1: Initialize the XGBoost classifier\n",
    "xgb_model = XGBClassifier(eval_metric='mlogloss', random_state=1)\n",
    "\n",
    "# Step 2: Train the model\n",
    "xgb_model.fit(train_embeddings, y_train)\n",
    "\n",
    "# # Step 3: Make predictions on the test set\n",
    "y_pred = xgb_model.predict(test_embeddings)\n",
    "\n",
    "# # Step 4: Evaluate the model\n",
    "print(\"Accuracy:\", accuracy_score(y_test, y_pred))\n",
    "print(\"Classification Report:\\n\", classification_report(y_test, y_pred))"
   ]
  },
  {
   "cell_type": "markdown",
   "metadata": {},
   "source": [
    "## Run all (XGBoost)"
   ]
  },
  {
   "cell_type": "code",
   "execution_count": 81,
   "metadata": {},
   "outputs": [
    {
     "name": "stdout",
     "output_type": "stream",
     "text": [
      "            Feature Set  Accuracy  Phishing Email F1 Score  \\\n",
      "0          Bag of Words  0.968928                 0.958696   \n",
      "1                TF-IDF  0.963227                 0.951006   \n",
      "2              Word2Vec  0.969213                 0.958747   \n",
      "3  Sentence Transformer  0.962087                 0.948668   \n",
      "\n",
      "   Safe Email F1 Score  \n",
      "0             0.975097  \n",
      "1             0.970568  \n",
      "2             0.975443  \n",
      "3             0.969944  \n"
     ]
    }
   ],
   "source": [
    "from xgboost import XGBClassifier\n",
    "\n",
    "# Step 1: Collect results\n",
    "results = []\n",
    "\n",
    "# Step 2: Define a function to train XGBoost and evaluate\n",
    "def run_xgboost(X_train, X_test, y_train, y_test, feature_name):\n",
    "    xgb_model = XGBClassifier(eval_metric='mlogloss', random_state=1)\n",
    "    xgb_model.fit(X_train, y_train.values.ravel())\n",
    "    y_pred = xgb_model.predict(X_test)\n",
    "    \n",
    "    accuracy = accuracy_score(y_test, y_pred)\n",
    "    report = classification_report(y_test, y_pred, output_dict=True)\n",
    "    return accuracy, report['1']['f1-score'], report['0']['f1-score']  # Adjust 'Phishing Email'/'Safe Email' according to your labels\n",
    "\n",
    "# Run XGBoost for each feature set\n",
    "feature_sets = {\n",
    "    \"Bag of Words\": (X_train_bow, X_test_bow),\n",
    "    \"TF-IDF\": (X_train_tfidf, X_test_tfidf),\n",
    "    \"Word2Vec\": (X_train_word2vec, X_test_word2vec),\n",
    "    \"Sentence Transformer\": (train_embeddings, test_embeddings)\n",
    "}\n",
    "\n",
    "for feature_name, (X_train_feature, X_test_feature) in feature_sets.items():\n",
    "    accuracy, phishing_f1, safe_f1 = run_xgboost(X_train_feature, X_test_feature, y_train, y_test, feature_name)\n",
    "    results.append({\n",
    "        \"Feature Set\": feature_name,\n",
    "        \"Accuracy\": accuracy,\n",
    "        \"Phishing Email F1 Score\": phishing_f1,\n",
    "        \"Safe Email F1 Score\": safe_f1\n",
    "    })\n",
    "\n",
    "# Step 3: Create a DataFrame to represent the results\n",
    "results_df = pd.DataFrame(results)\n",
    "\n",
    "# Step 4: Display the results\n",
    "print(results_df)\n"
   ]
  },
  {
   "cell_type": "code",
   "execution_count": 82,
   "metadata": {},
   "outputs": [
    {
     "data": {
      "text/html": [
       "<div>\n",
       "<style scoped>\n",
       "    .dataframe tbody tr th:only-of-type {\n",
       "        vertical-align: middle;\n",
       "    }\n",
       "\n",
       "    .dataframe tbody tr th {\n",
       "        vertical-align: top;\n",
       "    }\n",
       "\n",
       "    .dataframe thead th {\n",
       "        text-align: right;\n",
       "    }\n",
       "</style>\n",
       "<table border=\"1\" class=\"dataframe\">\n",
       "  <thead>\n",
       "    <tr style=\"text-align: right;\">\n",
       "      <th></th>\n",
       "      <th>Feature Set</th>\n",
       "      <th>Accuracy</th>\n",
       "      <th>Phishing Email F1 Score</th>\n",
       "      <th>Safe Email F1 Score</th>\n",
       "    </tr>\n",
       "  </thead>\n",
       "  <tbody>\n",
       "    <tr>\n",
       "      <th>0</th>\n",
       "      <td>Bag of Words</td>\n",
       "      <td>0.968928</td>\n",
       "      <td>0.958696</td>\n",
       "      <td>0.975097</td>\n",
       "    </tr>\n",
       "    <tr>\n",
       "      <th>1</th>\n",
       "      <td>TF-IDF</td>\n",
       "      <td>0.963227</td>\n",
       "      <td>0.951006</td>\n",
       "      <td>0.970568</td>\n",
       "    </tr>\n",
       "    <tr>\n",
       "      <th>2</th>\n",
       "      <td>Word2Vec</td>\n",
       "      <td>0.969213</td>\n",
       "      <td>0.958747</td>\n",
       "      <td>0.975443</td>\n",
       "    </tr>\n",
       "    <tr>\n",
       "      <th>3</th>\n",
       "      <td>Sentence Transformer</td>\n",
       "      <td>0.962087</td>\n",
       "      <td>0.948668</td>\n",
       "      <td>0.969944</td>\n",
       "    </tr>\n",
       "  </tbody>\n",
       "</table>\n",
       "</div>"
      ],
      "text/plain": [
       "            Feature Set  Accuracy  Phishing Email F1 Score  \\\n",
       "0          Bag of Words  0.968928                 0.958696   \n",
       "1                TF-IDF  0.963227                 0.951006   \n",
       "2              Word2Vec  0.969213                 0.958747   \n",
       "3  Sentence Transformer  0.962087                 0.948668   \n",
       "\n",
       "   Safe Email F1 Score  \n",
       "0             0.975097  \n",
       "1             0.970568  \n",
       "2             0.975443  \n",
       "3             0.969944  "
      ]
     },
     "execution_count": 82,
     "metadata": {},
     "output_type": "execute_result"
    }
   ],
   "source": [
    "results_df"
   ]
  }
 ],
 "metadata": {
  "kernelspec": {
   "display_name": ".venv",
   "language": "python",
   "name": "python3"
  },
  "language_info": {
   "codemirror_mode": {
    "name": "ipython",
    "version": 3
   },
   "file_extension": ".py",
   "mimetype": "text/x-python",
   "name": "python",
   "nbconvert_exporter": "python",
   "pygments_lexer": "ipython3",
   "version": "3.11.6"
  }
 },
 "nbformat": 4,
 "nbformat_minor": 2
}
